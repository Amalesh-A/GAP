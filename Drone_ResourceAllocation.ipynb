{
  "cells": [
    {
      "cell_type": "markdown",
      "metadata": {
        "id": "view-in-github",
        "colab_type": "text"
      },
      "source": [
        "<a href=\"https://colab.research.google.com/github/Amalesh-A/GAP/blob/main/Drone_ResourceAllocation.ipynb\" target=\"_parent\"><img src=\"https://colab.research.google.com/assets/colab-badge.svg\" alt=\"Open In Colab\"/></a>"
      ]
    },
    {
      "cell_type": "markdown",
      "metadata": {
        "id": "iQIU0G7MBjlW"
      },
      "source": [
        "\n",
        "\n",
        "---\n",
        "\n",
        "\n",
        "Install necessary packages\n",
        "\n",
        "---\n",
        "\n"
      ]
    },
    {
      "cell_type": "code",
      "execution_count": null,
      "metadata": {
        "colab": {
          "base_uri": "https://localhost:8080/"
        },
        "id": "cJJaldV1_hrs",
        "outputId": "480e5b18-8521-47cd-b1a4-c9689fc7d46e"
      },
      "outputs": [
        {
          "name": "stdout",
          "output_type": "stream",
          "text": [
            "Requirement already satisfied: matplotlib in /usr/local/lib/python3.10/dist-packages (3.7.1)\n",
            "Requirement already satisfied: contourpy>=1.0.1 in /usr/local/lib/python3.10/dist-packages (from matplotlib) (1.2.1)\n",
            "Requirement already satisfied: cycler>=0.10 in /usr/local/lib/python3.10/dist-packages (from matplotlib) (0.12.1)\n",
            "Requirement already satisfied: fonttools>=4.22.0 in /usr/local/lib/python3.10/dist-packages (from matplotlib) (4.51.0)\n",
            "Requirement already satisfied: kiwisolver>=1.0.1 in /usr/local/lib/python3.10/dist-packages (from matplotlib) (1.4.5)\n",
            "Requirement already satisfied: numpy>=1.20 in /usr/local/lib/python3.10/dist-packages (from matplotlib) (1.25.2)\n",
            "Requirement already satisfied: packaging>=20.0 in /usr/local/lib/python3.10/dist-packages (from matplotlib) (24.0)\n",
            "Requirement already satisfied: pillow>=6.2.0 in /usr/local/lib/python3.10/dist-packages (from matplotlib) (9.4.0)\n",
            "Requirement already satisfied: pyparsing>=2.3.1 in /usr/local/lib/python3.10/dist-packages (from matplotlib) (3.1.2)\n",
            "Requirement already satisfied: python-dateutil>=2.7 in /usr/local/lib/python3.10/dist-packages (from matplotlib) (2.8.2)\n",
            "Requirement already satisfied: six>=1.5 in /usr/local/lib/python3.10/dist-packages (from python-dateutil>=2.7->matplotlib) (1.16.0)\n"
          ]
        }
      ],
      "source": [
        "pip install matplotlib"
      ]
    },
    {
      "cell_type": "code",
      "execution_count": null,
      "metadata": {
        "colab": {
          "base_uri": "https://localhost:8080/"
        },
        "id": "lZT08kYF_hmW",
        "outputId": "9d596bb5-7458-4139-e8ff-42927f9db1f7"
      },
      "outputs": [
        {
          "name": "stdout",
          "output_type": "stream",
          "text": [
            "Requirement already satisfied: pandas in /usr/local/lib/python3.10/dist-packages (2.0.3)\n",
            "Requirement already satisfied: python-dateutil>=2.8.2 in /usr/local/lib/python3.10/dist-packages (from pandas) (2.8.2)\n",
            "Requirement already satisfied: pytz>=2020.1 in /usr/local/lib/python3.10/dist-packages (from pandas) (2023.4)\n",
            "Requirement already satisfied: tzdata>=2022.1 in /usr/local/lib/python3.10/dist-packages (from pandas) (2024.1)\n",
            "Requirement already satisfied: numpy>=1.21.0 in /usr/local/lib/python3.10/dist-packages (from pandas) (1.25.2)\n",
            "Requirement already satisfied: six>=1.5 in /usr/local/lib/python3.10/dist-packages (from python-dateutil>=2.8.2->pandas) (1.16.0)\n"
          ]
        }
      ],
      "source": [
        "pip install pandas"
      ]
    },
    {
      "cell_type": "code",
      "execution_count": null,
      "metadata": {
        "colab": {
          "base_uri": "https://localhost:8080/"
        },
        "id": "FSRh2ATy_hgz",
        "outputId": "85a443d1-6109-4fc3-aa77-bed0d433b7be"
      },
      "outputs": [
        {
          "name": "stdout",
          "output_type": "stream",
          "text": [
            "Requirement already satisfied: cvxopt in /usr/local/lib/python3.10/dist-packages (1.3.2)\n"
          ]
        }
      ],
      "source": [
        "pip install cvxopt"
      ]
    },
    {
      "cell_type": "code",
      "execution_count": null,
      "metadata": {
        "colab": {
          "base_uri": "https://localhost:8080/"
        },
        "id": "Zl8mEg9t_ha_",
        "outputId": "ab48f3d0-c560-4a54-ac3a-179fc7e5065a"
      },
      "outputs": [
        {
          "name": "stdout",
          "output_type": "stream",
          "text": [
            "Requirement already satisfied: networkx in /usr/local/lib/python3.10/dist-packages (3.3)\n"
          ]
        }
      ],
      "source": [
        "pip install networkx"
      ]
    },
    {
      "cell_type": "code",
      "execution_count": null,
      "metadata": {
        "colab": {
          "base_uri": "https://localhost:8080/"
        },
        "id": "mxqrpQpa_hPq",
        "outputId": "c9f62c72-8500-4730-986c-927e9609e081"
      },
      "outputs": [
        {
          "name": "stdout",
          "output_type": "stream",
          "text": [
            "Requirement already satisfied: cv in /usr/local/lib/python3.10/dist-packages (1.0.0)\n"
          ]
        }
      ],
      "source": [
        "pip install cv"
      ]
    },
    {
      "cell_type": "code",
      "execution_count": null,
      "metadata": {
        "id": "FM3kUB_q_w-T"
      },
      "outputs": [],
      "source": [
        "%matplotlib inline"
      ]
    },
    {
      "cell_type": "markdown",
      "metadata": {
        "id": "DJEHty0_Bn4T"
      },
      "source": [
        "\n",
        "\n",
        "---\n",
        "\n",
        "\n",
        "Import libraries and set up an environment for numerical and network analysis,\n",
        "as well as optimization problems. Specifically, import **matplotlib.pyplot** for plotting graphs, **numpy** for numerical operations, and **pandas** for\n",
        "data manipulation. Also, import **cvxopt** for solving convex optimization problems, with options set to suppress progress messages during computation. The **networkx** library and its bipartite module are included for creating and manipulating complex networks and graphs. Additional standard libraries like **itertools**, **json**, and **csv** are loaded for more general programming tasks such as iterating in complex ways, handling JSON data, and reading/writing CSV files.\n",
        "\n",
        "---\n",
        "\n"
      ]
    },
    {
      "cell_type": "code",
      "execution_count": null,
      "metadata": {
        "id": "Fm-TOtfu_w3i"
      },
      "outputs": [],
      "source": [
        "import matplotlib.pyplot as plt"
      ]
    },
    {
      "cell_type": "code",
      "execution_count": null,
      "metadata": {
        "id": "uI8JrXKP_wwj"
      },
      "outputs": [],
      "source": [
        "import numpy as np"
      ]
    },
    {
      "cell_type": "code",
      "execution_count": null,
      "metadata": {
        "id": "3CRSSk_3_wpT"
      },
      "outputs": [],
      "source": [
        "import pandas as pd"
      ]
    },
    {
      "cell_type": "code",
      "execution_count": null,
      "metadata": {
        "id": "Z0OBWRWJ_whD"
      },
      "outputs": [],
      "source": [
        "from cvxopt import matrix, spmatrix, solvers"
      ]
    },
    {
      "cell_type": "code",
      "execution_count": null,
      "metadata": {
        "id": "FxBuOCNA_6tv"
      },
      "outputs": [],
      "source": [
        "import networkx as nx"
      ]
    },
    {
      "cell_type": "code",
      "execution_count": null,
      "metadata": {
        "id": "_6mCo2qt_6mK"
      },
      "outputs": [],
      "source": [
        "from networkx.algorithms import bipartite"
      ]
    },
    {
      "cell_type": "code",
      "execution_count": null,
      "metadata": {
        "id": "ZLhvJElP_6cm"
      },
      "outputs": [],
      "source": [
        "import itertools"
      ]
    },
    {
      "cell_type": "code",
      "execution_count": null,
      "metadata": {
        "id": "chG1-oDW__Rk"
      },
      "outputs": [],
      "source": [
        "import json"
      ]
    },
    {
      "cell_type": "code",
      "execution_count": null,
      "metadata": {
        "id": "HzzSy7So__I7"
      },
      "outputs": [],
      "source": [
        "import csv"
      ]
    },
    {
      "cell_type": "code",
      "execution_count": null,
      "metadata": {
        "id": "QsxcC5g8ACGN"
      },
      "outputs": [],
      "source": [
        "import time as tm"
      ]
    },
    {
      "cell_type": "code",
      "execution_count": null,
      "metadata": {
        "id": "reOWeTtcq_Qh"
      },
      "outputs": [],
      "source": [
        "eps = 1e-10\n",
        "solvers.options['show_progress'] = False"
      ]
    },
    {
      "cell_type": "markdown",
      "metadata": {
        "id": "21YZCiFUPP6B"
      },
      "source": [
        "\n",
        "\n",
        "---\n",
        "\n",
        "\n",
        "In the generalized assignment problem, we are given a collection of 'n' jobs  \n",
        "to be assigned to 'm' machines. Each job is to be assigned to exactly one machine; if it is assigned to a machine, then it requires\n",
        "time units of processing, and incurs a cost of c_ij. Furthermore, we are given a time bound that limits the total processing of each machine . The aim is to find a feasible assignment of minimum total cost.\n",
        "\n",
        "This can be adopted for our problem,\n",
        "*   Set of missions:\n",
        "\n",
        "Each mission is represented as a tuple containing several attributes: M = (O, DP, U, R)\n",
        "where 'O' represents the objective of the mission, 'DP' representes the data products anticipated from the mission, 'U' representst the urgency associated with the mission, while 'R' represents the risk associated.\n",
        "\n",
        "\n",
        "*   Set of resources:\n",
        "\n",
        "Each resource is represented as a tuple containing several attributes: R = (PT, PL, PSW, HRI, FL, MAN, SSW)\n",
        "where 'PT' represents the platform, 'PL' represents the required payload, 'PSW' represents the post-processing software, 'HRI' represents the human-robot interaction support, 'FL' represents the  flight autonomy, 'MAN' represents the necessary manual skills, and 'SSW' represents the required special software for the mission."
      ]
    },
    {
      "cell_type": "markdown",
      "metadata": {
        "id": "lvVg9YT1DLpM"
      },
      "source": [
        "\n",
        "---\n",
        "\n",
        "Calculate an initial solution using linear programming, \\\\\n",
        "Construct a graph based on this solution, and then \\\\\n",
        "Apply a deterministic rounding technique to refine the solution.\n",
        "\n",
        "---\n",
        "\n"
      ]
    },
    {
      "cell_type": "code",
      "execution_count": 65,
      "metadata": {
        "id": "W1MMtBsbrEIs"
      },
      "outputs": [],
      "source": [
        "def GAP(p,c,T, show=False):\n",
        "  # Capture the current time and calculate initial linear programming solution\n",
        "    time0 = tm.perf_counter()\n",
        "    solution, objective_value, status = LinearPrgSoln(p, c, T)\n",
        "\n",
        "    # Capture the time immediately after the linear programming solution to calculate the duration of this phase.\n",
        "    time1 = tm.perf_counter()\n",
        "\n",
        "    # Check if a valid solution exists\n",
        "    if solution is None:\n",
        "      return None, objective_value, status, time1 - time0, np.nan\n",
        "\n",
        "    # Capture the time before starting the graph building\n",
        "    time2 = tm.perf_counter()\n",
        "\n",
        "    # Construct a graph using the solution\n",
        "    consGraph = graphbuilder(solution, p)\n",
        "    final = deterministicRounding(consGraph, c, show)\n",
        "\n",
        "    # Capture the time after completing the deterministic rounding process\n",
        "    time3 = tm.perf_counter()\n",
        "    return final, objective_value, status, time1 - time0, time3 - time2"
      ]
    },
    {
      "cell_type": "markdown",
      "metadata": {
        "id": "rWfAWuP-E3Lq"
      },
      "source": [
        "\n",
        "\n",
        "---\n",
        "\n",
        "Solve the linear programming problem based on the provided processtime matrix, costmatrix, and timebound\n",
        "\n",
        "---\n",
        "\n"
      ]
    },
    {
      "cell_type": "code",
      "execution_count": null,
      "metadata": {
        "id": "Iri0QIwUrEQj"
      },
      "outputs": [],
      "source": [
        "def LinearPrgSoln(processtime, costmatrix, timebound):\n",
        "\n",
        "        # Getting LP dimensions: Extract the dimensions of the processtime matrix.\n",
        "    x, y = processtime.shape\n",
        "\n",
        "    # Create an empty array\n",
        "    arr = np.empty(x*y)\n",
        "\n",
        "    # Initialize a list to construct a sparse matrix for upper bound constraints.\n",
        "    UpperboundA = []\n",
        "\n",
        "    # Construct the upper bound constraint vector by repeating timebound for each constraint\n",
        "    UpperboundB = np.concatenate((np.full(x, timebound), np.zeros(2*x*y)))\n",
        "\n",
        "    # Initialize Equality Constraint Matrix\n",
        "    ECA = np.ones(x*y)\n",
        "\n",
        "    # Initialize Equality Constraint Vector\n",
        "    ECB = np.ones(y)\n",
        "\n",
        "    # Indices for sparse data types\n",
        "    UpperboundAi = []\n",
        "    UpperboundAj = []\n",
        "    ECAi = []\n",
        "    ECAj = []\n",
        "\n",
        "    # Construct Coefficients and Constraints\n",
        "    for i in range(x):\n",
        "      for j in range(y):\n",
        "\n",
        "            # construct coefficient vector\n",
        "            arr[i * y + j] = costmatrix[i, j]\n",
        "\n",
        "            # construct equality constraint matrix\n",
        "            ECAi.append(j)\n",
        "            ECAj.append(i * y + j)\n",
        "\n",
        "            # construct entries to upper bound matrix\n",
        "            UpperboundA.append(processtime[i, j])\n",
        "            UpperboundAi.append(i)\n",
        "            UpperboundAj.append(i*y+j)\n",
        "            UpperboundA.append(-1)\n",
        "            UpperboundAi.append(x + i * y + j)\n",
        "            UpperboundAj.append(i * y + j)\n",
        "\n",
        "            # If timebound is a scalar, convert it to an array with the same value for each element\n",
        "            if isinstance(timebound, (int, float)):\n",
        "              timebound = np.full(x, timebound)\n",
        "\n",
        "            if processtime[i, j] > timebound[i]:\n",
        "              UpperboundA.append(1)\n",
        "              UpperboundAi.append(x + x * y + i * y + j)\n",
        "              UpperboundAj.append(i * y + j)\n",
        "\n",
        "    costVector = matrix(arr)\n",
        "\n",
        "    constraintMatrix = spmatrix(UpperboundA, UpperboundAi, UpperboundAj, size=(x + 2 * x * y, x * y))\n",
        "\n",
        "    upperbound = matrix(UpperboundB)\n",
        "\n",
        "    eqConstraint = spmatrix(ECA, ECAi, ECAj, size=(y, x * y))\n",
        "\n",
        "    eqTargetValue = matrix(ECB)\n",
        "\n",
        "    # get LP solution\n",
        "    solution = solvers.lp(costVector, constraintMatrix, upperbound, eqConstraint, eqTargetValue, solver='glpk')\n",
        "\n",
        "    if solution['status'] == 'primal infeasible':\n",
        "      return None, np.nan, solution['status']\n",
        "\n",
        "    return np.reshape(np.array(solution['x']), (x, y)), solution['primal objective'], solution['status']"
      ]
    },
    {
      "cell_type": "markdown",
      "metadata": {
        "id": "Y1pxe52oE5gp"
      },
      "source": [
        "\n",
        "\n",
        "---\n",
        "\n",
        "Convert the LP solution to a bipartite graph with fractional edge weights where one side represents jobs and the other side represents slots.\n",
        "\n",
        "---\n",
        "\n"
      ]
    },
    {
      "cell_type": "code",
      "execution_count": null,
      "metadata": {
        "id": "bEjKSocxrEZD"
      },
      "outputs": [],
      "source": [
        "def graphbuilder(matx, processtime,):\n",
        "\n",
        "    # Matrix dimensions\n",
        "    x = matx.shape[0]\n",
        "    y = matx.shape[1]\n",
        "\n",
        "    # Initialize the graph array\n",
        "    grapharr = np.zeros((y, x, y))\n",
        "\n",
        "    # Loop over drones\n",
        "    for i in range(x):\n",
        "\n",
        "        # Current slot in drones i\n",
        "        s = 0\n",
        "\n",
        "        # Space left in current slot\n",
        "        left = 1\n",
        "\n",
        "        # Sort missions by process time\n",
        "        xin = np.argsort(-processtime[i])\n",
        "\n",
        "        # Loop over sorted missions\n",
        "        for j in xin:\n",
        "\n",
        "            # Assignment Logic\n",
        "            yin = matx[i, j]\n",
        "            if yin <= left:\n",
        "\n",
        "                # Fit mission in the current slot\n",
        "                grapharr[j, i, s] = yin\n",
        "                left -= yin\n",
        "\n",
        "            else:\n",
        "                grapharr[j, i, s] = left\n",
        "                s += 1\n",
        "                grapharr[j, i, s] = yin - left\n",
        "                left = 1 - (yin - left)\n",
        "\n",
        "    return grapharr"
      ]
    },
    {
      "cell_type": "markdown",
      "metadata": {
        "id": "NgzGCRJ4FL1x"
      },
      "source": [
        "\n",
        "\n",
        "---\n",
        "\n",
        "\n",
        "Deterministicly round the input fractional min-cost perfect matching to a integral one and output it.\n",
        "\n",
        "\n",
        "---\n",
        "\n"
      ]
    },
    {
      "cell_type": "code",
      "execution_count": 66,
      "metadata": {
        "id": "nmSoxQ9M6Bh4"
      },
      "outputs": [],
      "source": [
        "def deterministicRounding(arr, costmatrix, show=False):\n",
        "\n",
        "    # Extract dimensions from the Array 'arr'\n",
        "    x, y, z = arr.shape\n",
        "\n",
        "    # Initialize an array of size n and fill it with -1\n",
        "    t_arr = np.ones(x, dtype='int')*(-1)\n",
        "\n",
        "    # Reshape t_arr\n",
        "    new_arr = np.reshape(arr, (arr.shape[0], y * z))\n",
        "\n",
        "    # Preprocessing - Eliminate the edge with weight 1\n",
        "    for i in range(x):\n",
        "        for j in range(y * z):\n",
        "            if(new_arr[i,j] > 1-eps):\n",
        "                t_arr[i] = j//z\n",
        "                new_arr[i,j] = 0\n",
        "\n",
        "    # Assign all the missions\n",
        "    while(list(t_arr).count(-1) != 0):\n",
        "\n",
        "        # Find a cycle\n",
        "        cycle = bipartite(new_arr)\n",
        "\n",
        "        # Call round_cycle to process the cycle found by bipartite()\n",
        "        f0 = round_cycle(new_arr, cycle, z, costmatrix)\n",
        "        # Update the result and the matrix\n",
        "        if(f0.shape[0] != 0):\n",
        "            for j in range(f0.shape[0]):\n",
        "                t_arr[f0[j,0]]= f0[j,1] //z\n",
        "                new_arr[f0[j,0]][f0[j,1]]=0\n",
        "\n",
        "    return t_arr"
      ]
    },
    {
      "cell_type": "markdown",
      "metadata": {
        "id": "4pGw6HB5FUwE"
      },
      "source": [
        "\n",
        "---\n",
        "\n",
        "Find a cycle or an augmenting path in a bipartite graph.\n",
        "\n",
        "\n",
        "---\n",
        "\n"
      ]
    },
    {
      "cell_type": "code",
      "execution_count": null,
      "metadata": {
        "id": "7cwv91f26PJH"
      },
      "outputs": [],
      "source": [
        "def bipartite(matx):\n",
        "\n",
        "    # Initialize lists for tracking\n",
        "    left = []\n",
        "    right = []\n",
        "\n",
        "    # Find non-zero columns\n",
        "    temp = np.where(np.sum(matx, axis = 0)> eps)[0]\n",
        "\n",
        "    # Copy of the graph\n",
        "    dup = np.copy(matx)\n",
        "    result = rdfs(dup, left, right, temp)\n",
        "    if(result is None):\n",
        "        print(dup)\n",
        "    return result\n",
        "\n",
        "def ldfs(matx, left, right, l):\n",
        "\n",
        "    # Initialize the left path\n",
        "    left.append(-1)\n",
        "\n",
        "    # Loop over starting nodes\n",
        "    for i in range(len(l)):\n",
        "\n",
        "        # Set current node\n",
        "        left[-1]=l[i]\n",
        "\n",
        "        # Current node connections\n",
        "        s = left[-1]\n",
        "        t = right[-1]\n",
        "\n",
        "        # Remove edge temporarily\n",
        "        matx[s,t]=0\n",
        "\n",
        "        # Find connections\n",
        "        llist = np.where(matx[left[-1],:] > eps)[0]\n",
        "\n",
        "        # Checks if the first node in the right list is in the newly found connections,\n",
        "        # which would indicate a cycle has been completed.\n",
        "        if(right[0] in llist):\n",
        "\n",
        "            # If a cycle is detected, appends the start node of right to right to complete the cycle,\n",
        "            # construct a cycle list with left and right, and return it.\n",
        "            right.append(right[0])\n",
        "            cyc = [left, right]\n",
        "            return cyc\n",
        "\n",
        "        # Recursive DFS call\n",
        "        cyc = rdfs(matx, left, right, llist)\n",
        "\n",
        "        # Cycle found in subsequent calls\n",
        "        if(cyc != None):\n",
        "            return cyc\n",
        "\n",
        "        # Restore edge if no cycle is found\n",
        "        if(len(right)!= 0):\n",
        "            matx[s,t]=1\n",
        "\n",
        "    # Backtrack\n",
        "    left.pop()\n",
        "    return None\n",
        "\n",
        "def rdfs(matx, left, right, l):\n",
        "\n",
        "    # Initialize the left path\n",
        "    right.append(-1)\n",
        "\n",
        "    # Loop over starting nodes\n",
        "    for i in range(len(l)):\n",
        "\n",
        "        # Set current node\n",
        "        right[-1]=l[i]\n",
        "\n",
        "        # Current node connections\n",
        "        s = -1\n",
        "        t = right[-1]\n",
        "\n",
        "        # Handle existing left path\n",
        "        if(len(left)>0):\n",
        "            s = left[-1]\n",
        "            matx[s,t]=0\n",
        "\n",
        "        # Find connections\n",
        "        rlist = np.where(matx[:,t] >eps)[0]\n",
        "\n",
        "        # Cycle completion check\n",
        "        if(rlist.shape[0] == 0):\n",
        "            if(np.where(matx[:,right[0]]>eps)[0].shape[0] == 0):\n",
        "                cycle = [left, right]\n",
        "                return cycle\n",
        "\n",
        "        # Recursive DFS call\n",
        "        cycle = ldfs(matx, left, right, rlist)\n",
        "\n",
        "        # Cycle found in subsequent calls\n",
        "        if(cycle != None):\n",
        "            return cycle\n",
        "\n",
        "        # Restore edge if no cycle is found\n",
        "        if(len(left)>0):\n",
        "            matx[s,t]=1\n",
        "\n",
        "    # Backtrack\n",
        "    right.pop()\n",
        "    return None"
      ]
    },
    {
      "cell_type": "markdown",
      "metadata": {
        "id": "WELRspgUF_qR"
      },
      "source": [
        "\n",
        "---\n",
        "Adjust the matrix representing a solution to adhere more closely to integer\n",
        "constraints by rounding values within a specified cycle. It determines the optimal rounding direction based on the costs and adjusts the matrix elements accordingly, ensuring that no element exceeds 1 or falls below 0 while trying to minimize the cost.\n",
        "\n",
        "---\n",
        "\n",
        "\n"
      ]
    },
    {
      "cell_type": "code",
      "execution_count": null,
      "metadata": {
        "id": "W-xQzm_L6iK-"
      },
      "outputs": [],
      "source": [
        "def round_cycle(arr, cycle, k, costmatrix):\n",
        "\n",
        "    # Initialize variables\n",
        "    dir = 0\n",
        "    length = len(cycle[0])\n",
        "    for i in range(length):\n",
        "        dir += costmatrix[cycle[1][i]// k][cycle[0][i]]-costmatrix[cycle[1][i+1]// k][cycle[0][i]]\n",
        "\n",
        "    if(dir > eps):\n",
        "        cycle[0] = cycle[0][::-1]\n",
        "        cycle[1] = cycle[1][::-1]\n",
        "\n",
        "    x_1 = np.amin([1-arr[cycle[0][i], cycle[1][i]] for i in range(length)])\n",
        "    x_2 = np.amin([arr[cycle[0][i], cycle[1][i+1]] for i in range(length)])\n",
        "    mini_mum = min([x_1, x_2])\n",
        "    f0 = []\n",
        "    current = cycle[1][0]\n",
        "    for i in range(length):\n",
        "\n",
        "        m = cycle[0][i]\n",
        "        arr[m][current] +=  mini_mum\n",
        "        if(arr[m][current] > 1-eps):\n",
        "            f0.append([m, current])\n",
        "\n",
        "        current = cycle[1][i+1]\n",
        "        arr[m][current] -=  mini_mum\n",
        "        if(arr[m][current] < eps):\n",
        "            arr[m][current] = 0\n",
        "\n",
        "    return np.array(f0)"
      ]
    },
    {
      "cell_type": "markdown",
      "metadata": {
        "id": "1AHMn0B2G_0Q"
      },
      "source": [
        "\n",
        "\n",
        "---\n",
        "\n",
        "\n",
        "Calculate the total cost of a solution represented by the 'final' array, where each element in final specifies a chosen option for each index, and the costmatrix provides the associated costs for these choices. It sums up the costs for all valid (non-negative) choices in the solution.\n",
        "\n",
        "---\n",
        "\n"
      ]
    },
    {
      "cell_type": "code",
      "execution_count": null,
      "metadata": {
        "id": "_q4HEKBG6tdf"
      },
      "outputs": [],
      "source": [
        "def costfactor(final, costmatrix):\n",
        "    x = 0\n",
        "    for z in range(len(final)):\n",
        "        if(final[z]>= 0):\n",
        "            x += costmatrix[final[z], z]\n",
        "    return x"
      ]
    },
    {
      "cell_type": "markdown",
      "metadata": {
        "id": "LL1DMR1lHMTp"
      },
      "source": [
        "\n",
        "---\n",
        "\n",
        "Compute the total processing time for each option in a given scenario. It does this by iterating through the final array, where each element indicates the chosen option for an index, and adds the corresponding processing times from the processtime matrix to the appropriate option in a cumulative sum array x.\n",
        "\n",
        "---\n"
      ]
    },
    {
      "cell_type": "code",
      "execution_count": null,
      "metadata": {
        "id": "_oo4WKBIGMg2"
      },
      "outputs": [],
      "source": [
        "def timefactor(final, processtime):\n",
        "    x = np.zeros((processtime.shape[0]))\n",
        "    for z in range(len(final)):\n",
        "        x[final[z]]+= processtime[final[z], z]\n",
        "    return x"
      ]
    },
    {
      "cell_type": "markdown",
      "metadata": {
        "id": "vZZqqbRWHn57"
      },
      "source": [
        "\n",
        "\n",
        "---\n",
        "Calculate the total cost of a configuration described by the matrix arr, which contains allocation information across multiple options. It multiplies each element of arr by the corresponding cost in costmatrix and sums up these values to compute the overall cost for the entire configuration, considering all possible combinations of options and allocations.\n",
        "\n",
        "---\n",
        "\n"
      ]
    },
    {
      "cell_type": "code",
      "execution_count": null,
      "metadata": {
        "id": "1qCQ7jtmGMV9"
      },
      "outputs": [],
      "source": [
        "def cost_arr(arr, costmatrix, n, m):\n",
        "    x = 0\n",
        "    for i in range(n):\n",
        "        for j in range(m):\n",
        "            for k in range(n):\n",
        "                x += costmatrix[j,i] * arr[i,j*n+k]\n",
        "    return x"
      ]
    },
    {
      "cell_type": "code",
      "execution_count": null,
      "metadata": {
        "colab": {
          "base_uri": "https://localhost:8080/"
        },
        "id": "7qOwej5w6w9e",
        "outputId": "103e323f-a701-41e5-b905-743d8a3880c2"
      },
      "outputs": [
        {
          "name": "stdout",
          "output_type": "stream",
          "text": [
            "[1 0 3 3 4 4 0 3 2 3 3 2 0 1 2 4 1 2 1 4] 34.91614768243793 34.72684355179838 14.923489879819371 19.456021189912722\n",
            "[4 2 0 0 0 3 0 3 1 4 3 4 1 2 3 2 3 4 1 1] 59.919229620069125 51.0377925105965 6.6161957591610205 8.85000597874099\n",
            "[1 2 2 3 1 3 0 4 2 2 3 4 0 0 3 1 3 3 2 1] 50.003592995035234 45.86302181135419 10.257650257542311 13.520001363587808\n",
            "Problem appears to be infeasible.\n",
            "[0 3 3 1 3 3 4 3 2 4 2 2 4 0 1 0 4 1 1 4] 37.56521969004278 37.19886177205078 13.875225385497055 14.921822627056155\n",
            "[4 3 0 4 0 1 4 1 0 0 2 1 1 0 2 2 2 4 1 2] 43.83837167629413 43.54038628530887 12.335884929026511 13.59758676262377\n",
            "[0 0 1 0 3 4 2 1 4 1 1 2 3 4 0 1 4 0 2 2] 87.39409685323469 80.81220790312153 6.308837765672919 8.678760033232608\n",
            "[2 4 3 0 2 3 3 0 4 3 1 0 2 0 4 1 3 4 1 2] 111.69538528146379 97.84876280733673 5.82251537597441 7.215152753779826\n",
            "[4 3 4 1 2 1 4 0 4 0 2 3 0 3 2 1 3 1 0 2] 61.42973537150969 51.33145570558546 6.730567293837867 10.707418877350985\n",
            "[2 1 0 2 1 2 0 3 3 4 1 4 2 1 0 4 3 4 4 2] 32.44298988038017 32.414128502036135 13.742163790459607 14.015812491654103\n",
            "[1 3 4 4 1 1 4 1 3 4 1 0 2 3 0 4 3 4 2 1] 31.405312456446442 30.960519929187868 14.0103211247212 17.74352136752954\n",
            "Problem appears to be infeasible.\n",
            "Problem appears to be infeasible.\n",
            "[2 3 4 4 3 4 4 1 4 2 3 3 1 0 0 0 1 2 0 1] 70.93896755708442 65.41470132744487 7.017562437775958 8.902209143718839\n",
            "[1 2 1 0 0 0 4 3 2 4 2 1 2 0 3 4 1 1 3 2] 36.52580590134626 36.13029087641031 16.83352632850493 19.091485093194706\n",
            "[2 1 2 1 0 1 3 2 3 3 0 3 4 4 4 2 4 0 4 1] 54.366199021418964 50.87081316587085 7.385455715136011 8.63084720382376\n",
            "[3 2 1 4 1 4 4 3 2 3 2 3 0 2 1 3 1 2 0 3] 46.99754771564957 43.128158718616014 10.685022632152391 13.994838561350726\n",
            "[0 1 3 4 1 2 0 3 2 1 4 0 3 0 1 4 3 2 4 0] 32.24651100901118 32.093058858297525 15.519163274457288 16.130379073657902\n",
            "[0 1 1 2 3 4 1 4 0 1 1 2 3 4 1 2 4 0 4 2] 40.68239034440762 39.678174516163836 14.416522080760565 16.92228228424651\n",
            "[2 1 2 2 0 2 4 3 0 1 2 3 4 0 3 1 1 3 4 4] 32.99395696537168 32.65016891163002 13.617056060665872 15.935181186759056\n",
            "Problem appears to be infeasible.\n",
            "[0 2 4 4 3 3 4 2 0 4 3 1 4 0 0 4 1 2 2 1] 43.73534492080985 42.99528088047784 11.594088114399268 13.2282622633432\n",
            "Problem appears to be infeasible.\n",
            "[2 3 4 3 3 4 2 3 0 2 3 4 4 4 2 0 1 2 1 2] 35.494692962713 35.49310354931688 14.786486565794789 15.39793003028231\n",
            "Problem appears to be infeasible.\n",
            "Problem appears to be infeasible.\n",
            "Problem appears to be infeasible.\n",
            "[1 4 3 3 2 4 3 2 0 2 1 4 1 4 2 4 1 4 3 0] 37.688424931147125 37.615490810128094 16.348033061695112 21.086459517210823\n",
            "[0 3 3 3 0 1 4 1 4 3 2 1 4 0 2 2 0 4 2 1] 58.82873474219982 54.029358295431216 6.787459833173734 11.945041650365086\n",
            "Problem appears to be infeasible.\n",
            "[1 3 4 0 4 1 4 4 0 1 0 4 4 4 1 0 4 2 3 1] 40.62176299831445 40.11607024328714 15.88254004198172 19.48019475837677\n",
            "Problem appears to be infeasible.\n",
            "[0 1 0 0 2 2 4 2 0 3 4 2 4 1 3 1 3 1 4 1] 84.50391357307092 73.07320680633677 5.947501739448768 7.845240188413659\n",
            "[2 2 1 1 2 4 1 3 2 3 3 0 4 4 3 3 1 0 2 4] 43.40946012103004 43.38304011796909 15.503962457275248 17.98021066964518\n",
            "[1 2 3 3 0 1 0 3 1 3 2 3 2 4 4 1 1 4 3 2] 32.705333144221036 32.43951250774933 14.062954290382187 19.86407198917287\n",
            "Problem appears to be infeasible.\n",
            "[3 2 3 0 4 3 1 3 4 1 2 1 4 2 1 3 2 0 0 1] 39.11992631011555 36.42787150754082 15.113738916300164 18.264240498750034\n",
            "[4 1 1 3 2 2 2 0 3 0 3 4 1 1 3 0 4 0 0 3] 55.203687530453614 52.396424842951674 8.24283173349541 10.73204918667716\n",
            "[4 0 4 2 3 2 3 0 4 2 2 2 1 3 0 1 1 0 0 4] 85.35252552848276 73.26847571769663 6.8017097988807125 8.901359277468261\n",
            "[3 2 4 3 3 1 2 2 0 3 3 4 4 4 1 2 1 1 0 4] 37.79078813886815 37.54021821326932 17.024455820117204 19.749803643210026\n",
            "[0 1 4 2 3 0 2 4 0 1 3 4 2 3 1 1 0 4 0 2] 54.88728994722776 48.015661673062844 8.145455586065253 11.992191346978338\n",
            "Problem appears to be infeasible.\n",
            "[4 2 1 3 1 4 1 3 0 2 0 3 0 4 4 2 1 1 2 3] 31.479459641172934 30.71592402044338 11.929224236842472 14.770802741897654\n",
            "[3 0 0 1 4 3 1 2 2 0 1 3 4 3 2 0 0 2 1 0] 37.37804502944024 34.6571117825897 9.233885097034372 12.969972596301169\n",
            "[3 4 3 1 1 4 0 4 0 2 4 2 1 4 2 1 0 3 2 3] 45.37947870898484 42.5887401449641 8.272522514018508 13.13649682448957\n",
            "Problem appears to be infeasible.\n",
            "Problem appears to be infeasible.\n",
            "[1 3 4 4 1 2 2 0 2 0 1 3 0 1 3 4 0 4 2 4] 38.70785700038701 38.48104843545371 16.240492423304513 17.319745212153208\n",
            "[3 2 2 0 3 2 1 2 2 3 4 3 4 2 4 0 1 1 4 0] 38.08646192897037 37.811422181132706 13.71662051944783 15.642174569731758\n",
            "Problem appears to be infeasible.\n",
            "[4 2 1 4 3 0 2 2 3 1 3 2 1 0 0 1 0 3 4 0] 74.47735602966591 70.35999013186685 9.214379043487368 10.946702739218898\n",
            "[2 3 1 0 0 3 4 2 1 2 4 0 3 1 4 4 0 3 3 1] 53.741246662484066 51.017499841630595 6.240215451609262 6.766774707296932\n",
            "[0 1 4 0 0 1 4 4 0 2 2 3 4 1 2 3 1 4 4 3] 38.5021789623878 36.182469839256115 8.884304451744894 9.97485453983587\n",
            "[1 2 2 3 0 0 1 2 2 3 1 4 2 3 4 4 0 1 4 0] 136.16986445418195 113.90344532425671 5.91068979090762 7.463101287661572\n",
            "[3 0 1 2 0 3 0 2 1 3 0 2 1 3 4 4 2 0 2 3] 45.69250517195014 43.52609044700107 8.653745537983852 11.274634369658415\n",
            "Problem appears to be infeasible.\n",
            "Problem appears to be infeasible.\n",
            "[2 2 4 4 1 2 2 4 3 1 0 1 3 3 0 4 0 0 3 0] 36.27851446709275 36.20136860899253 16.094257428909867 16.600177226318586\n",
            "Problem appears to be infeasible.\n",
            "[2 1 3 2 1 3 0 2 0 2 1 3 1 0 0 4 3 4 4 3] 34.14315275227584 33.4258914397814 10.802558483686113 13.470479132684446\n",
            "Problem appears to be infeasible.\n",
            "[0 3 2 0 3 4 1 0 0 1 3 1 1 4 2 2 4 4 2 4] 31.482291721162657 30.91472869291157 10.155268578416681 12.457646672427485\n",
            "[2 1 4 2 4 0 3 3 4 4 3 3 1 4 2 0 4 2 4 0] 35.87998116621772 33.39651133892328 12.142057173910175 14.711347132898684\n",
            "[4 1 2 1 3 0 3 4 1 3 2 0 4 1 0 2 0 2 3 4] 38.64465753975663 37.87584805799927 14.768422567869187 18.195029932071314\n",
            "[0 0 2 4 2 3 1 0 0 0 2 3 4 1 4 4 3 1 1 3] 94.88713186328675 89.76129829463788 5.912126565818694 8.034720562500095\n",
            "[4 4 4 4 2 3 0 1 2 0 1 0 2 0 3 1 2 0 3 2] 38.351327110980755 38.351327110980804 14.416979514772624 13.795570612392137\n",
            "[3 3 1 4 1 0 0 4 4 0 4 4 3 3 3 2 3 0 2 2] 40.33158451227491 39.40233378885023 13.986308209143074 16.098054341673645\n",
            "[1 4 1 2 2 0 1 4 3 2 1 3 2 0 0 3 3 4 0 3] 44.36491150481669 43.59240176142647 10.16301998785567 10.74209074631015\n",
            "Problem appears to be infeasible.\n",
            "[1 4 0 2 3 3 2 4 2 1 0 4 1 3 3 2 4 3 0 2] 73.82134375772756 72.47571434780627 7.530192303185848 9.678122461383584\n",
            "[4 4 1 0 4 1 3 3 4 0 2 2 2 1 2 3 0 3 0 2] 62.812559350354675 56.238328675973065 9.309768734261509 14.470923362638427\n",
            "Problem appears to be infeasible.\n",
            "Problem appears to be infeasible.\n",
            "[2 1 4 4 3 2 0 4 3 0 0 2 1 1 3 1 4 3 1 0] 31.932805958054026 31.826828909032695 15.700699472910962 17.952487737914332\n",
            "Problem appears to be infeasible.\n",
            "[3 1 0 1 0 0 2 1 3 2 4 2 2 2 4 3 0 3 3 4] 37.90363546201639 37.47066831574154 15.201011767545356 20.87723736447415\n",
            "[4 0 4 3 1 4 2 3 3 1 0 2 0 3 4 1 1 2 0 1] 51.772036010091995 51.24108929184671 12.453817352379797 15.282002185847691\n",
            "[4 2 3 1 3 4 2 4 0 4 0 1 1 2 1 1 4 4 0 0] 46.99228787106264 44.3345203828493 9.210907334896449 15.270889099338044\n",
            "[0 4 0 3 1 3 3 2 1 4 0 1 0 1 4 2 3 2 2 1] 32.499818578415535 32.22025636148771 12.54092426321983 13.705342386685322\n",
            "[3 0 0 1 4 3 1 3 0 0 1 2 2 2 1 2 1 4 2 4] 46.951226715557915 45.77585719884557 10.682402789819186 15.696437768196846\n",
            "[3 0 2 4 1 4 2 3 3 0 0 4 0 3 4 1 2 2 2 1] 44.17414799300985 43.625407401374574 15.038259764737944 16.65943186474321\n",
            "[2 0 0 4 3 3 1 2 0 0 3 4 2 4 2 3 1 1 3 2] 42.250247741811506 38.21278396208835 11.006555588160575 14.39364126770645\n",
            "[2 2 4 1 3 1 0 4 4 1 3 3 1 0 2 0 1 0 2 4] 41.386839312420676 37.31594230914409 8.28208203438344 11.38349905359156\n",
            "[3 2 1 2 4 1 2 4 2 3 1 0 4 1 2 0 0 2 3 4] 44.99592473269813 44.59719220375739 12.261042974243741 14.367928652453584\n",
            "[2 0 1 2 0 1 3 2 1 0 3 3 0 0 2 2 4 2 1 4] 37.38495043357597 36.29058748733914 14.39147156319187 16.527443244410556\n",
            "[3 1 2 0 0 4 3 4 3 4 0 1 0 2 1 2 1 3 2 4] 59.576015401006515 54.2082356781355 6.376492576177959 8.04039782366722\n",
            "Problem appears to be infeasible.\n",
            "[1 3 0 4 0 0 2 2 1 0 4 1 3 3 2 3 3 4 0 1] 66.48709642284174 61.61856111901298 6.648273796222265 8.546893084121582\n",
            "Problem appears to be infeasible.\n",
            "Problem appears to be infeasible.\n",
            "[4 4 1 1 1 2 2 3 4 3 1 3 0 4 0 2 2 0 1 0] 35.185269698688536 34.5272927363217 10.453039405497597 13.356169502557705\n",
            "Problem appears to be infeasible.\n",
            "[0 3 3 0 1 2 2 3 1 1 0 0 1 0 2 3 0 4 4 2] 43.86524993629943 41.26185269681407 12.218124549934355 15.666325425489374\n",
            "[3 3 3 1 3 2 2 3 4 0 0 1 0 1 3 4 2 3 4 2] 36.63380386293061 36.633803862930634 14.563225913822894 13.088104030621157\n",
            "[1 4 3 0 3 2 0 3 0 4 4 2 1 2 3 3 0 1 3 4] 49.424353724046895 46.503046217960275 10.26594263406474 12.201610151399027\n",
            "[0 3 1 4 3 0 0 2 0 4 1 3 1 4 1 2 3 2 0 2] 48.07623236590529 44.48460734941743 10.122529737656805 14.293069543706808\n",
            "Problem appears to be infeasible.\n",
            "[2 0 3 3 1 0 2 2 2 0 1 1 4 0 2 1 4 4 0 3] 39.68200309339009 38.868088787259325 12.238289210589215 17.2223207334166\n",
            "[1 4 0 1 3 4 2 0 3 4 2 4 0 0 3 4 2 0 2 1] 39.55116837140269 38.93435402917359 13.297513250496312 15.828895275764026\n",
            "[1 0 1 4 3 4 3 3 2 4 4 0 4 3 4 0 2 2 1 2] 36.59939226606401 35.01075872881572 10.595356639657743 14.820132906322652\n"
          ]
        }
      ],
      "source": [
        "cf = 3\n",
        "pf = 2\n",
        "y = 20\n",
        "x = 5\n",
        "for i in range(100):\n",
        "    costmatrix = np.exp(cf * np.random.rand(x, y))\n",
        "    processtime = np.exp(pf * np.random.rand(x, y))\n",
        "    timebound = np.sum(processtime) * np.random.rand() * 0.05 * np.ones(x)\n",
        "    final, z0, msg, t_LP, t_Round = GAP(processtime, costmatrix, timebound)\n",
        "    if(final is None):\n",
        "        if msg == 'primal infeasible':\n",
        "            print(\"Problem appears to be infeasible.\")\n",
        "        if msg == 'unknown':\n",
        "            print(\"Status unknown.\")\n",
        "    else:\n",
        "        if msg == 'unknown':\n",
        "            print(\"Terminated early.\")\n",
        "        print(final, z0, costfactor(final, costmatrix), timebound[0], np.amax(timefactor(final, processtime)))"
      ]
    },
    {
      "cell_type": "code",
      "execution_count": null,
      "metadata": {
        "id": "9WmNjpLJ62hG"
      },
      "outputs": [],
      "source": [
        "def read_file(filejson):\n",
        "    x1 = json.load(filejson)\n",
        "    processtime = np.array(x1['req'], dtype='float')\n",
        "    cost = np.array(x1['cost'], dtype='float')\n",
        "    time = np.array(x1['cap'], dtype='float')\n",
        "    return processtime, cost, time\n",
        "\n",
        "# get data table of ids, LP vals, and opt vals and/or UB\n",
        "data_items = {}\n",
        "ids_list = []\n",
        "with open('data.csv') as csvfile:\n",
        "    reader = csv.reader(csvfile)\n",
        "    for row in reader:\n",
        "        idee = row[0]\n",
        "        ids_list.append(idee)\n",
        "        data_items[idee] = {'n': row[1], 'm': row[2], 'LP': row[3], 'opt': row[4], 'UB': row[5]}"
      ]
    },
    {
      "cell_type": "code",
      "execution_count": 57,
      "metadata": {
        "colab": {
          "base_uri": "https://localhost:8080/"
        },
        "id": "1PNNS11g7HHV",
        "outputId": "4f2288df-8743-43f3-94d0-f7a85fc607e0"
      },
      "outputs": [
        {
          "output_type": "stream",
          "name": "stdout",
          "text": [
            "gapa_0\n",
            "\t 1696.0 1698 1697.7272727272725 1697.73\n",
            "\t [267. 301. 282. 318. 361.]\n",
            "\t [342. 342. 342. 342. 342.]\n",
            "\t ['0.78', '0.88', '0.82', '0.93', '1.06']\n",
            "gapa_1\n",
            "\t 3234.0 3235 3234.739130434782 3234.74\n",
            "\t [688. 612. 523. 534. 623.]\n",
            "\t [671. 671. 671. 671. 671.]\n",
            "\t ['1.03', '0.91', '0.78', '0.80', '0.93']\n",
            "gapa_2\n",
            "\t 1358.0 1360 1358.556923076923 1358.56\n",
            "\t [192. 146. 202. 131.  95. 195. 112. 192. 184.  66.]\n",
            "\t [192. 192. 192. 192. 192. 192. 192. 192. 192. 192.]\n",
            "\t ['1.00', '0.76', '1.05', '0.68', '0.49', '1.02', '0.58', '1.00', '0.96', '0.34']\n",
            "gapa_3\n",
            "\t 2623.0 2623 2623.0 2623\n",
            "\t [245. 387. 351. 326. 239. 283. 365. 279. 266. 274.]\n",
            "\t [365. 365. 365. 365. 365. 365. 365. 365. 365. 365.]\n",
            "\t ['0.67', '1.06', '0.96', '0.89', '0.65', '0.78', '1.00', '0.76', '0.73', '0.75']\n",
            "gapa_4\n",
            "\t 1157.0 1158 1157.08 1157.08\n",
            "\t [ 20. 104. 109.  91.  78.  62.  87.  31. 102.  98.  47.  42.  95.  84.\n",
            "   0. 103.  89.  99.  90.  57.]\n",
            "\t [100. 100. 100. 100. 100. 100. 100. 100. 100. 100. 100. 100. 100. 100.\n",
            " 100. 100. 100. 100. 100. 100.]\n",
            "\t ['0.20', '1.04', '1.09', '0.91', '0.78', '0.62', '0.87', '0.31', '1.02', '0.98', '0.47', '0.42', '0.95', '0.84', '0.00', '1.03', '0.89', '0.99', '0.90', '0.57']\n",
            "gapa_5\n",
            "\t 2337.0 2339 2337.3273333333336 2337.33\n",
            "\t [128. 206. 206. 129. 216. 188. 137. 160. 186. 151. 143. 120. 122. 193.\n",
            " 144. 155.  83.  92. 204. 145.]\n",
            "\t [199. 199. 199. 199. 199. 199. 199. 199. 199. 199. 199. 199. 199. 199.\n",
            " 199. 199. 199. 199. 199. 199.]\n",
            "\t ['0.64', '1.04', '1.04', '0.65', '1.09', '0.94', '0.69', '0.80', '0.93', '0.76', '0.72', '0.60', '0.61', '0.97', '0.72', '0.78', '0.42', '0.46', '1.03', '0.73']\n",
            "gapb_0\n",
            "\t 1819.0 1843 1831.3294504181601 1831.33\n",
            "\t [208. 215. 215. 204. 209.]\n",
            "\t [209. 209. 209. 209. 209.]\n",
            "\t ['1.00', '1.03', '1.03', '0.98', '1.00']\n",
            "gapb_1\n",
            "\t 3537.0 3552 3547.411575237463 3547.41\n",
            "\t [479. 509. 484. 509. 494.]\n",
            "\t [493. 493. 493. 493. 493.]\n",
            "\t ['0.97', '1.03', '0.98', '1.03', '1.00']\n",
            "gapb_2\n",
            "\t 1396.0 1407 1400.6719575609286 1400.67\n",
            "\t [133. 152. 104. 136. 131. 136. 136. 144. 130. 122.]\n",
            "\t [131. 131. 131. 131. 131. 131. 131. 131. 131. 131.]\n",
            "\t ['1.02', '1.16', '0.79', '1.04', '1.00', '1.04', '1.04', '1.10', '0.99', '0.93']\n",
            "gapb_3\n",
            "\t 2801.0 2827 2815.0506728107584 2815.05\n",
            "\t [243. 232. 254. 251. 250. 251. 251. 238. 244. 248.]\n",
            "\t [243. 243. 243. 243. 243. 243. 243. 243. 243. 243.]\n",
            "\t ['1.00', '0.95', '1.05', '1.03', '1.03', '1.03', '1.03', '0.98', '1.00', '1.02']\n",
            "gapb_4\n",
            "\t 1148.0 1166 1155.1814331117193 1155.18\n",
            "\t [84. 81. 68. 59. 80. 63. 69. 75. 75. 62. 71. 58. 64. 51. 84. 38. 78. 56.\n",
            " 72. 66.]\n",
            "\t [68. 68. 68. 68. 68. 68. 68. 68. 68. 68. 68. 68. 68. 68. 68. 68. 68. 68.\n",
            " 68. 68.]\n",
            "\t ['1.24', '1.19', '1.00', '0.87', '1.18', '0.93', '1.01', '1.10', '1.10', '0.91', '1.04', '0.85', '0.94', '0.75', '1.24', '0.56', '1.15', '0.82', '1.06', '0.97']\n",
            "gapb_5\n",
            "\t 2324.0 2339 2331.1379844826533 2331.14\n",
            "\t [136. 131. 150. 134.  99. 148. 132. 106. 144. 145. 126.  70. 140. 118.\n",
            " 123. 138. 148. 127. 128. 127.]\n",
            "\t [131. 131. 131. 131. 131. 131. 131. 131. 131. 131. 131. 131. 131. 131.\n",
            " 131. 131. 131. 131. 131. 131.]\n",
            "\t ['1.04', '1.00', '1.15', '1.02', '0.76', '1.13', '1.01', '0.81', '1.10', '1.11', '0.96', '0.53', '1.07', '0.90', '0.94', '1.05', '1.13', '0.97', '0.98', '0.97']\n",
            "gapc_0\n",
            "\t 1904.0 1931 1923.975026288118 1923.98\n",
            "\t [222. 224. 258. 237. 246.]\n",
            "\t [221. 224. 254. 235. 232.]\n",
            "\t ['1.00', '1.00', '1.02', '1.01', '1.06']\n",
            "gapc_1\n",
            "\t 3443.0 3456 3450.765286081076 3450.77\n",
            "\t [458. 492. 495. 503. 513.]\n",
            "\t [464. 485. 505. 495. 503.]\n",
            "\t ['0.99', '1.01', '0.98', '1.02', '1.02']\n",
            "gapc_2\n",
            "\t 1375.0 1402 1387.0097106207759 1387.01\n",
            "\t [105. 113. 116. 133. 125. 132. 115. 105. 135. 115.]\n",
            "\t [115. 111. 121. 121. 120. 114. 112. 112. 126. 118.]\n",
            "\t ['0.91', '1.02', '0.96', '1.10', '1.04', '1.16', '1.03', '0.94', '1.07', '0.97']\n",
            "gapc_3\n",
            "\t 2780.0 2806 2795.407915753374 2795.41\n",
            "\t [237. 256. 244. 234. 231. 257. 241. 247. 241. 235.]\n",
            "\t [236. 248. 241. 240. 238. 243. 238. 239. 229. 233.]\n",
            "\t ['1.00', '1.03', '1.01', '0.97', '0.97', '1.06', '1.01', '1.03', '1.05', '1.01']\n",
            "gapc_4\n",
            "\t 1200.0 1243 1218.9872593930672 1218.99\n",
            "\t [60. 56. 63. 62. 55. 78. 72. 69. 61. 63. 76. 66. 60. 71. 55. 47. 53. 66.\n",
            " 51. 58.]\n",
            "\t [57. 59. 61. 56. 59. 59. 63. 57. 58. 56. 60. 62. 62. 57. 59. 58. 60. 59.\n",
            " 62. 57.]\n",
            "\t ['1.05', '0.95', '1.03', '1.11', '0.93', '1.32', '1.14', '1.21', '1.05', '1.12', '1.27', '1.06', '0.97', '1.25', '0.93', '0.81', '0.88', '1.12', '0.82', '1.02']\n",
            "gapc_5\n",
            "\t 2367.0 2391 2376.9054863725023 2376.91\n",
            "\t [117. 135. 120. 103. 127. 119. 134. 131. 106. 118. 120. 107. 125. 116.\n",
            " 116. 132. 111. 129. 121. 116.]\n",
            "\t [118. 120. 115. 116. 118. 119. 119. 123. 106. 121. 120. 112. 123. 122.\n",
            " 118. 119. 120. 124. 114. 119.]\n",
            "\t ['0.99', '1.12', '1.04', '0.89', '1.08', '1.00', '1.13', '1.07', '1.00', '0.98', '1.00', '0.96', '1.02', '0.95', '0.98', '1.11', '0.93', '1.04', '1.06', '0.97']\n",
            "gapd_0\n",
            "\t 6230.0 6353 6345.412611885934 6345.41\n",
            "\t [773. 800. 837. 888. 869.]\n",
            "\t [798. 760. 810. 824. 868.]\n",
            "\t ['0.97', '1.05', '1.03', '1.08', '1.00']\n",
            "gapd_1\n",
            "\t 12663.0  12736.196081965436 12736.2\n",
            "\t [1563. 1694. 1635. 1644. 1677.]\n",
            "\t [1547. 1699. 1589. 1614. 1694.]\n",
            "\t ['1.01', '1.00', '1.03', '1.02', '0.99']\n",
            "gapd_2\n",
            "\t 6187.0  6323.45604344531 6323.46\n",
            "\t [465. 385. 361. 347. 468. 436. 418. 410. 397. 368.]\n",
            "\t [416. 379. 385. 374. 398. 385. 388. 411. 398. 388.]\n",
            "\t ['1.12', '1.02', '0.94', '0.93', '1.18', '1.13', '1.08', '1.00', '1.00', '0.95']\n",
            "gapd_3\n",
            "\t 12306.0  12418.362103134965 12418.4\n",
            "\t [794. 819. 774. 815. 776. 794. 867. 829. 793. 917.]\n",
            "\t [794. 816. 758. 776. 791. 791. 805. 805. 836. 897.]\n",
            "\t ['1.00', '1.00', '1.02', '1.05', '0.98', '1.00', '1.08', '1.03', '0.95', '1.02']\n",
            "gapd_4\n",
            "\t 5908.0  6142.530216504641 6142.53\n",
            "\t [299. 204. 164. 218. 234. 187. 260. 187. 262. 166. 222. 102. 228. 195.\n",
            " 201. 242. 235. 216. 187. 260.]\n",
            "\t [207. 204. 196. 191. 189. 200. 219. 203. 219. 209. 196. 195. 207. 182.\n",
            " 217. 194. 211. 187. 201. 211.]\n",
            "\t ['1.44', '1.00', '0.84', '1.14', '1.24', '0.94', '1.19', '0.92', '1.20', '0.79', '1.13', '0.52', '1.10', '1.07', '0.93', '1.25', '1.11', '1.16', '0.93', '1.23']\n",
            "gapd_5\n",
            "\t 11918.0  12217.693424301258 12217.7\n",
            "\t [417. 502. 460. 494. 418. 428. 357. 350. 460. 476. 395. 404. 474. 402.\n",
            " 422. 375. 424. 408. 363. 387.]\n",
            "\t [407. 417. 416. 418. 401. 410. 402. 379. 384. 415. 402. 404. 427. 403.\n",
            " 393. 386. 421. 406. 400. 428.]\n",
            "\t ['1.02', '1.20', '1.11', '1.18', '1.04', '1.04', '0.89', '0.92', '1.20', '1.15', '0.98', '1.00', '1.11', '1.00', '1.07', '0.97', '1.01', '1.00', '0.91', '0.90']\n",
            "e05100\n",
            "\t 12449.0 12681 12641.419125080416 12641.4\n",
            "\t [158. 175. 223. 171. 167.]\n",
            "\t [156. 162. 219. 169. 174.]\n",
            "\t ['1.01', '1.08', '1.02', '1.01', '0.96']\n",
            "e05200\n",
            "\t 24792.0 24931 24922.0 24922\n",
            "\t [321. 388. 322. 329. 375.]\n",
            "\t [319. 388. 327. 328. 365.]\n",
            "\t ['1.01', '1.00', '0.98', '1.00', '1.03']\n",
            "e10100\n",
            "\t 11477.0 11577 11543.054254892704 11543.1\n",
            "\t [ 82.  89. 116.  75.  87.  78.  88.  69.  90.  91.]\n",
            "\t [ 78.  81. 109.  84.  87.  76.  94.  69.  95.  87.]\n",
            "\t ['1.05', '1.10', '1.06', '0.89', '1.00', '1.03', '0.94', '1.00', '0.95', '1.05']\n",
            "e10200\n",
            "\t 23238.0 23307 23293.856148538962 23293.9\n",
            "\t [160. 198. 157. 165. 184. 182. 159. 158. 157. 168.]\n",
            "\t [159. 194. 163. 164. 182. 180. 158. 164. 156. 164.]\n",
            "\t ['1.01', '1.02', '0.96', '1.01', '1.01', '1.01', '1.01', '0.96', '1.01', '1.02']\n",
            "e10400\n",
            "\t 45581.0 45748 45739.20722222222 45739.2\n",
            "\t [358. 327. 363. 319. 327. 343. 340. 343. 358. 345.]\n",
            "\t [353. 327. 363. 323. 321. 340. 338. 351. 357. 339.]\n",
            "\t ['1.01', '1.00', '1.00', '0.99', '1.02', '1.01', '1.01', '0.98', '1.00', '1.02']\n",
            "e15900\n",
            "\t 102257.0 102426 102416.60969008038 102417\n",
            "\t [521. 498. 514. 520. 503. 489. 527. 513. 496. 473. 500. 520. 515. 486.\n",
            " 505.]\n",
            "\t [517. 498. 511. 523. 503. 489. 524. 510. 494. 473. 501. 523. 515. 487.\n",
            " 501.]\n",
            "\t ['1.01', '1.00', '1.01', '0.99', '1.00', '1.00', '1.01', '1.01', '1.00', '1.00', '1.00', '0.99', '1.00', '1.00', '1.01']\n",
            "e20100\n",
            "\t 8261.0 8436 8359.582040205074 8359.58\n",
            "\t [59. 44. 98. 42. 43. 71. 60. 45. 86. 46. 87. 36. 67. 47. 53. 44. 56. 42.\n",
            " 44. 54.]\n",
            "\t [50. 48. 91. 42. 47. 67. 53. 45. 75. 57. 81. 43. 63. 46. 57. 49. 58. 43.\n",
            " 39. 57.]\n",
            "\t ['1.18', '0.92', '1.08', '1.00', '0.91', '1.06', '1.13', '1.00', '1.15', '0.81', '1.07', '0.84', '1.06', '1.02', '0.93', '0.90', '0.97', '0.98', '1.13', '0.95']\n",
            "e20200\n",
            "\t 22219.0 22379 22355.933849409543 22355.9\n",
            "\t [ 79. 106.  80.  80.  85.  93.  86.  83.  82.  75.  91.  85.  86.  76.\n",
            "  84.  94.  89.  85.  88.  83.]\n",
            "\t [79. 97. 81. 82. 91. 90. 79. 82. 78. 82. 87. 82. 88. 80. 82. 93. 89. 89.\n",
            " 89. 80.]\n",
            "\t ['1.00', '1.09', '0.99', '0.98', '0.93', '1.03', '1.09', '1.01', '1.05', '0.91', '1.05', '1.04', '0.98', '0.95', '1.02', '1.01', '1.00', '0.96', '0.99', '1.04']\n",
            "e20400\n",
            "\t 44789.0 44879 44861.76164021164 44861.8\n",
            "\t [173. 155. 188. 164. 159. 171. 167. 171. 184. 170. 165. 168. 159. 175.\n",
            " 169. 176. 172. 170. 168. 160.]\n",
            "\t [176. 163. 181. 161. 160. 170. 169. 175. 178. 169. 165. 170. 154. 174.\n",
            " 169. 180. 165. 172. 171. 157.]\n",
            "\t ['0.98', '0.95', '1.04', '1.02', '0.99', '1.01', '0.99', '0.98', '1.03', '1.01', '1.00', '0.99', '1.03', '1.01', '1.00', '0.98', '1.04', '0.99', '0.98', '1.02']\n",
            "e201600\n",
            "\t 180484.0 180659 180640.2918004535 180640\n",
            "\t [681. 675. 691. 672. 674. 651. 700. 656. 691. 673. 648. 679. 673. 681.\n",
            " 694. 679. 649. 649. 644. 689.]\n",
            "\t [683. 676. 683. 677. 666. 643. 693. 664. 690. 675. 651. 671. 670. 677.\n",
            " 692. 684. 653. 650. 647. 693.]\n",
            "\t ['1.00', '1.00', '1.01', '0.99', '1.01', '1.01', '1.01', '0.99', '1.00', '1.00', '1.00', '1.01', '1.00', '1.01', '1.00', '0.99', '0.99', '1.00', '1.00', '0.99']\n",
            "e30900\n",
            "\t 100298.0 100433 100413.32272897898 100413\n",
            "\t [259. 249. 257. 258. 251. 246. 255. 258. 250. 242. 249. 259. 257. 248.\n",
            " 245. 264. 265. 255. 244. 243. 261. 239. 253. 260. 246. 268. 246. 260.\n",
            " 250. 240.]\n",
            "\t [258. 249. 255. 261. 251. 244. 262. 255. 247. 236. 250. 261. 257. 243.\n",
            " 250. 265. 258. 247. 247. 241. 257. 244. 255. 259. 246. 267. 252. 256.\n",
            " 252. 244.]\n",
            "\t ['1.00', '1.00', '1.01', '0.99', '1.00', '1.01', '0.97', '1.01', '1.01', '1.03', '1.00', '0.99', '1.00', '1.02', '0.98', '1.00', '1.03', '1.03', '0.99', '1.01', '1.02', '0.98', '0.99', '1.00', '1.00', '1.00', '0.98', '1.02', '0.99', '0.98']\n",
            "e40400\n",
            "\t 44366.0  44523.428604976725 44523.4\n",
            "\t [94. 74. 96. 83. 74. 83. 84. 84. 82. 86. 84. 77. 83. 84. 92. 93. 86. 86.\n",
            " 84. 84. 74. 86. 94. 85. 85. 87. 84. 83. 85. 76. 74. 84. 88. 83. 91. 88.\n",
            " 84. 84. 83. 81.]\n",
            "\t [91. 81. 90. 80. 80. 85. 84. 87. 89. 84. 82. 85. 77. 87. 84. 90. 82. 86.\n",
            " 85. 78. 76. 77. 85. 81. 86. 86. 87. 86. 86. 81. 80. 84. 86. 86. 87. 84.\n",
            " 84. 84. 85. 83.]\n",
            "\t ['1.03', '0.91', '1.07', '1.04', '0.93', '0.98', '1.00', '0.97', '0.92', '1.02', '1.02', '0.91', '1.08', '0.97', '1.10', '1.03', '1.05', '1.00', '0.99', '1.08', '0.97', '1.12', '1.11', '1.05', '0.99', '1.01', '0.97', '0.97', '0.99', '0.94', '0.93', '1.00', '1.02', '0.97', '1.05', '1.05', '1.00', '1.00', '0.98', '0.98']\n",
            "e60900\n",
            "\t 99904.0  100103.25978504593 100103\n",
            "\t [127. 129. 126. 128. 127. 124. 134. 127. 122. 117. 121. 124. 127. 126.\n",
            " 127. 131. 135. 125. 124. 122. 131. 124. 122. 132. 121. 137. 119. 128.\n",
            " 128. 127. 116. 125. 119. 118. 125. 131. 119. 119. 114. 124. 130. 118.\n",
            " 126. 124. 130. 125. 126. 127. 129. 129. 128. 135. 124. 125. 125. 128.\n",
            " 130. 128. 124. 128.]\n",
            "\t [129. 124. 127. 130. 125. 122. 131. 127. 123. 118. 125. 130. 128. 121.\n",
            " 125. 132. 129. 123. 123. 120. 128. 122. 127. 129. 123. 133. 126. 128.\n",
            " 126. 122. 121. 123. 123. 121. 130. 129. 117. 120. 119. 126. 129. 118.\n",
            " 130. 125. 129. 123. 125. 126. 130. 122. 131. 130. 125. 123. 124. 128.\n",
            " 124. 126. 126. 128.]\n",
            "\t ['0.98', '1.04', '0.99', '0.98', '1.02', '1.02', '1.02', '1.00', '0.99', '0.99', '0.97', '0.95', '0.99', '1.04', '1.02', '0.99', '1.05', '1.02', '1.01', '1.02', '1.02', '1.02', '0.96', '1.02', '0.98', '1.03', '0.94', '1.00', '1.02', '1.04', '0.96', '1.02', '0.97', '0.98', '0.96', '1.02', '1.02', '0.99', '0.96', '0.98', '1.01', '1.00', '0.97', '0.99', '1.01', '1.02', '1.01', '1.01', '0.99', '1.06', '0.98', '1.04', '0.99', '1.02', '1.01', '1.00', '1.05', '1.02', '0.98', '1.00']\n",
            "e401600\n",
            "\t 178140.0 178307 178282.61930675915 178283\n",
            "\t [342. 338. 338. 333. 333. 321. 348. 336. 346. 337. 323. 327. 336. 338.\n",
            " 344. 336. 334. 325. 317. 339. 320. 322. 337. 331. 346. 333. 338. 339.\n",
            " 351. 340. 331. 340. 340. 341. 343. 344. 343. 324. 335. 335.]\n",
            "\t [341. 338. 341. 338. 333. 321. 346. 332. 345. 337. 325. 335. 335. 338.\n",
            " 346. 342. 326. 325. 323. 346. 322. 320. 341. 332. 342. 331. 335. 338.\n",
            " 349. 336. 334. 336. 338. 335. 338. 338. 342. 324. 333. 337.]\n",
            "\t ['1.00', '1.00', '0.99', '0.99', '1.00', '1.00', '1.01', '1.01', '1.00', '1.00', '0.99', '0.98', '1.00', '1.00', '0.99', '0.98', '1.02', '1.00', '0.98', '0.98', '0.99', '1.01', '0.99', '1.00', '1.01', '1.01', '1.01', '1.00', '1.01', '1.01', '0.99', '1.01', '1.01', '1.02', '1.01', '1.02', '1.00', '1.00', '1.01', '0.99']\n",
            "e801600\n",
            "\t 176526.0  176780.98924722552 176781\n",
            "\t [170. 174. 171. 168. 174. 167. 179. 167. 176. 175. 164. 166. 166. 170.\n",
            " 175. 176. 159. 166. 157. 174. 162. 167. 171. 170. 171. 166. 167. 177.\n",
            " 169. 162. 174. 170. 174. 166. 168. 169. 164. 159. 174. 169. 168. 168.\n",
            " 173. 166. 169. 167. 162. 165. 164. 170. 165. 171. 169. 179. 167. 161.\n",
            " 165. 170. 166. 170. 168. 170. 171. 171. 163. 172. 161. 169. 162. 166.\n",
            " 159. 157. 160. 167. 164. 158. 158. 171. 178. 172.]\n",
            "\t [170. 169. 170. 169. 166. 160. 173. 166. 172. 168. 162. 167. 167. 169.\n",
            " 173. 171. 163. 162. 161. 173. 161. 160. 170. 166. 171. 165. 167. 169.\n",
            " 174. 168. 167. 168. 169. 167. 169. 169. 171. 162. 166. 168. 168. 173.\n",
            " 176. 168. 166. 164. 168. 170. 171. 170. 167. 172. 166. 173. 167. 167.\n",
            " 165. 169. 164. 168. 170. 168. 168. 168. 166. 171. 167. 169. 165. 163.\n",
            " 165. 162. 166. 168. 169. 160. 165. 173. 172. 172.]\n",
            "\t ['1.00', '1.03', '1.01', '0.99', '1.05', '1.04', '1.03', '1.01', '1.02', '1.04', '1.01', '0.99', '0.99', '1.01', '1.01', '1.03', '0.98', '1.02', '0.98', '1.01', '1.01', '1.04', '1.01', '1.02', '1.00', '1.01', '1.00', '1.05', '0.97', '0.96', '1.04', '1.01', '1.03', '0.99', '0.99', '1.00', '0.96', '0.98', '1.05', '1.01', '1.00', '0.97', '0.98', '0.99', '1.02', '1.02', '0.96', '0.97', '0.96', '1.00', '0.99', '0.99', '1.02', '1.03', '1.00', '0.96', '1.00', '1.01', '1.01', '1.01', '0.99', '1.01', '1.02', '1.02', '0.98', '1.01', '0.96', '1.00', '0.98', '1.02', '0.96', '0.97', '0.96', '0.99', '0.97', '0.99', '0.96', '0.99', '1.03', '1.00']\n"
          ]
        }
      ],
      "source": [
        "# Run benchmark tests\n",
        "for idee in ids_list:\n",
        "    #print(idee)\n",
        "    d = data_items[idee]\n",
        "    try:\n",
        "        #print(idee)\n",
        "        # Attempt to open and read the file\n",
        "        with open(idee + '.json', 'r') as file:\n",
        "            print(idee)\n",
        "            process, cost, time = read_file(file)\n",
        "    except Exception as e:\n",
        "        #print(f\"Failed to read {idee}.json: {e}\")\n",
        "        continue  # Skip to the next file\n",
        "    #process, cost, time = read_file(open(idee + '.json'))\n",
        "    #res, f, s, t_LP, t_Round = GAP(process, cost, time)\n",
        "    #final, z0, msg, t_LP, t_Round = GAP(processtime, costmatrix, timebound)\n",
        "    final, z0, msg, t_LP, t_Round = GAP(process, cost, time)\n",
        "    d['timeLP'] = t_LP\n",
        "    d['timeRound'] = t_Round\n",
        "    d['status'] = msg\n",
        "    if(final is None):\n",
        "        d['algLP'] = np.nan\n",
        "        d['algcost'] = np.nan\n",
        "        d['algT'] = [np.nan]\n",
        "        d['T'] = [np.nan]\n",
        "        if msg == 'primal infeasible':\n",
        "            print(\"Problem appears to be infeasible.\")\n",
        "        if msg == 'unknown':\n",
        "            print(\"Status unknown.\")\n",
        "    else:\n",
        "        if msg == 'unknown':\n",
        "            print(\"Terminated early.\")\n",
        "        d['algLP'] = z0\n",
        "        d['algcost'] = costfactor(final, cost)\n",
        "        d['algT'] = timefactor(final, process)\n",
        "        d['T'] = time\n",
        "        # Calculate the necessary metrics, including cost and time metrics,\n",
        "        # as well as ratios of calculated processing times to given time constraints\n",
        "        # Printing algorithmic cost and optimal value\n",
        "        print('\\t', d['algcost'], d['opt'], d['algLP'], d['LP'])\n",
        "        print('\\t', d['algT'])\n",
        "        print('\\t', d['T'])\n",
        "        # print list of ratios of times\n",
        "        print('\\t', [format(d['algT'][i]/d['T'][i], '.2f') for i in range(len(d['algT']))])"
      ]
    },
    {
      "cell_type": "code",
      "execution_count": 58,
      "metadata": {
        "id": "J8SfMv_jKhwU"
      },
      "outputs": [],
      "source": [
        "# write data\n",
        "with open('benchmark_data_glpk3.csv', 'w') as csvfile:\n",
        "    writer = csv.writer(csvfile)\n",
        "    writer.writerow(['id', 'n', 'm', 'status', 'LP', 'algLP', 'opt', 'UB', 'algcost', 'algmaxTratio', 'timeLP', 'timeRound'])\n",
        "    for idee in ids_list:\n",
        "        d = data_items[idee]\n",
        "        status = d.get('status', 'N/A')\n",
        "        algLP = d.get('algLP', 'N/A')\n",
        "        algcost = d.get('algcost', 'N/A')\n",
        "        timeLP = d.get('timeLP', 'N/A')\n",
        "        timeRound = d.get('timeRound', 'N/A')\n",
        "        if 'algT' in d:\n",
        "            algT_ratio = max([d['algT'][i] / d['T'][i] for i in range(len(d['algT']))])\n",
        "        else:\n",
        "            algT_ratio = 'N/A'\n",
        "\n",
        "        writer.writerow([idee, d['n'], d['m'], status, d['LP'], algLP, d['opt'], d['UB'], algcost, algT_ratio , timeLP, timeRound])"
      ]
    },
    {
      "cell_type": "code",
      "execution_count": 59,
      "metadata": {
        "id": "HRSdvZlwKox7"
      },
      "outputs": [],
      "source": [
        "def draw(x, cycle, show=False):\n",
        "    # Early Return\n",
        "    if (show==False):\n",
        "        return\n",
        "\n",
        "    # Setup cycle edges\n",
        "    cycle_edges = []\n",
        "    for idx, j in enumerate(cycle[-1]):\n",
        "        # Add edges in addition\n",
        "        if idx != 0:\n",
        "            cycle_edges.append((\"i{}\".format(cycle[0][idx-1]), \"j{}\".format(j)))\n",
        "        if idx != len(cycle[-1])-1:\n",
        "            cycle_edges.append((\"j{}\".format(j),\"i{}\".format(cycle[0][idx])))\n",
        "\n",
        "    # Initialize the Graph\n",
        "    B = nx.Graph()\n",
        "    B.add_nodes_from(['i{}'.format(i) for i in range(x.shape[0])], bipartite=0)\n",
        "    B.add_nodes_from(['j{}'.format(i) for i in range(x.shape[1])], bipartite=1)\n",
        "\n",
        "    # Add edges from the matrix\n",
        "    B.add_edges_from([('i{}'.format(i),'j{}'.format(j))\n",
        "                      for i,j in itertools.product(range(x.shape[0]), range(x.shape[1]))\n",
        "                      if x[i,j]])\n",
        "\n",
        "    # Setup edge colors\n",
        "    edge_color = []\n",
        "    for edge in B.edges():\n",
        "        if edge not in cycle_edges and (edge[-1],edge[0]) not in cycle_edges:\n",
        "            edge_color.append(-100)\n",
        "        else:\n",
        "            try:\n",
        "                idx = cycle_edges.index(edge)\n",
        "            except:\n",
        "                idx = cycle_edges.index((edge[-1],edge[0]))\n",
        "            edge_color.append(idx%2)\n",
        "\n",
        "    # Calculate positions\n",
        "    X = set(n for n,d in B.nodes(data=True) if d['bipartite']==0)\n",
        "    Y = set(B) - X\n",
        "    pos = dict()\n",
        "    pos.update( (n, (1, int(n[1:])*60)) for i, n in enumerate(X) )\n",
        "    pos.update( (n, (2, int(n[1:])*30)) for i, n in enumerate(Y) )\n",
        "\n",
        "    # Draw graphs\n",
        "    nx.draw_networkx(B, pos=pos, with_labels=1, node_size=400,edge_color=edge_color,\n",
        "                     edge_cmap=plt.get_cmap('Paired'), edge_vmin=-1, edge_vmax=1, width=4)\n",
        "\n",
        "    plt.show()"
      ]
    },
    {
      "cell_type": "code",
      "execution_count": 60,
      "metadata": {
        "id": "pGXkz2OMKsbz",
        "colab": {
          "base_uri": "https://localhost:8080/"
        },
        "outputId": "9bcb1192-2b66-498b-d570-c550b8eb0ba3"
      },
      "outputs": [
        {
          "output_type": "stream",
          "name": "stderr",
          "text": [
            "100%|██████████| 1/1 [00:00<00:00, 329.82it/s]"
          ]
        },
        {
          "output_type": "stream",
          "name": "stdout",
          "text": [
            "[0 0 1 0 1] 30.602917768722925 26.3063074961493 8.752311299335453 [11.62016076  8.80089016]\n"
          ]
        },
        {
          "output_type": "stream",
          "name": "stderr",
          "text": [
            "\n"
          ]
        }
      ],
      "source": [
        "# Initialize variables\n",
        "cf = 3\n",
        "pf = 2\n",
        "n = 5\n",
        "m = 2\n",
        "from tqdm import *\n",
        "\n",
        "# Setup simulation\n",
        "for i in tqdm([78]):\n",
        "\n",
        "    # Generate the matrix\n",
        "    np.random.seed(i)\n",
        "    cost = np.exp(cf*np.random.rand(m,n))\n",
        "    process = np.exp(pf*np.random.rand(m,n))\n",
        "\n",
        "    # total time constraint\n",
        "    time = np.sum(process)*np.random.rand()\n",
        "\n",
        "    # Call the GAP function with the matrices P and C, and the time constraint T.\n",
        "    final, z0, *_ = GAP(process, cost, time, show=True)\n",
        "    if(final is None):\n",
        "        print(\"There is no feasible solution!\")\n",
        "    else:\n",
        "        print(final, z0, costfactor(final, cost), time, timefactor(final, process))"
      ]
    },
    {
      "cell_type": "code",
      "execution_count": 61,
      "metadata": {
        "id": "n6V_DKLMLRc7",
        "colab": {
          "base_uri": "https://localhost:8080/"
        },
        "outputId": "346febbc-4019-449a-b244-886f42a122a9"
      },
      "outputs": [
        {
          "output_type": "stream",
          "name": "stdout",
          "text": [
            "2.36 ms ± 133 µs per loop (mean ± std. dev. of 7 runs, 100 loops each)\n",
            "29.5 ms ± 952 µs per loop (mean ± std. dev. of 7 runs, 10 loops each)\n",
            "70.3 ms ± 4.57 ms per loop (mean ± std. dev. of 7 runs, 10 loops each)\n",
            "570 ms ± 18.8 ms per loop (mean ± std. dev. of 7 runs, 1 loop each)\n",
            "1.89 s ± 553 ms per loop (mean ± std. dev. of 7 runs, 1 loop each)\n"
          ]
        }
      ],
      "source": [
        "# Setup variables\n",
        "cf = 3\n",
        "pf = 2\n",
        "from tqdm import *\n",
        "np.random.seed(0)\n",
        "\n",
        "# Generate random matrices C and P using the dimensions 'm' by 'n' and predefined scaling factors 'cf' and 'pf'.\n",
        "def perf(y, x, cf, pf):\n",
        "    for z in (range(1)):\n",
        "        cost = np.exp(cf * np.random.rand(x, y))\n",
        "        process = np.exp(pf * np.random.rand(x, y))\n",
        "        time = np.sum(process) * np.random.rand()\n",
        "        res, f, *_ = GAP(process, cost, time)\n",
        "\n",
        "# Benchmarking\n",
        "%timeit perf(10, 5, cf, pf)\n",
        "%timeit perf(50, 5, cf, pf)\n",
        "%timeit perf(100, 5, cf, pf)\n",
        "%timeit perf(300, 5, cf, pf)\n",
        "%timeit perf(500, 5, cf, pf)\n",
        "#%timeit perf(1000, 5, cf, pf)\n",
        "#%timeit perf(5000, 20, cf, pf)"
      ]
    },
    {
      "cell_type": "code",
      "execution_count": null,
      "metadata": {
        "id": "DUgj_DYnLrMU"
      },
      "outputs": [],
      "source": [
        "# Create dataframes\n",
        "# data_frame = pd.DataFrame.from_dict({10:0.00954, 50:0.0567, 100:0.159, 300:1.23, 500:2.05, 1000:6.27},orient='index')\n",
        "\n",
        "# Sort the dataframe\n",
        "# sorted_data_frame = data_frame.sort_index()\n",
        "\n",
        "# Plot the graph\n",
        "# sorted_data_frame.plot()\n",
        "\n",
        "import pandas as pd\n",
        "import matplotlib.pyplot as plt\n",
        "\n",
        "# Create a DataFrame from a dictionary with an appropriate column name\n",
        "data_frames = pd.DataFrame.from_dict({10: 0.00954, 50: 0.0567, 100: 0.159, 300: 1.23, 500: 2.05, 1000: 6.27}, orient='index', columns=['Execution Time'])\n",
        "\n",
        "# Sort the DataFrame by index (problem size)\n",
        "sorted_data_frames = data_frames.sort_index()\n",
        "\n",
        "# Plotting the DataFrame\n",
        "# Adding markers for each data point\n",
        "ax = sorted_data_frames.plot(figsize =(10, 5), linestyle='-', color='r')\n",
        "\n",
        "# Title of the plot\n",
        "ax.set_title('Execution Time vs Mission')\n",
        "\n",
        "# X-axis label\n",
        "ax.set_xlabel('Mission')\n",
        "\n",
        "# Y-axis label\n",
        "ax.set_ylabel('Execution Time (seconds)')\n",
        "\n",
        "# Adding a grid for better readability\n",
        "plt.grid(True)\n",
        "\n",
        "# Display the plot\n",
        "plt.show()"
      ]
    },
    {
      "cell_type": "code",
      "execution_count": null,
      "metadata": {
        "id": "4-liwBaELvJL"
      },
      "outputs": [],
      "source": [
        "# Initialize the variables\n",
        "cf = 3\n",
        "pf = 2\n",
        "from tqdm import *\n",
        "np.random.seed(0)\n",
        "\n",
        "# Take the number of missions (n), number of drones (m), and two factors (cf and pf) that influence the range of values in the matrices C and P.\n",
        "def perf(y, x, cf, pf):\n",
        "    for i in (range(1)):\n",
        "        cost = np.exp(cf * np.random.rand(x, y))\n",
        "        process = np.exp(pf * np.random.rand(x, y))\n",
        "        time = np.sum(process) * np.random.rand()\n",
        "        final, z0, *_ = GAP(process, cost, time)\n",
        "\n",
        "# Benchmarking\n",
        "%timeit perf(500, 2, cf, pf)\n",
        "%timeit perf(500, 5, cf, pf)\n",
        "%timeit perf(500, 10, cf, pf)\n",
        "%timeit perf(500, 20, cf, pf)\n",
        "%timeit perf(500, 30, cf, pf)\n",
        "#%timeit perf(500, 50, cf, pf)\n",
        "#%timeit perf(500, 100, cf, pf)\n",
        "#%timeit perf(500, 500, cf, pf)"
      ]
    },
    {
      "cell_type": "code",
      "execution_count": 64,
      "metadata": {
        "id": "j-hCTokEMO1z",
        "colab": {
          "base_uri": "https://localhost:8080/",
          "height": 487
        },
        "outputId": "c1992925-8dfa-488b-9930-7165d77be6ef"
      },
      "outputs": [
        {
          "data": {
            "image/png": "[encoded data removed]",
            "text/plain": [
              "<Figure size 1000x500 with 1 Axes>"
            ]
          },
          "metadata": {},
          "output_type": "display_data"
        }
      ],
      "source": [
        "import pandas as pd\n",
        "import matplotlib.pyplot as plt\n",
        "\n",
        "# Dictionary of data\n",
        "dic = {2: 1.57, 5: 2.11, 10: 3.17, 20: 5.55, 30: 8.24, 50: 15, 100: 34.2}\n",
        "\n",
        "# Create DataFrame from dictionary\n",
        "data_frames = pd.DataFrame.from_dict(dic, orient='index')\n",
        "\n",
        "# Sort DataFrame by index (number of machines)\n",
        "sorted_data_frame = data_frames.sort_index()\n",
        "\n",
        "# Add markers, line, and set color\n",
        "ax = sorted_data_frame.plot(linestyle='-', color='r', figsize=(10, 5))\n",
        "# Title of the plot\n",
        "ax.set_title('Execution Time v Missions')\n",
        "# X-axis label\n",
        "ax.set_xlabel('Missions')\n",
        "# Y-axis label\n",
        "ax.set_ylabel('Execution Time (seconds)')\n",
        "# Add grid for better readability\n",
        "plt.grid(True)\n",
        "# Display the plot\n",
        "plt.show()"
      ]
    }
  ],
  "metadata": {
    "colab": {
      "provenance": [],
      "authorship_tag": "ABX9TyM6BW+MLBlWVgj1xdQwjqG7",
      "include_colab_link": true
    },
    "kernelspec": {
      "display_name": "Python 3",
      "name": "python3"
    },
    "language_info": {
      "name": "python"
    }
  },
  "nbformat": 4,
  "nbformat_minor": 0
}