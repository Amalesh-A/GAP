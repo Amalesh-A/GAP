{
  "cells": [
    {
      "cell_type": "markdown",
      "source": [
        "\n",
        "\n",
        "---\n",
        "\n",
        "\n",
        "Install necessary packages\n",
        "\n",
        "---\n",
        "\n"
      ],
      "metadata": {
        "id": "iQIU0G7MBjlW"
      }
    },
    {
      "cell_type": "code",
      "source": [
        "pip install matplotlib"
      ],
      "metadata": {
        "colab": {
          "base_uri": "https://localhost:8080/"
        },
        "id": "cJJaldV1_hrs",
        "outputId": "10c108f6-395c-4024-c24b-a4771dda4030"
      },
      "execution_count": 6,
      "outputs": [
        {
          "output_type": "stream",
          "name": "stdout",
          "text": [
            "Requirement already satisfied: matplotlib in /usr/local/lib/python3.10/dist-packages (3.7.1)\n",
            "Requirement already satisfied: contourpy>=1.0.1 in /usr/local/lib/python3.10/dist-packages (from matplotlib) (1.2.1)\n",
            "Requirement already satisfied: cycler>=0.10 in /usr/local/lib/python3.10/dist-packages (from matplotlib) (0.12.1)\n",
            "Requirement already satisfied: fonttools>=4.22.0 in /usr/local/lib/python3.10/dist-packages (from matplotlib) (4.51.0)\n",
            "Requirement already satisfied: kiwisolver>=1.0.1 in /usr/local/lib/python3.10/dist-packages (from matplotlib) (1.4.5)\n",
            "Requirement already satisfied: numpy>=1.20 in /usr/local/lib/python3.10/dist-packages (from matplotlib) (1.25.2)\n",
            "Requirement already satisfied: packaging>=20.0 in /usr/local/lib/python3.10/dist-packages (from matplotlib) (24.0)\n",
            "Requirement already satisfied: pillow>=6.2.0 in /usr/local/lib/python3.10/dist-packages (from matplotlib) (9.4.0)\n",
            "Requirement already satisfied: pyparsing>=2.3.1 in /usr/local/lib/python3.10/dist-packages (from matplotlib) (3.1.2)\n",
            "Requirement already satisfied: python-dateutil>=2.7 in /usr/local/lib/python3.10/dist-packages (from matplotlib) (2.8.2)\n",
            "Requirement already satisfied: six>=1.5 in /usr/local/lib/python3.10/dist-packages (from python-dateutil>=2.7->matplotlib) (1.16.0)\n"
          ]
        }
      ]
    },
    {
      "cell_type": "code",
      "source": [
        "pip install pandas"
      ],
      "metadata": {
        "colab": {
          "base_uri": "https://localhost:8080/"
        },
        "id": "lZT08kYF_hmW",
        "outputId": "8b6f1770-46ba-45ad-83c1-d4f6e3ac1a5c"
      },
      "execution_count": 7,
      "outputs": [
        {
          "output_type": "stream",
          "name": "stdout",
          "text": [
            "Requirement already satisfied: pandas in /usr/local/lib/python3.10/dist-packages (2.0.3)\n",
            "Requirement already satisfied: python-dateutil>=2.8.2 in /usr/local/lib/python3.10/dist-packages (from pandas) (2.8.2)\n",
            "Requirement already satisfied: pytz>=2020.1 in /usr/local/lib/python3.10/dist-packages (from pandas) (2023.4)\n",
            "Requirement already satisfied: tzdata>=2022.1 in /usr/local/lib/python3.10/dist-packages (from pandas) (2024.1)\n",
            "Requirement already satisfied: numpy>=1.21.0 in /usr/local/lib/python3.10/dist-packages (from pandas) (1.25.2)\n",
            "Requirement already satisfied: six>=1.5 in /usr/local/lib/python3.10/dist-packages (from python-dateutil>=2.8.2->pandas) (1.16.0)\n"
          ]
        }
      ]
    },
    {
      "cell_type": "code",
      "source": [
        "pip install cvxopt"
      ],
      "metadata": {
        "colab": {
          "base_uri": "https://localhost:8080/"
        },
        "id": "FSRh2ATy_hgz",
        "outputId": "61e06f38-80d8-4b0f-e1e3-16252ed00830"
      },
      "execution_count": 8,
      "outputs": [
        {
          "output_type": "stream",
          "name": "stdout",
          "text": [
            "Requirement already satisfied: cvxopt in /usr/local/lib/python3.10/dist-packages (1.3.2)\n"
          ]
        }
      ]
    },
    {
      "cell_type": "code",
      "source": [
        "pip install networkx"
      ],
      "metadata": {
        "colab": {
          "base_uri": "https://localhost:8080/"
        },
        "id": "Zl8mEg9t_ha_",
        "outputId": "0b04d040-12d3-47af-9bc5-66c866d05c70"
      },
      "execution_count": 9,
      "outputs": [
        {
          "output_type": "stream",
          "name": "stdout",
          "text": [
            "Requirement already satisfied: networkx in /usr/local/lib/python3.10/dist-packages (3.3)\n"
          ]
        }
      ]
    },
    {
      "cell_type": "code",
      "source": [
        "pip install cv"
      ],
      "metadata": {
        "colab": {
          "base_uri": "https://localhost:8080/"
        },
        "id": "mxqrpQpa_hPq",
        "outputId": "42d68852-ae7e-4558-927a-82122e6dd984"
      },
      "execution_count": 10,
      "outputs": [
        {
          "output_type": "stream",
          "name": "stdout",
          "text": [
            "Collecting cv\n",
            "  Downloading cv-1.0.0-py3-none-any.whl (7.3 kB)\n",
            "Installing collected packages: cv\n",
            "Successfully installed cv-1.0.0\n"
          ]
        }
      ]
    },
    {
      "cell_type": "code",
      "source": [
        "%matplotlib inline"
      ],
      "metadata": {
        "id": "FM3kUB_q_w-T"
      },
      "execution_count": 11,
      "outputs": []
    },
    {
      "cell_type": "markdown",
      "source": [
        "\n",
        "\n",
        "---\n",
        "\n",
        "\n",
        "Import libraries and set up an environment for numerical and network analysis,\n",
        "as well as optimization problems. Specifically, import **matplotlib.pyplot** for plotting graphs, **numpy** for numerical operations, and **pandas** for\n",
        "data manipulation. Also, import **cvxopt** for solving convex optimization problems, with options set to suppress progress messages during computation. The **networkx** library and its bipartite module are included for creating and manipulating complex networks and graphs. Additional standard libraries like **itertools**, **json**, and **csv** are loaded for more general programming tasks such as iterating in complex ways, handling JSON data, and reading/writing CSV files.\n",
        "\n",
        "---\n",
        "\n"
      ],
      "metadata": {
        "id": "DJEHty0_Bn4T"
      }
    },
    {
      "cell_type": "code",
      "source": [
        "import matplotlib.pyplot as plt"
      ],
      "metadata": {
        "id": "Fm-TOtfu_w3i"
      },
      "execution_count": 12,
      "outputs": []
    },
    {
      "cell_type": "code",
      "source": [
        "import numpy as np"
      ],
      "metadata": {
        "id": "uI8JrXKP_wwj"
      },
      "execution_count": 2,
      "outputs": []
    },
    {
      "cell_type": "code",
      "source": [
        "import pandas as pd"
      ],
      "metadata": {
        "id": "3CRSSk_3_wpT"
      },
      "execution_count": 13,
      "outputs": []
    },
    {
      "cell_type": "code",
      "source": [
        "from cvxopt import matrix, spmatrix, solvers"
      ],
      "metadata": {
        "id": "Z0OBWRWJ_whD"
      },
      "execution_count": 14,
      "outputs": []
    },
    {
      "cell_type": "code",
      "source": [
        "import networkx as nx"
      ],
      "metadata": {
        "id": "FxBuOCNA_6tv"
      },
      "execution_count": 15,
      "outputs": []
    },
    {
      "cell_type": "code",
      "source": [
        "from networkx.algorithms import bipartite"
      ],
      "metadata": {
        "id": "_6mCo2qt_6mK"
      },
      "execution_count": 16,
      "outputs": []
    },
    {
      "cell_type": "code",
      "source": [
        "import itertools"
      ],
      "metadata": {
        "id": "ZLhvJElP_6cm"
      },
      "execution_count": 17,
      "outputs": []
    },
    {
      "cell_type": "code",
      "source": [
        "import json"
      ],
      "metadata": {
        "id": "chG1-oDW__Rk"
      },
      "execution_count": 18,
      "outputs": []
    },
    {
      "cell_type": "code",
      "source": [
        "import csv"
      ],
      "metadata": {
        "id": "HzzSy7So__I7"
      },
      "execution_count": 19,
      "outputs": []
    },
    {
      "cell_type": "code",
      "source": [
        "import time as tm"
      ],
      "metadata": {
        "id": "QsxcC5g8ACGN"
      },
      "execution_count": 20,
      "outputs": []
    },
    {
      "cell_type": "code",
      "execution_count": 21,
      "metadata": {
        "id": "reOWeTtcq_Qh"
      },
      "outputs": [],
      "source": [
        "eps = 1e-10\n",
        "solvers.options['show_progress'] = False"
      ]
    },
    {
      "cell_type": "markdown",
      "source": [
        "In the generalized assignment problem, we are given a collection of jobs to be assigned to machines. Each job is to be assigned to exactly one machine; if it is assigned to machine , then it requires\n",
        "time units of processing, and incurs a cost of\n",
        ". Furthermore, we are given a time bound that limits the total processing of each machine . The aim is to find a feasible assignment of minimum total cost."
      ],
      "metadata": {
        "id": "21YZCiFUPP6B"
      }
    },
    {
      "cell_type": "markdown",
      "source": [
        "\n",
        "---\n",
        "\n",
        "Calculate an initial solution using linear programming, \\\\\n",
        "Construct a graph based on this solution, and then \\\\\n",
        "Apply a deterministic rounding technique to refine the solution.\n",
        "\n",
        "---\n",
        "\n"
      ],
      "metadata": {
        "id": "lvVg9YT1DLpM"
      }
    },
    {
      "cell_type": "code",
      "execution_count": 35,
      "metadata": {
        "id": "W1MMtBsbrEIs"
      },
      "outputs": [],
      "source": [
        "def GAP(p,c,T, show=False):\n",
        "  # Capture the current time and calculate initial linear programming solution\n",
        "    time0 = tm.perf_counter()\n",
        "    solution, objective_value, status = LinearPrgSoln(p, c, T)\n",
        "\n",
        "    # Capture the time immediately after the linear programming solution to calculate the duration of this phase.\n",
        "    time1 = tm.perf_counter()\n",
        "\n",
        "    # Check if a valid solution exists\n",
        "    if solution is None:\n",
        "      return None, objective_value, status, time1 - time0, np.nan\n",
        "\n",
        "    # Capture the time before starting the graph building\n",
        "    time2 = tm.perf_counter()\n",
        "\n",
        "    # Construct a graph using the solution\n",
        "    consGraph = graphbuilder(solution, p)\n",
        "    final = deterministicRounding(consGraph, c, show)\n",
        "\n",
        "    # Capture the time after completing the deterministic rounding process\n",
        "    time3 = tm.perf_counter()\n",
        "    return final, objective_value, status, time1 - time0, time3 - time2"
      ]
    },
    {
      "cell_type": "markdown",
      "source": [
        "\n",
        "\n",
        "---\n",
        "\n",
        "Solve the linear programming problem based on the provided processtime matrix, costmatrix, and timebound\n",
        "\n",
        "---\n",
        "\n"
      ],
      "metadata": {
        "id": "rWfAWuP-E3Lq"
      }
    },
    {
      "cell_type": "code",
      "execution_count": 22,
      "metadata": {
        "id": "Iri0QIwUrEQj"
      },
      "outputs": [],
      "source": [
        "def LinearPrgSoln(processtime, costmatrix, timebound):\n",
        "\n",
        "        # Getting LP dimensions: Extract the dimensions of the processtime matrix.\n",
        "    x, y = processtime.shape\n",
        "\n",
        "    # Create an empty array\n",
        "    arr = np.empty(x*y)\n",
        "\n",
        "    # Initialize a list to construct a sparse matrix for upper bound constraints.\n",
        "    UpperboundA = []\n",
        "\n",
        "    # Construct the upper bound constraint vector by repeating timebound for each constraint\n",
        "    UpperboundB = np.concatenate((np.full(x, timebound), np.zeros(2*x*y)))\n",
        "\n",
        "    # Initialize Equality Constraint Matrix\n",
        "    ECA = np.ones(x*y)\n",
        "\n",
        "    # Initialize Equality Constraint Vector\n",
        "    ECB = np.ones(y)\n",
        "\n",
        "    # Indices for sparse data types\n",
        "    UpperboundAi = []\n",
        "    UpperboundAj = []\n",
        "    ECAi = []\n",
        "    ECAj = []\n",
        "\n",
        "    # Construct Coefficients and Constraints\n",
        "    for i in range(x):\n",
        "      for j in range(y):\n",
        "\n",
        "            # construct coefficient vector\n",
        "            arr[i * y + j] = costmatrix[i, j]\n",
        "\n",
        "            # construct equality constraint matrix\n",
        "            ECAi.append(j)\n",
        "            ECAj.append(i * y + j)\n",
        "\n",
        "            # construct entries to upper bound matrix\n",
        "            UpperboundA.append(processtime[i, j])\n",
        "            UpperboundAi.append(i)\n",
        "            UpperboundAj.append(i*y+j)\n",
        "            UpperboundA.append(-1)\n",
        "            UpperboundAi.append(x + i * y + j)\n",
        "            UpperboundAj.append(i * y + j)\n",
        "\n",
        "            # If timebound is a scalar, convert it to an array with the same value for each element\n",
        "            if isinstance(timebound, (int, float)):\n",
        "              timebound = np.full(x, timebound)\n",
        "\n",
        "            if processtime[i, j] > timebound[i]:\n",
        "              UpperboundA.append(1)\n",
        "              UpperboundAi.append(x + x * y + i * y + j)\n",
        "              UpperboundAj.append(i * y + j)\n",
        "\n",
        "    costVector = matrix(arr)\n",
        "\n",
        "    constraintMatrix = spmatrix(UpperboundA, UpperboundAi, UpperboundAj, size=(x + 2 * x * y, x * y))\n",
        "\n",
        "    upperbound = matrix(UpperboundB)\n",
        "\n",
        "    eqConstraint = spmatrix(ECA, ECAi, ECAj, size=(y, x * y))\n",
        "\n",
        "    eqTargetValue = matrix(ECB)\n",
        "\n",
        "    # get LP solution\n",
        "    solution = solvers.lp(costVector, constraintMatrix, upperbound, eqConstraint, eqTargetValue, solver='glpk')\n",
        "\n",
        "    if solution['status'] == 'primal infeasible':\n",
        "      return None, np.nan, solution['status']\n",
        "\n",
        "    return np.reshape(np.array(solution['x']), (x, y)), solution['primal objective'], solution['status']"
      ]
    },
    {
      "cell_type": "markdown",
      "source": [
        "\n",
        "\n",
        "---\n",
        "\n",
        "Convert the LP solution to a bipartite graph with fractional edge weights where one side represents jobs and the other side represents slots.\n",
        "\n",
        "---\n",
        "\n"
      ],
      "metadata": {
        "id": "Y1pxe52oE5gp"
      }
    },
    {
      "cell_type": "code",
      "execution_count": 23,
      "metadata": {
        "id": "bEjKSocxrEZD"
      },
      "outputs": [],
      "source": [
        "def graphbuilder(matx, processtime,):\n",
        "\n",
        "    # Matrix dimensions\n",
        "    x = matx.shape[0]\n",
        "    y = matx.shape[1]\n",
        "\n",
        "    # Initialize the graph array\n",
        "    grapharr = np.zeros((y, x, y))\n",
        "\n",
        "    # Loop over drones\n",
        "    for i in range(x):\n",
        "\n",
        "        # Current slot in drones i\n",
        "        s = 0\n",
        "\n",
        "        # Space left in current slot\n",
        "        left = 1\n",
        "\n",
        "        # Sort missions by process time\n",
        "        xin = np.argsort(-processtime[i])\n",
        "\n",
        "        # Loop over sorted missions\n",
        "        for j in xin:\n",
        "\n",
        "            # Assignment Logic\n",
        "            yin = matx[i, j]\n",
        "            if yin <= left:\n",
        "\n",
        "                # Fit mission in the current slot\n",
        "                grapharr[j, i, s] = yin\n",
        "                left -= yin\n",
        "\n",
        "            else:\n",
        "                grapharr[j, i, s] = left\n",
        "                s += 1\n",
        "                grapharr[j, i, s] = yin - left\n",
        "                left = 1 - (yin - left)\n",
        "\n",
        "    return grapharr"
      ]
    },
    {
      "cell_type": "markdown",
      "source": [
        "\n",
        "\n",
        "---\n",
        "\n",
        "\n",
        "Deterministicly round the input fractional min-cost perfect matching to a integral one and output it.\n",
        "\n",
        "\n",
        "---\n",
        "\n"
      ],
      "metadata": {
        "id": "NgzGCRJ4FL1x"
      }
    },
    {
      "cell_type": "code",
      "execution_count": 24,
      "metadata": {
        "id": "nmSoxQ9M6Bh4"
      },
      "outputs": [],
      "source": [
        "def deterministicRounding(arr, costmatrix, show=False):\n",
        "\n",
        "    # Extract dimensions from the Array 'arr'\n",
        "    x, y, z = arr.shape\n",
        "\n",
        "    # Initialize an array of size n and fill it with -1\n",
        "    t_arr = np.ones(x, dtype='int')*(-1)\n",
        "\n",
        "    # Reshape t_arr\n",
        "    new_arr = np.reshape(arr, (arr.shape[0], y * z))\n",
        "\n",
        "    # Preprocessing - Eliminate the edge with weight 1\n",
        "    for i in range(x):\n",
        "        for j in range(y * z):\n",
        "            if(new_arr[i,j] > 1-eps):\n",
        "                t_arr[i] = j//z\n",
        "                new_arr[i,j] = 0\n",
        "\n",
        "    # Assign all the missions\n",
        "    while(list(t_arr).count(-1) != 0):\n",
        "\n",
        "        # Find a cycle\n",
        "        cycle = bipartite(new_arr)\n",
        "\n",
        "        # Call round_cycle to process the cycle found by bipartite()\n",
        "        f0 = round_cycle(new_arr, cycle, z, costmatrix)\n",
        "        # Update the result and the matrix\n",
        "        if(f0.shape[0] != 0):\n",
        "            for j in range(f0.shape[0]):\n",
        "                t_arr[f0[j,0]]= f0[j,1] //z\n",
        "                new_arr[f0[j,0]][f0[j,1]]=0\n",
        "\n",
        "    return t_arr"
      ]
    },
    {
      "cell_type": "markdown",
      "source": [
        "\n",
        "---\n",
        "\n",
        "Find a cycle or an augmenting path in a bipartite graph.\n",
        "\n",
        "\n",
        "---\n",
        "\n"
      ],
      "metadata": {
        "id": "4pGw6HB5FUwE"
      }
    },
    {
      "cell_type": "code",
      "execution_count": 25,
      "metadata": {
        "id": "7cwv91f26PJH"
      },
      "outputs": [],
      "source": [
        "def bipartite(matx):\n",
        "\n",
        "    # Initialize lists for tracking\n",
        "    left = []\n",
        "    right = []\n",
        "\n",
        "    # Find non-zero columns\n",
        "    temp = np.where(np.sum(matx, axis = 0)> eps)[0]\n",
        "\n",
        "    # Copy of the graph\n",
        "    dup = np.copy(matx)\n",
        "    result = rdfs(dup, left, right, temp)\n",
        "    if(result is None):\n",
        "        print(dup)\n",
        "    return result\n",
        "\n",
        "def ldfs(matx, left, right, l):\n",
        "\n",
        "    # Initialize the left path\n",
        "    left.append(-1)\n",
        "\n",
        "    # Loop over starting nodes\n",
        "    for i in range(len(l)):\n",
        "\n",
        "        # Set current node\n",
        "        left[-1]=l[i]\n",
        "\n",
        "        # Current node connections\n",
        "        s = left[-1]\n",
        "        t = right[-1]\n",
        "\n",
        "        # Remove edge temporarily\n",
        "        matx[s,t]=0\n",
        "\n",
        "        # Find connections\n",
        "        llist = np.where(matx[left[-1],:] > eps)[0]\n",
        "\n",
        "        # Checks if the first node in the right list is in the newly found connections,\n",
        "        # which would indicate a cycle has been completed.\n",
        "        if(right[0] in llist):\n",
        "\n",
        "            # If a cycle is detected, appends the start node of right to right to complete the cycle,\n",
        "            # construct a cycle list with left and right, and return it.\n",
        "            right.append(right[0])\n",
        "            cyc = [left, right]\n",
        "            return cyc\n",
        "\n",
        "        # Recursive DFS call\n",
        "        cyc = rdfs(matx, left, right, llist)\n",
        "\n",
        "        # Cycle found in subsequent calls\n",
        "        if(cyc != None):\n",
        "            return cyc\n",
        "\n",
        "        # Restore edge if no cycle is found\n",
        "        if(len(right)!= 0):\n",
        "            matx[s,t]=1\n",
        "\n",
        "    # Backtrack\n",
        "    left.pop()\n",
        "    return None\n",
        "\n",
        "def rdfs(matx, left, right, l):\n",
        "\n",
        "    # Initialize the left path\n",
        "    right.append(-1)\n",
        "\n",
        "    # Loop over starting nodes\n",
        "    for i in range(len(l)):\n",
        "\n",
        "        # Set current node\n",
        "        right[-1]=l[i]\n",
        "\n",
        "        # Current node connections\n",
        "        s = -1\n",
        "        t = right[-1]\n",
        "\n",
        "        # Handle existing left path\n",
        "        if(len(left)>0):\n",
        "            s = left[-1]\n",
        "            matx[s,t]=0\n",
        "\n",
        "        # Find connections\n",
        "        rlist = np.where(matx[:,t] >eps)[0]\n",
        "\n",
        "        # Cycle completion check\n",
        "        if(rlist.shape[0] == 0):\n",
        "            if(np.where(matx[:,right[0]]>eps)[0].shape[0] == 0):\n",
        "                cycle = [left, right]\n",
        "                return cycle\n",
        "\n",
        "        # Recursive DFS call\n",
        "        cycle = ldfs(matx, left, right, rlist)\n",
        "\n",
        "        # Cycle found in subsequent calls\n",
        "        if(cycle != None):\n",
        "            return cycle\n",
        "\n",
        "        # Restore edge if no cycle is found\n",
        "        if(len(left)>0):\n",
        "            matx[s,t]=1\n",
        "\n",
        "    # Backtrack\n",
        "    right.pop()\n",
        "    return None"
      ]
    },
    {
      "cell_type": "markdown",
      "source": [
        "\n",
        "---\n",
        "Adjust the matrix representing a solution to adhere more closely to integer\n",
        "constraints by rounding values within a specified cycle. It determines the optimal rounding direction based on the costs and adjusts the matrix elements accordingly, ensuring that no element exceeds 1 or falls below 0 while trying to minimize the cost.\n",
        "\n",
        "---\n",
        "\n",
        "\n"
      ],
      "metadata": {
        "id": "WELRspgUF_qR"
      }
    },
    {
      "cell_type": "code",
      "execution_count": 26,
      "metadata": {
        "id": "W-xQzm_L6iK-"
      },
      "outputs": [],
      "source": [
        "def round_cycle(arr, cycle, k, costmatrix):\n",
        "\n",
        "    # Initialize variables\n",
        "    dir = 0\n",
        "    length = len(cycle[0])\n",
        "    for i in range(length):\n",
        "        dir += costmatrix[cycle[1][i]// k][cycle[0][i]]-costmatrix[cycle[1][i+1]// k][cycle[0][i]]\n",
        "\n",
        "    if(dir > eps):\n",
        "        cycle[0] = cycle[0][::-1]\n",
        "        cycle[1] = cycle[1][::-1]\n",
        "\n",
        "    x_1 = np.amin([1-arr[cycle[0][i], cycle[1][i]] for i in range(length)])\n",
        "    x_2 = np.amin([arr[cycle[0][i], cycle[1][i+1]] for i in range(length)])\n",
        "    mini_mum = min([x_1, x_2])\n",
        "    f0 = []\n",
        "    current = cycle[1][0]\n",
        "    for i in range(length):\n",
        "\n",
        "        m = cycle[0][i]\n",
        "        arr[m][current] +=  mini_mum\n",
        "        if(arr[m][current] > 1-eps):\n",
        "            f0.append([m, current])\n",
        "\n",
        "        current = cycle[1][i+1]\n",
        "        arr[m][current] -=  mini_mum\n",
        "        if(arr[m][current] < eps):\n",
        "            arr[m][current] = 0\n",
        "\n",
        "    return np.array(f0)"
      ]
    },
    {
      "cell_type": "markdown",
      "source": [
        "\n",
        "\n",
        "---\n",
        "\n",
        "\n",
        "Calculate the total cost of a solution represented by the 'final' array, where each element in final specifies a chosen option for each index, and the costmatrix provides the associated costs for these choices. It sums up the costs for all valid (non-negative) choices in the solution.\n",
        "\n",
        "---\n",
        "\n"
      ],
      "metadata": {
        "id": "1AHMn0B2G_0Q"
      }
    },
    {
      "cell_type": "code",
      "execution_count": 27,
      "metadata": {
        "id": "_q4HEKBG6tdf"
      },
      "outputs": [],
      "source": [
        "def costfactor(final, costmatrix):\n",
        "    x = 0\n",
        "    for z in range(len(final)):\n",
        "        if(final[z]>= 0):\n",
        "            x += costmatrix[final[z], z]\n",
        "    return x"
      ]
    },
    {
      "cell_type": "markdown",
      "source": [
        "\n",
        "---\n",
        "\n",
        "Compute the total processing time for each option in a given scenario. It does this by iterating through the final array, where each element indicates the chosen option for an index, and adds the corresponding processing times from the processtime matrix to the appropriate option in a cumulative sum array x.\n",
        "\n",
        "---\n"
      ],
      "metadata": {
        "id": "LL1DMR1lHMTp"
      }
    },
    {
      "cell_type": "code",
      "execution_count": 36,
      "metadata": {
        "id": "_oo4WKBIGMg2"
      },
      "outputs": [],
      "source": [
        "def timefactor(final, processtime):\n",
        "    x = np.zeros((processtime.shape[0]))\n",
        "    for z in range(len(final)):\n",
        "        x[final[z]]+= processtime[final[z], z]\n",
        "    return x"
      ]
    },
    {
      "cell_type": "markdown",
      "source": [
        "\n",
        "\n",
        "---\n",
        "Calculate the total cost of a configuration described by the matrix arr, which contains allocation information across multiple options. It multiplies each element of arr by the corresponding cost in costmatrix and sums up these values to compute the overall cost for the entire configuration, considering all possible combinations of options and allocations.\n",
        "\n",
        "---\n",
        "\n"
      ],
      "metadata": {
        "id": "vZZqqbRWHn57"
      }
    },
    {
      "cell_type": "code",
      "execution_count": 29,
      "metadata": {
        "id": "1qCQ7jtmGMV9"
      },
      "outputs": [],
      "source": [
        "def cost_arr(arr, costmatrix, n, m):\n",
        "    x = 0\n",
        "    for i in range(n):\n",
        "        for j in range(m):\n",
        "            for k in range(n):\n",
        "                x += costmatrix[j,i] * arr[i,j*n+k]\n",
        "    return x"
      ]
    },
    {
      "cell_type": "code",
      "execution_count": 23,
      "metadata": {
        "colab": {
          "base_uri": "https://localhost:8080/"
        },
        "id": "7qOwej5w6w9e",
        "outputId": "dfe87114-cbe1-4f0a-f1d7-cb5934a7ab9e"
      },
      "outputs": [
        {
          "output_type": "stream",
          "name": "stdout",
          "text": [
            "[3 3 4 1 2 3 0 4 3 4 0 4 2 0 1 1 1 2 2 1] 37.44517862072513 34.771097029254214 13.236514217967311 18.287442184355562\n",
            "[1 3 3 3 1 2 4 0 3 1 3 2 1 0 0 1 1 2 0 2] 39.54952649230571 39.27718897488151 16.244657619297282 17.747534301448663\n",
            "[2 1 1 4 2 3 0 1 4 3 2 3 0 3 4 3 0 4 0 0] 47.14252835549696 43.741932819362326 10.179630200866459 15.170500969738011\n",
            "[3 4 4 0 0 0 0 4 1 1 4 0 1 3 2 2 2 0 3 3] 35.86564298974058 35.43869191503805 9.46910342572051 13.23237989849192\n",
            "[2 4 0 1 3 4 1 4 0 3 0 4 3 1 2 2 2 4 1 3] 46.272699286828306 43.31304086580005 9.520378963466445 13.198105065057838\n",
            "[3 2 3 0 0 1 2 4 0 2 3 1 1 2 4 4 0 2 0 1] 70.49096836888805 64.31580935021543 6.63600242739151 10.263927561825646\n",
            "[2 0 2 3 0 3 4 3 4 0 1 3 1 4 2 0 4 3 4 0] 37.97137415017038 37.36739874449125 10.140908077695103 11.662657376728587\n",
            "[0 3 4 1 4 1 2 3 0 1 3 0 2 3 1 2 0 4 2 3] 85.91653998809429 71.41309649973739 6.306839346021238 8.38066367380367\n",
            "[0 4 2 3 1 4 2 0 0 2 3 1 1 1 3 2 1 3 4 4] 41.50701580832431 38.10762356562719 11.28723765471736 16.76060836525027\n",
            "Problem appears to be infeasible.\n",
            "Problem appears to be infeasible.\n",
            "Problem appears to be infeasible.\n",
            "Problem appears to be infeasible.\n",
            "Problem appears to be infeasible.\n",
            "Problem appears to be infeasible.\n",
            "[1 4 2 4 1 4 0 3 2 0 3 3 0 4 2 0 2 1 1 0] 48.656366597759096 46.91343136748029 12.244843902674495 14.235909106051574\n",
            "[0 1 3 2 0 0 3 4 4 4 0 3 4 1 2 2 3 0 4 1] 48.559640405353996 48.072061054257745 11.601705738753305 15.17882308685318\n",
            "Problem appears to be infeasible.\n",
            "[2 3 4 0 2 3 4 3 2 2 4 1 0 4 3 3 0 0 4 4] 36.52425271692253 36.51271391017285 14.707777716845687 15.864668853738728\n",
            "[4 0 0 0 0 3 3 2 3 4 3 2 1 1 1 2 4 0 4 4] 33.014283970573246 31.667860283577696 12.820798588311957 16.194732114274373\n",
            "[3 2 0 0 2 4 2 1 0 1 0 1 4 3 2 3 2 4 0 4] 64.02561367984606 53.897249944808635 7.044085583783207 9.29090442154054\n",
            "Problem appears to be infeasible.\n",
            "[0 4 0 3 4 2 3 2 2 1 1 1 3 2 2 4 0 0 0 2] 67.69071714005314 59.11050254634797 7.765063871256645 10.090353461490233\n",
            "Problem appears to be infeasible.\n",
            "[4 1 2 3 4 4 0 0 0 1 2 2 1 0 3 0 4 1 2 3] 36.93526945661654 36.33636265547179 11.72644705353104 16.382870508184173\n",
            "[2 2 2 3 4 4 1 0 1 3 3 4 1 0 2 0 4 0 3 0] 36.94946853898058 35.41188443732621 9.083562834680427 11.993980916079048\n",
            "[0 3 0 0 4 1 2 0 1 0 2 3 3 1 2 3 4 4 1 0] 48.185527152810444 47.860796060843896 13.998514993996208 15.653861702807337\n",
            "[0 2 3 4 4 1 1 1 3 3 0 0 0 0 2 1 2 2 4 1] 52.78685268526337 50.879987774498936 7.803572147235555 11.489267473497163\n",
            "Problem appears to be infeasible.\n",
            "[3 2 2 3 0 2 3 1 1 0 2 1 3 0 1 4 4 4 2 0] 59.97499406831241 51.95769444985368 7.727440992397771 11.357759486387788\n",
            "Problem appears to be infeasible.\n",
            "[2 3 0 0 0 0 1 4 1 0 0 4 2 3 1 0 2 3 4 1] 30.134618867029943 29.820728712805803 13.674164707909027 16.972135950229546\n",
            "[3 4 2 4 1 3 0 0 4 0 2 4 0 2 2 0 1 3 2 1] 57.91297934451417 47.652021759464496 6.955308485473664 9.340329304210897\n",
            "[4 3 0 4 2 4 1 2 0 2 3 4 4 2 0 2 1 3 0 3] 39.93199027452485 38.307530287583575 11.159739429207413 16.11200302848816\n",
            "Problem appears to be infeasible.\n",
            "Problem appears to be infeasible.\n",
            "[4 2 4 3 4 4 0 0 0 2 1 3 0 3 0 2 0 1 2 3] 38.57613259102767 37.699087919965706 10.08239211538244 14.15061354352435\n",
            "[0 4 1 1 4 0 0 1 0 2 0 2 1 1 3 4 3 4 3 2] 34.87887182437048 32.92891503168652 10.608061297613986 13.424685286768256\n",
            "[4 1 0 2 4 2 2 1 1 3 3 0 2 1 1 0 3 4 1 2] 43.370649816994515 38.57495209020112 7.864151911057944 12.664402050434362\n",
            "[1 4 2 0 4 3 0 4 2 4 1 1 1 0 2 4 1 3 2 0] 56.88154304828592 54.167622020422705 7.98786120906335 10.901526816196018\n",
            "Problem appears to be infeasible.\n",
            "[2 2 1 1 1 3 4 4 3 1 3 0 0 1 0 0 0 3 2 4] 36.59427869249523 36.4523852166322 15.423671862466893 21.17309480533636\n",
            "[1 3 3 3 2 3 0 2 1 0 4 2 1 4 3 0 0 1 4 0] 41.382884213203845 40.27503568270224 14.129491444330384 17.902870782350256\n",
            "Problem appears to be infeasible.\n",
            "[3 2 0 1 1 3 2 2 4 0 3 1 0 1 4 0 3 4 3 4] 52.92697652469773 46.4267828957424 8.756724222733743 10.97090112481132\n",
            "Problem appears to be infeasible.\n",
            "Problem appears to be infeasible.\n",
            "[1 4 2 4 3 3 1 2 4 4 0 2 1 2 0 2 1 0 0 3] 41.00064191341015 39.75147507594919 10.457497825246563 12.947135774923026\n",
            "Problem appears to be infeasible.\n",
            "Problem appears to be infeasible.\n",
            "Problem appears to be infeasible.\n",
            "[1 1 2 1 0 0 3 3 2 0 4 2 0 1 2 3 4 4 3 4] 33.82387480732878 33.64362926002179 11.746824711526344 13.46082282747373\n",
            "[3 3 3 0 2 2 0 1 3 1 1 0 0 4 4 2 0 2 4 1] 35.814494028033636 34.815996900886354 8.479665322704635 11.477999267217523\n",
            "Problem appears to be infeasible.\n",
            "Problem appears to be infeasible.\n",
            "[1 3 4 4 2 2 0 1 2 3 3 1 2 0 2 4 1 0 4 3] 84.07698853763851 76.15410001313465 6.55391527139025 7.69814103922675\n",
            "[2 1 0 0 0 3 4 1 3 2 0 4 1 2 3 1 4 4 2 2] 46.09468986672498 45.51657657037821 12.163941682238239 13.74940002034501\n",
            "[3 4 2 2 1 4 4 0 3 4 3 2 1 3 0 2 4 3 2 4] 46.53055768290274 42.35091417839524 9.891387855025727 16.75120447924738\n",
            "[3 3 2 3 1 3 1 2 4 0 0 4 4 4 4 0 2 1 2 3] 36.10806870305073 33.25029302665115 9.666106095137044 13.510774720611469\n",
            "[1 4 2 3 1 1 4 0 3 4 3 3 1 3 4 4 4 0 2 0] 37.29064668172798 35.72432386342087 13.028034595936683 17.40314713349895\n",
            "Problem appears to be infeasible.\n",
            "Problem appears to be infeasible.\n",
            "Problem appears to be infeasible.\n",
            "[4 3 1 1 3 4 2 2 0 2 1 4 0 2 3 2 0 0 3 4] 49.41103141863184 45.67967936397466 6.313194794568412 7.676367824512314\n",
            "Problem appears to be infeasible.\n",
            "Problem appears to be infeasible.\n",
            "Problem appears to be infeasible.\n",
            "[3 0 1 4 0 4 3 4 2 0 1 3 1 2 3 2 3 2 1 4] 36.28108725553582 36.22886519331605 13.192536424402372 16.351280438445563\n",
            "[1 4 4 1 2 2 4 3 0 2 3 3 0 0 1 2 3 4 0 1] 130.04220208361923 114.28086726703974 6.106230166831948 7.050823805089591\n",
            "[4 2 4 0 3 2 4 3 4 2 1 3 1 0 0 4 1 0 4 1] 47.40994820760402 44.96947920900563 11.854952583215475 14.933279636737987\n",
            "[4 0 2 2 1 1 2 2 3 1 3 1 0 0 4 4 3 0 0 3] 43.92148153731866 43.09682316465288 13.729362870447682 16.152134556426805\n",
            "[3 0 4 4 3 4 2 2 1 2 4 2 0 1 1 0 1 3 0 2] 51.808250520129356 49.933294289029334 9.44686920313014 11.05760160854047\n",
            "Problem appears to be infeasible.\n",
            "[0 2 3 4 4 4 0 0 1 2 3 2 3 1 4 1 4 0 0 2] 64.78934820703287 58.33560341334378 6.31901089999043 7.646768900423331\n",
            "Problem appears to be infeasible.\n",
            "[0 3 1 1 3 1 3 4 2 1 4 0 2 1 3 3 0 2 4 2] 31.120622238513622 30.93360261004533 14.066859655803345 19.397200480579976\n",
            "[0 3 1 2 2 2 4 1 0 2 1 1 0 3 3 4 2 0 4 4] 51.83294154481017 45.595571166638315 9.048051683447495 12.114974791541059\n",
            "Problem appears to be infeasible.\n",
            "[3 0 4 0 3 0 0 4 2 3 1 2 4 0 3 2 4 2 0 2] 35.65475185815298 35.505051494058605 16.094793404307772 18.1968205495514\n",
            "Problem appears to be infeasible.\n",
            "[1 0 1 1 0 3 0 0 0 4 4 3 0 4 1 1 3 4 2 2] 35.26602890745594 35.10640018901385 12.4560715720288 15.925592982653638\n",
            "[4 2 1 1 2 3 0 4 1 0 4 3 2 3 0 0 0 4 1 3] 78.2964769231468 70.15433631988778 6.395124966513545 7.888309518433501\n",
            "[0 4 3 3 3 1 1 3 1 4 2 4 2 4 2 0 0 1 2 4] 42.470401255730685 41.18206539574351 11.103717658968776 15.196629118719702\n",
            "[0 1 4 2 2 2 1 3 4 0 4 4 0 3 2 2 0 0 2 0] 36.312491734332866 35.37388333593727 12.226695188982491 17.331970097713207\n",
            "[3 0 0 3 1 3 3 0 0 2 2 3 2 0 4 1 4 1 4 1] 53.22888301917417 50.73924827479112 9.024076438181512 11.198467600601518\n",
            "Problem appears to be infeasible.\n",
            "Problem appears to be infeasible.\n",
            "Problem appears to be infeasible.\n",
            "[1 0 3 2 0 2 2 3 0 0 4 4 2 4 3 2 1 2 3 0] 60.36316845386626 53.67213188599223 8.46738721365574 11.163957054707907\n",
            "Problem appears to be infeasible.\n",
            "[4 2 2 3 0 2 4 3 1 1 4 0 3 4 4 1 2 0 1 3] 36.63408279266257 34.936386003894945 12.055216602306617 16.41482712140878\n",
            "[2 4 3 1 1 4 4 4 2 0 4 1 3 1 3 3 2 4 3 0] 40.24766926544869 39.909720748916214 13.00688766143675 16.191611676230774\n",
            "Problem appears to be infeasible.\n",
            "Problem appears to be infeasible.\n",
            "Problem appears to be infeasible.\n",
            "[1 2 3 0 2 1 4 4 3 4 3 2 0 4 4 3 3 1 1 4] 37.40032569444319 37.364355389848114 14.57545120553952 15.9704071935505\n",
            "Problem appears to be infeasible.\n",
            "[2 4 1 2 4 2 3 4 0 4 4 3 1 3 4 0 1 2 3 0] 41.74711557294705 40.69243402508656 10.816640608182112 14.067192751543285\n",
            "[1 4 3 0 0 2 3 0 1 1 1 2 4 4 0 3 0 0 1 3] 33.21384364444597 32.56417020823667 14.537526044722146 18.897127024086558\n",
            "Problem appears to be infeasible.\n"
          ]
        }
      ],
      "source": [
        "cf = 3\n",
        "pf = 2\n",
        "y = 20\n",
        "x = 5\n",
        "for i in range(100):\n",
        "    costmatrix = np.exp(cf * np.random.rand(x, y))\n",
        "    processtime = np.exp(pf * np.random.rand(x, y))\n",
        "    timebound = np.sum(processtime) * np.random.rand() * 0.05 * np.ones(x)\n",
        "    final, z0, msg, t_LP, t_Round = GAP(processtime, costmatrix, timebound)\n",
        "    if(final is None):\n",
        "        if msg == 'primal infeasible':\n",
        "            print(\"Problem appears to be infeasible.\")\n",
        "        if msg == 'unknown':\n",
        "            print(\"Status unknown.\")\n",
        "    else:\n",
        "        if msg == 'unknown':\n",
        "            print(\"Terminated early.\")\n",
        "        print(final, z0, costfactor(final, costmatrix), timebound[0], np.amax(timefactor(final, processtime)))"
      ]
    },
    {
      "cell_type": "code",
      "execution_count": 24,
      "metadata": {
        "id": "9WmNjpLJ62hG"
      },
      "outputs": [],
      "source": [
        "def read_file(filejson):\n",
        "    x1 = json.load(filejson)\n",
        "    processtime = np.array(x1['req'], dtype='float')\n",
        "    cost = np.array(x1['cost'], dtype='float')\n",
        "    time = np.array(x1['cap'], dtype='float')\n",
        "    return processtime, cost, time\n",
        "\n",
        "# get data table of ids, LP vals, and opt vals and/or UB\n",
        "data_items = {}\n",
        "ids_list = []\n",
        "with open('data.csv') as csvfile:\n",
        "    reader = csv.reader(csvfile)\n",
        "    for row in reader:\n",
        "        idee = row[0]\n",
        "        ids_list.append(idee)\n",
        "        data_items[idee] = {'n': row[1], 'm': row[2], 'LP': row[3], 'opt': row[4], 'UB': row[5]}"
      ]
    },
    {
      "cell_type": "code",
      "execution_count": 25,
      "metadata": {
        "colab": {
          "base_uri": "https://localhost:8080/"
        },
        "id": "1PNNS11g7HHV",
        "outputId": "b8def77e-366a-4838-ee91-1bb9747a3f03"
      },
      "outputs": [
        {
          "output_type": "stream",
          "name": "stdout",
          "text": [
            "gapa_0\n",
            "\t 1696.0 1698 1697.7272727272725 1697.73\n",
            "\t [267. 301. 282. 318. 361.]\n",
            "\t [342. 342. 342. 342. 342.]\n",
            "\t ['0.78', '0.88', '0.82', '0.93', '1.06']\n",
            "gapa_1\n",
            "\t 3234.0 3235 3234.739130434782 3234.74\n",
            "\t [688. 612. 523. 534. 623.]\n",
            "\t [671. 671. 671. 671. 671.]\n",
            "\t ['1.03', '0.91', '0.78', '0.80', '0.93']\n",
            "gapa_2\n",
            "\t 1358.0 1360 1358.556923076923 1358.56\n",
            "\t [192. 146. 202. 131.  95. 195. 112. 192. 184.  66.]\n",
            "\t [192. 192. 192. 192. 192. 192. 192. 192. 192. 192.]\n",
            "\t ['1.00', '0.76', '1.05', '0.68', '0.49', '1.02', '0.58', '1.00', '0.96', '0.34']\n",
            "gapa_3\n",
            "\t 2623.0 2623 2623.0 2623\n",
            "\t [245. 387. 351. 326. 239. 283. 365. 279. 266. 274.]\n",
            "\t [365. 365. 365. 365. 365. 365. 365. 365. 365. 365.]\n",
            "\t ['0.67', '1.06', '0.96', '0.89', '0.65', '0.78', '1.00', '0.76', '0.73', '0.75']\n",
            "gapa_4\n",
            "\t 1157.0 1158 1157.08 1157.08\n",
            "\t [ 20. 104. 109.  91.  78.  62.  87.  31. 102.  98.  47.  42.  95.  84.\n",
            "   0. 103.  89.  99.  90.  57.]\n",
            "\t [100. 100. 100. 100. 100. 100. 100. 100. 100. 100. 100. 100. 100. 100.\n",
            " 100. 100. 100. 100. 100. 100.]\n",
            "\t ['0.20', '1.04', '1.09', '0.91', '0.78', '0.62', '0.87', '0.31', '1.02', '0.98', '0.47', '0.42', '0.95', '0.84', '0.00', '1.03', '0.89', '0.99', '0.90', '0.57']\n",
            "gapa_5\n",
            "\t 2337.0 2339 2337.3273333333336 2337.33\n",
            "\t [128. 206. 206. 129. 216. 188. 137. 160. 186. 151. 143. 120. 122. 193.\n",
            " 144. 155.  83.  92. 204. 145.]\n",
            "\t [199. 199. 199. 199. 199. 199. 199. 199. 199. 199. 199. 199. 199. 199.\n",
            " 199. 199. 199. 199. 199. 199.]\n",
            "\t ['0.64', '1.04', '1.04', '0.65', '1.09', '0.94', '0.69', '0.80', '0.93', '0.76', '0.72', '0.60', '0.61', '0.97', '0.72', '0.78', '0.42', '0.46', '1.03', '0.73']\n",
            "gapb_0\n",
            "\t 1819.0 1843 1831.3294504181601 1831.33\n",
            "\t [208. 215. 215. 204. 209.]\n",
            "\t [209. 209. 209. 209. 209.]\n",
            "\t ['1.00', '1.03', '1.03', '0.98', '1.00']\n",
            "gapb_1\n",
            "\t 3537.0 3552 3547.411575237463 3547.41\n",
            "\t [479. 509. 484. 509. 494.]\n",
            "\t [493. 493. 493. 493. 493.]\n",
            "\t ['0.97', '1.03', '0.98', '1.03', '1.00']\n",
            "gapb_2\n",
            "\t 1396.0 1407 1400.6719575609286 1400.67\n",
            "\t [133. 152. 104. 136. 131. 136. 136. 144. 130. 122.]\n",
            "\t [131. 131. 131. 131. 131. 131. 131. 131. 131. 131.]\n",
            "\t ['1.02', '1.16', '0.79', '1.04', '1.00', '1.04', '1.04', '1.10', '0.99', '0.93']\n",
            "gapb_3\n",
            "\t 2801.0 2827 2815.0506728107584 2815.05\n",
            "\t [243. 232. 254. 251. 250. 251. 251. 238. 244. 248.]\n",
            "\t [243. 243. 243. 243. 243. 243. 243. 243. 243. 243.]\n",
            "\t ['1.00', '0.95', '1.05', '1.03', '1.03', '1.03', '1.03', '0.98', '1.00', '1.02']\n",
            "gapb_4\n",
            "\t 1148.0 1166 1155.1814331117193 1155.18\n",
            "\t [84. 81. 68. 59. 80. 63. 69. 75. 75. 62. 71. 58. 64. 51. 84. 38. 78. 56.\n",
            " 72. 66.]\n",
            "\t [68. 68. 68. 68. 68. 68. 68. 68. 68. 68. 68. 68. 68. 68. 68. 68. 68. 68.\n",
            " 68. 68.]\n",
            "\t ['1.24', '1.19', '1.00', '0.87', '1.18', '0.93', '1.01', '1.10', '1.10', '0.91', '1.04', '0.85', '0.94', '0.75', '1.24', '0.56', '1.15', '0.82', '1.06', '0.97']\n",
            "gapb_5\n",
            "\t 2324.0 2339 2331.1379844826533 2331.14\n",
            "\t [136. 131. 150. 134.  99. 148. 132. 106. 144. 145. 126.  70. 140. 118.\n",
            " 123. 138. 148. 127. 128. 127.]\n",
            "\t [131. 131. 131. 131. 131. 131. 131. 131. 131. 131. 131. 131. 131. 131.\n",
            " 131. 131. 131. 131. 131. 131.]\n",
            "\t ['1.04', '1.00', '1.15', '1.02', '0.76', '1.13', '1.01', '0.81', '1.10', '1.11', '0.96', '0.53', '1.07', '0.90', '0.94', '1.05', '1.13', '0.97', '0.98', '0.97']\n",
            "gapc_0\n",
            "\t 1904.0 1931 1923.975026288118 1923.98\n",
            "\t [222. 224. 258. 237. 246.]\n",
            "\t [221. 224. 254. 235. 232.]\n",
            "\t ['1.00', '1.00', '1.02', '1.01', '1.06']\n",
            "gapc_1\n",
            "\t 3443.0 3456 3450.765286081076 3450.77\n",
            "\t [458. 492. 495. 503. 513.]\n",
            "\t [464. 485. 505. 495. 503.]\n",
            "\t ['0.99', '1.01', '0.98', '1.02', '1.02']\n",
            "gapc_2\n",
            "\t 1375.0 1402 1387.0097106207759 1387.01\n",
            "\t [105. 113. 116. 133. 125. 132. 115. 105. 135. 115.]\n",
            "\t [115. 111. 121. 121. 120. 114. 112. 112. 126. 118.]\n",
            "\t ['0.91', '1.02', '0.96', '1.10', '1.04', '1.16', '1.03', '0.94', '1.07', '0.97']\n",
            "gapc_3\n",
            "\t 2780.0 2806 2795.407915753374 2795.41\n",
            "\t [237. 256. 244. 234. 231. 257. 241. 247. 241. 235.]\n",
            "\t [236. 248. 241. 240. 238. 243. 238. 239. 229. 233.]\n",
            "\t ['1.00', '1.03', '1.01', '0.97', '0.97', '1.06', '1.01', '1.03', '1.05', '1.01']\n",
            "gapc_4\n",
            "\t 1200.0 1243 1218.9872593930672 1218.99\n",
            "\t [60. 56. 63. 62. 55. 78. 72. 69. 61. 63. 76. 66. 60. 71. 55. 47. 53. 66.\n",
            " 51. 58.]\n",
            "\t [57. 59. 61. 56. 59. 59. 63. 57. 58. 56. 60. 62. 62. 57. 59. 58. 60. 59.\n",
            " 62. 57.]\n",
            "\t ['1.05', '0.95', '1.03', '1.11', '0.93', '1.32', '1.14', '1.21', '1.05', '1.12', '1.27', '1.06', '0.97', '1.25', '0.93', '0.81', '0.88', '1.12', '0.82', '1.02']\n",
            "gapc_5\n",
            "\t 2367.0 2391 2376.9054863725023 2376.91\n",
            "\t [117. 135. 120. 103. 127. 119. 134. 131. 106. 118. 120. 107. 125. 116.\n",
            " 116. 132. 111. 129. 121. 116.]\n",
            "\t [118. 120. 115. 116. 118. 119. 119. 123. 106. 121. 120. 112. 123. 122.\n",
            " 118. 119. 120. 124. 114. 119.]\n",
            "\t ['0.99', '1.12', '1.04', '0.89', '1.08', '1.00', '1.13', '1.07', '1.00', '0.98', '1.00', '0.96', '1.02', '0.95', '0.98', '1.11', '0.93', '1.04', '1.06', '0.97']\n",
            "gapd_0\n",
            "\t 6230.0 6353 6345.412611885934 6345.41\n",
            "\t [773. 800. 837. 888. 869.]\n",
            "\t [798. 760. 810. 824. 868.]\n",
            "\t ['0.97', '1.05', '1.03', '1.08', '1.00']\n",
            "gapd_1\n",
            "\t 12663.0  12736.196081965436 12736.2\n",
            "\t [1563. 1694. 1635. 1644. 1677.]\n",
            "\t [1547. 1699. 1589. 1614. 1694.]\n",
            "\t ['1.01', '1.00', '1.03', '1.02', '0.99']\n",
            "gapd_2\n",
            "\t 6187.0  6323.45604344531 6323.46\n",
            "\t [465. 385. 361. 347. 468. 436. 418. 410. 397. 368.]\n",
            "\t [416. 379. 385. 374. 398. 385. 388. 411. 398. 388.]\n",
            "\t ['1.12', '1.02', '0.94', '0.93', '1.18', '1.13', '1.08', '1.00', '1.00', '0.95']\n",
            "gapd_3\n",
            "\t 12306.0  12418.362103134965 12418.4\n",
            "\t [794. 819. 774. 815. 776. 794. 867. 829. 793. 917.]\n",
            "\t [794. 816. 758. 776. 791. 791. 805. 805. 836. 897.]\n",
            "\t ['1.00', '1.00', '1.02', '1.05', '0.98', '1.00', '1.08', '1.03', '0.95', '1.02']\n",
            "gapd_4\n",
            "\t 5908.0  6142.530216504641 6142.53\n",
            "\t [299. 204. 164. 218. 234. 187. 260. 187. 262. 166. 222. 102. 228. 195.\n",
            " 201. 242. 235. 216. 187. 260.]\n",
            "\t [207. 204. 196. 191. 189. 200. 219. 203. 219. 209. 196. 195. 207. 182.\n",
            " 217. 194. 211. 187. 201. 211.]\n",
            "\t ['1.44', '1.00', '0.84', '1.14', '1.24', '0.94', '1.19', '0.92', '1.20', '0.79', '1.13', '0.52', '1.10', '1.07', '0.93', '1.25', '1.11', '1.16', '0.93', '1.23']\n",
            "gapd_5\n",
            "\t 11918.0  12217.693424301258 12217.7\n",
            "\t [417. 502. 460. 494. 418. 428. 357. 350. 460. 476. 395. 404. 474. 402.\n",
            " 422. 375. 424. 408. 363. 387.]\n",
            "\t [407. 417. 416. 418. 401. 410. 402. 379. 384. 415. 402. 404. 427. 403.\n",
            " 393. 386. 421. 406. 400. 428.]\n",
            "\t ['1.02', '1.20', '1.11', '1.18', '1.04', '1.04', '0.89', '0.92', '1.20', '1.15', '0.98', '1.00', '1.11', '1.00', '1.07', '0.97', '1.01', '1.00', '0.91', '0.90']\n",
            "e05100\n",
            "\t 12449.0 12681 12641.419125080416 12641.4\n",
            "\t [158. 175. 223. 171. 167.]\n",
            "\t [156. 162. 219. 169. 174.]\n",
            "\t ['1.01', '1.08', '1.02', '1.01', '0.96']\n",
            "e05200\n",
            "\t 24792.0 24931 24922.0 24922\n",
            "\t [321. 388. 322. 329. 375.]\n",
            "\t [319. 388. 327. 328. 365.]\n",
            "\t ['1.01', '1.00', '0.98', '1.00', '1.03']\n",
            "e10100\n",
            "\t 11477.0 11577 11543.054254892704 11543.1\n",
            "\t [ 82.  89. 116.  75.  87.  78.  88.  69.  90.  91.]\n",
            "\t [ 78.  81. 109.  84.  87.  76.  94.  69.  95.  87.]\n",
            "\t ['1.05', '1.10', '1.06', '0.89', '1.00', '1.03', '0.94', '1.00', '0.95', '1.05']\n",
            "e10200\n",
            "\t 23238.0 23307 23293.856148538962 23293.9\n",
            "\t [160. 198. 157. 165. 184. 182. 159. 158. 157. 168.]\n",
            "\t [159. 194. 163. 164. 182. 180. 158. 164. 156. 164.]\n",
            "\t ['1.01', '1.02', '0.96', '1.01', '1.01', '1.01', '1.01', '0.96', '1.01', '1.02']\n",
            "e10400\n",
            "\t 45581.0 45748 45739.20722222222 45739.2\n",
            "\t [358. 327. 363. 319. 327. 343. 340. 343. 358. 345.]\n",
            "\t [353. 327. 363. 323. 321. 340. 338. 351. 357. 339.]\n",
            "\t ['1.01', '1.00', '1.00', '0.99', '1.02', '1.01', '1.01', '0.98', '1.00', '1.02']\n",
            "e15900\n",
            "\t 102257.0 102426 102416.60969008038 102417\n",
            "\t [521. 498. 514. 520. 503. 489. 527. 513. 496. 473. 500. 520. 515. 486.\n",
            " 505.]\n",
            "\t [517. 498. 511. 523. 503. 489. 524. 510. 494. 473. 501. 523. 515. 487.\n",
            " 501.]\n",
            "\t ['1.01', '1.00', '1.01', '0.99', '1.00', '1.00', '1.01', '1.01', '1.00', '1.00', '1.00', '0.99', '1.00', '1.00', '1.01']\n",
            "e20100\n",
            "\t 8261.0 8436 8359.582040205074 8359.58\n",
            "\t [59. 44. 98. 42. 43. 71. 60. 45. 86. 46. 87. 36. 67. 47. 53. 44. 56. 42.\n",
            " 44. 54.]\n",
            "\t [50. 48. 91. 42. 47. 67. 53. 45. 75. 57. 81. 43. 63. 46. 57. 49. 58. 43.\n",
            " 39. 57.]\n",
            "\t ['1.18', '0.92', '1.08', '1.00', '0.91', '1.06', '1.13', '1.00', '1.15', '0.81', '1.07', '0.84', '1.06', '1.02', '0.93', '0.90', '0.97', '0.98', '1.13', '0.95']\n",
            "e20200\n",
            "\t 22219.0 22379 22355.933849409543 22355.9\n",
            "\t [ 79. 106.  80.  80.  85.  93.  86.  83.  82.  75.  91.  85.  86.  76.\n",
            "  84.  94.  89.  85.  88.  83.]\n",
            "\t [79. 97. 81. 82. 91. 90. 79. 82. 78. 82. 87. 82. 88. 80. 82. 93. 89. 89.\n",
            " 89. 80.]\n",
            "\t ['1.00', '1.09', '0.99', '0.98', '0.93', '1.03', '1.09', '1.01', '1.05', '0.91', '1.05', '1.04', '0.98', '0.95', '1.02', '1.01', '1.00', '0.96', '0.99', '1.04']\n",
            "e20400\n",
            "\t 44789.0 44879 44861.76164021164 44861.8\n",
            "\t [173. 155. 188. 164. 159. 171. 167. 171. 184. 170. 165. 168. 159. 175.\n",
            " 169. 176. 172. 170. 168. 160.]\n",
            "\t [176. 163. 181. 161. 160. 170. 169. 175. 178. 169. 165. 170. 154. 174.\n",
            " 169. 180. 165. 172. 171. 157.]\n",
            "\t ['0.98', '0.95', '1.04', '1.02', '0.99', '1.01', '0.99', '0.98', '1.03', '1.01', '1.00', '0.99', '1.03', '1.01', '1.00', '0.98', '1.04', '0.99', '0.98', '1.02']\n",
            "e201600\n",
            "\t 180484.0 180659 180640.2918004535 180640\n",
            "\t [681. 675. 691. 672. 674. 651. 700. 656. 691. 673. 648. 679. 673. 681.\n",
            " 694. 679. 649. 649. 644. 689.]\n",
            "\t [683. 676. 683. 677. 666. 643. 693. 664. 690. 675. 651. 671. 670. 677.\n",
            " 692. 684. 653. 650. 647. 693.]\n",
            "\t ['1.00', '1.00', '1.01', '0.99', '1.01', '1.01', '1.01', '0.99', '1.00', '1.00', '1.00', '1.01', '1.00', '1.01', '1.00', '0.99', '0.99', '1.00', '1.00', '0.99']\n",
            "e30900\n",
            "\t 100298.0 100433 100413.32272897898 100413\n",
            "\t [259. 249. 257. 258. 251. 246. 255. 258. 250. 242. 249. 259. 257. 248.\n",
            " 245. 264. 265. 255. 244. 243. 261. 239. 253. 260. 246. 268. 246. 260.\n",
            " 250. 240.]\n",
            "\t [258. 249. 255. 261. 251. 244. 262. 255. 247. 236. 250. 261. 257. 243.\n",
            " 250. 265. 258. 247. 247. 241. 257. 244. 255. 259. 246. 267. 252. 256.\n",
            " 252. 244.]\n",
            "\t ['1.00', '1.00', '1.01', '0.99', '1.00', '1.01', '0.97', '1.01', '1.01', '1.03', '1.00', '0.99', '1.00', '1.02', '0.98', '1.00', '1.03', '1.03', '0.99', '1.01', '1.02', '0.98', '0.99', '1.00', '1.00', '1.00', '0.98', '1.02', '0.99', '0.98']\n",
            "e40400\n",
            "\t 44366.0  44523.428604976725 44523.4\n",
            "\t [94. 74. 96. 83. 74. 83. 84. 84. 82. 86. 84. 77. 83. 84. 92. 93. 86. 86.\n",
            " 84. 84. 74. 86. 94. 85. 85. 87. 84. 83. 85. 76. 74. 84. 88. 83. 91. 88.\n",
            " 84. 84. 83. 81.]\n",
            "\t [91. 81. 90. 80. 80. 85. 84. 87. 89. 84. 82. 85. 77. 87. 84. 90. 82. 86.\n",
            " 85. 78. 76. 77. 85. 81. 86. 86. 87. 86. 86. 81. 80. 84. 86. 86. 87. 84.\n",
            " 84. 84. 85. 83.]\n",
            "\t ['1.03', '0.91', '1.07', '1.04', '0.93', '0.98', '1.00', '0.97', '0.92', '1.02', '1.02', '0.91', '1.08', '0.97', '1.10', '1.03', '1.05', '1.00', '0.99', '1.08', '0.97', '1.12', '1.11', '1.05', '0.99', '1.01', '0.97', '0.97', '0.99', '0.94', '0.93', '1.00', '1.02', '0.97', '1.05', '1.05', '1.00', '1.00', '0.98', '0.98']\n",
            "e60900\n",
            "\t 99904.0  100103.25978504593 100103\n",
            "\t [127. 129. 126. 128. 127. 124. 134. 127. 122. 117. 121. 124. 127. 126.\n",
            " 127. 131. 135. 125. 124. 122. 131. 124. 122. 132. 121. 137. 119. 128.\n",
            " 128. 127. 116. 125. 119. 118. 125. 131. 119. 119. 114. 124. 130. 118.\n",
            " 126. 124. 130. 125. 126. 127. 129. 129. 128. 135. 124. 125. 125. 128.\n",
            " 130. 128. 124. 128.]\n",
            "\t [129. 124. 127. 130. 125. 122. 131. 127. 123. 118. 125. 130. 128. 121.\n",
            " 125. 132. 129. 123. 123. 120. 128. 122. 127. 129. 123. 133. 126. 128.\n",
            " 126. 122. 121. 123. 123. 121. 130. 129. 117. 120. 119. 126. 129. 118.\n",
            " 130. 125. 129. 123. 125. 126. 130. 122. 131. 130. 125. 123. 124. 128.\n",
            " 124. 126. 126. 128.]\n",
            "\t ['0.98', '1.04', '0.99', '0.98', '1.02', '1.02', '1.02', '1.00', '0.99', '0.99', '0.97', '0.95', '0.99', '1.04', '1.02', '0.99', '1.05', '1.02', '1.01', '1.02', '1.02', '1.02', '0.96', '1.02', '0.98', '1.03', '0.94', '1.00', '1.02', '1.04', '0.96', '1.02', '0.97', '0.98', '0.96', '1.02', '1.02', '0.99', '0.96', '0.98', '1.01', '1.00', '0.97', '0.99', '1.01', '1.02', '1.01', '1.01', '0.99', '1.06', '0.98', '1.04', '0.99', '1.02', '1.01', '1.00', '1.05', '1.02', '0.98', '1.00']\n",
            "e401600\n",
            "\t 178140.0 178307 178282.61930675915 178283\n",
            "\t [342. 338. 338. 333. 333. 321. 348. 336. 346. 337. 323. 327. 336. 338.\n",
            " 344. 336. 334. 325. 317. 339. 320. 322. 337. 331. 346. 333. 338. 339.\n",
            " 351. 340. 331. 340. 340. 341. 343. 344. 343. 324. 335. 335.]\n",
            "\t [341. 338. 341. 338. 333. 321. 346. 332. 345. 337. 325. 335. 335. 338.\n",
            " 346. 342. 326. 325. 323. 346. 322. 320. 341. 332. 342. 331. 335. 338.\n",
            " 349. 336. 334. 336. 338. 335. 338. 338. 342. 324. 333. 337.]\n",
            "\t ['1.00', '1.00', '0.99', '0.99', '1.00', '1.00', '1.01', '1.01', '1.00', '1.00', '0.99', '0.98', '1.00', '1.00', '0.99', '0.98', '1.02', '1.00', '0.98', '0.98', '0.99', '1.01', '0.99', '1.00', '1.01', '1.01', '1.01', '1.00', '1.01', '1.01', '0.99', '1.01', '1.01', '1.02', '1.01', '1.02', '1.00', '1.00', '1.01', '0.99']\n",
            "e801600\n",
            "\t 176526.0  176780.98924722552 176781\n",
            "\t [170. 174. 171. 168. 174. 167. 179. 167. 176. 175. 164. 166. 166. 170.\n",
            " 175. 176. 159. 166. 157. 174. 162. 167. 171. 170. 171. 166. 167. 177.\n",
            " 169. 162. 174. 170. 174. 166. 168. 169. 164. 159. 174. 169. 168. 168.\n",
            " 173. 166. 169. 167. 162. 165. 164. 170. 165. 171. 169. 179. 167. 161.\n",
            " 165. 170. 166. 170. 168. 170. 171. 171. 163. 172. 161. 169. 162. 166.\n",
            " 159. 157. 160. 167. 164. 158. 158. 171. 178. 172.]\n",
            "\t [170. 169. 170. 169. 166. 160. 173. 166. 172. 168. 162. 167. 167. 169.\n",
            " 173. 171. 163. 162. 161. 173. 161. 160. 170. 166. 171. 165. 167. 169.\n",
            " 174. 168. 167. 168. 169. 167. 169. 169. 171. 162. 166. 168. 168. 173.\n",
            " 176. 168. 166. 164. 168. 170. 171. 170. 167. 172. 166. 173. 167. 167.\n",
            " 165. 169. 164. 168. 170. 168. 168. 168. 166. 171. 167. 169. 165. 163.\n",
            " 165. 162. 166. 168. 169. 160. 165. 173. 172. 172.]\n",
            "\t ['1.00', '1.03', '1.01', '0.99', '1.05', '1.04', '1.03', '1.01', '1.02', '1.04', '1.01', '0.99', '0.99', '1.01', '1.01', '1.03', '0.98', '1.02', '0.98', '1.01', '1.01', '1.04', '1.01', '1.02', '1.00', '1.01', '1.00', '1.05', '0.97', '0.96', '1.04', '1.01', '1.03', '0.99', '0.99', '1.00', '0.96', '0.98', '1.05', '1.01', '1.00', '0.97', '0.98', '0.99', '1.02', '1.02', '0.96', '0.97', '0.96', '1.00', '0.99', '0.99', '1.02', '1.03', '1.00', '0.96', '1.00', '1.01', '1.01', '1.01', '0.99', '1.01', '1.02', '1.02', '0.98', '1.01', '0.96', '1.00', '0.98', '1.02', '0.96', '0.97', '0.96', '0.99', '0.97', '0.99', '0.96', '0.99', '1.03', '1.00']\n"
          ]
        }
      ],
      "source": [
        "# Run benchmark tests\n",
        "for idee in ids_list:\n",
        "    #print(idee)\n",
        "    d = data_items[idee]\n",
        "    try:\n",
        "        #print(idee)\n",
        "        # Attempt to open and read the file\n",
        "        with open(idee + '.json', 'r') as file:\n",
        "            print(idee)\n",
        "            process, cost, time = read_file(file)\n",
        "    except Exception as e:\n",
        "        #print(f\"Failed to read {idee}.json: {e}\")\n",
        "        continue  # Skip to the next file\n",
        "    #process, cost, time = read_file(open(idee + '.json'))\n",
        "    #res, f, s, t_LP, t_Round = GAP(process, cost, time)\n",
        "    #final, z0, msg, t_LP, t_Round = GAP(processtime, costmatrix, timebound)\n",
        "    final, z0, msg, t_LP, t_Round = GAP(process, cost, time)\n",
        "    d['timeLP'] = t_LP\n",
        "    d['timeRound'] = t_Round\n",
        "    d['status'] = msg\n",
        "    if(final is None):\n",
        "        d['algLP'] = np.nan\n",
        "        d['algcost'] = np.nan\n",
        "        d['algT'] = [np.nan]\n",
        "        d['T'] = [np.nan]\n",
        "        if msg == 'primal infeasible':\n",
        "            print(\"Problem appears to be infeasible.\")\n",
        "        if msg == 'unknown':\n",
        "            print(\"Status unknown.\")\n",
        "    else:\n",
        "        if msg == 'unknown':\n",
        "            print(\"Terminated early.\")\n",
        "        d['algLP'] = z0\n",
        "        d['algcost'] = costfactor(final, cost)\n",
        "        d['algT'] = timefactor(final, process)\n",
        "        d['T'] = time\n",
        "        # Calculate the necessary metrics, including cost and time metrics,\n",
        "        # as well as ratios of calculated processing times to given time constraints\n",
        "        # Printing algorithmic cost and optimal value\n",
        "        print('\\t', d['algcost'], d['opt'], d['algLP'], d['LP'])\n",
        "        print('\\t', d['algT'])\n",
        "        print('\\t', d['T'])\n",
        "        # print list of ratios of times\n",
        "        print('\\t', [format(d['algT'][i]/d['T'][i], '.2f') for i in range(len(d['algT']))])"
      ]
    },
    {
      "cell_type": "code",
      "execution_count": 26,
      "metadata": {
        "id": "J8SfMv_jKhwU"
      },
      "outputs": [],
      "source": [
        "# write data\n",
        "with open('benchmark_data_glpk3.csv', 'w') as csvfile:\n",
        "    writer = csv.writer(csvfile)\n",
        "    writer.writerow(['id', 'n', 'm', 'status', 'LP', 'algLP', 'opt', 'UB', 'algcost', 'algmaxTratio', 'timeLP', 'timeRound'])\n",
        "    for idee in ids_list:\n",
        "        d = data_items[idee]\n",
        "        status = d.get('status', 'N/A')\n",
        "        algLP = d.get('algLP', 'N/A')\n",
        "        algcost = d.get('algcost', 'N/A')\n",
        "        timeLP = d.get('timeLP', 'N/A')\n",
        "        timeRound = d.get('timeRound', 'N/A')\n",
        "        if 'algT' in d:\n",
        "            algT_ratio = max([d['algT'][i] / d['T'][i] for i in range(len(d['algT']))])\n",
        "        else:\n",
        "            algT_ratio = 'N/A'\n",
        "\n",
        "        writer.writerow([idee, d['n'], d['m'], status, d['LP'], algLP, d['opt'], d['UB'], algcost, algT_ratio , timeLP, timeRound])"
      ]
    },
    {
      "cell_type": "code",
      "execution_count": 27,
      "metadata": {
        "id": "HRSdvZlwKox7"
      },
      "outputs": [],
      "source": [
        "def draw(x, cycle, show=False):\n",
        "    # Early Return\n",
        "    if (show==False):\n",
        "        return\n",
        "\n",
        "    # Setup cycle edges\n",
        "    cycle_edges = []\n",
        "    for idx, j in enumerate(cycle[-1]):\n",
        "        # Add edges in addition\n",
        "        if idx != 0:\n",
        "            cycle_edges.append((\"i{}\".format(cycle[0][idx-1]), \"j{}\".format(j)))\n",
        "        if idx != len(cycle[-1])-1:\n",
        "            cycle_edges.append((\"j{}\".format(j),\"i{}\".format(cycle[0][idx])))\n",
        "\n",
        "    # Initialize the Graph\n",
        "    B = nx.Graph()\n",
        "    B.add_nodes_from(['i{}'.format(i) for i in range(x.shape[0])], bipartite=0)\n",
        "    B.add_nodes_from(['j{}'.format(i) for i in range(x.shape[1])], bipartite=1)\n",
        "\n",
        "    # Add edges from the matrix\n",
        "    B.add_edges_from([('i{}'.format(i),'j{}'.format(j))\n",
        "                      for i,j in itertools.product(range(x.shape[0]), range(x.shape[1]))\n",
        "                      if x[i,j]])\n",
        "\n",
        "    # Setup edge colors\n",
        "    edge_color = []\n",
        "    for edge in B.edges():\n",
        "        if edge not in cycle_edges and (edge[-1],edge[0]) not in cycle_edges:\n",
        "            edge_color.append(-100)\n",
        "        else:\n",
        "            try:\n",
        "                idx = cycle_edges.index(edge)\n",
        "            except:\n",
        "                idx = cycle_edges.index((edge[-1],edge[0]))\n",
        "            edge_color.append(idx%2)\n",
        "\n",
        "    # Calculate positions\n",
        "    X = set(n for n,d in B.nodes(data=True) if d['bipartite']==0)\n",
        "    Y = set(B) - X\n",
        "    pos = dict()\n",
        "    pos.update( (n, (1, int(n[1:])*60)) for i, n in enumerate(X) )\n",
        "    pos.update( (n, (2, int(n[1:])*30)) for i, n in enumerate(Y) )\n",
        "\n",
        "    # Draw graphs\n",
        "    nx.draw_networkx(B, pos=pos, with_labels=1, node_size=400,edge_color=edge_color,\n",
        "                     edge_cmap=plt.get_cmap('Paired'), edge_vmin=-1, edge_vmax=1, width=4)\n",
        "\n",
        "    plt.show()"
      ]
    },
    {
      "cell_type": "code",
      "execution_count": 30,
      "metadata": {
        "colab": {
          "base_uri": "https://localhost:8080/"
        },
        "id": "pGXkz2OMKsbz",
        "outputId": "503b93b6-4b62-4cc6-80d0-ff6eed1e43e8"
      },
      "outputs": [
        {
          "output_type": "stream",
          "name": "stderr",
          "text": [
            "100%|██████████| 1/1 [00:00<00:00, 16.29it/s]"
          ]
        },
        {
          "output_type": "stream",
          "name": "stdout",
          "text": [
            "[0 0 1 0 1] 30.602917768722925 26.3063074961493 8.752311299335453 [11.62016076  8.80089016]\n"
          ]
        },
        {
          "output_type": "stream",
          "name": "stderr",
          "text": [
            "\n"
          ]
        }
      ],
      "source": [
        "# Initialize variables\n",
        "cf = 3\n",
        "pf = 2\n",
        "n = 5\n",
        "m = 2\n",
        "from tqdm import *\n",
        "\n",
        "# Setup simulation\n",
        "for i in tqdm([78]):\n",
        "\n",
        "    # Generate the matrix\n",
        "    np.random.seed(i)\n",
        "    cost = np.exp(cf*np.random.rand(m,n))\n",
        "    process = np.exp(pf*np.random.rand(m,n))\n",
        "\n",
        "    # total time constraint\n",
        "    time = np.sum(process)*np.random.rand()\n",
        "\n",
        "    # Call the GAP function with the matrices P and C, and the time constraint T.\n",
        "    final, z0, *_ = GAP(process, cost, time, show=True)\n",
        "    if(final is None):\n",
        "        print(\"There is no feasible solution!\")\n",
        "    else:\n",
        "        print(final, z0, costfactor(final, cost), time, timefactor(final, process))"
      ]
    },
    {
      "cell_type": "code",
      "execution_count": 31,
      "metadata": {
        "colab": {
          "base_uri": "https://localhost:8080/"
        },
        "id": "n6V_DKLMLRc7",
        "outputId": "f685e709-57b0-491a-af24-f7a8b935ae41"
      },
      "outputs": [
        {
          "output_type": "stream",
          "name": "stdout",
          "text": [
            "2.45 ms ± 256 µs per loop (mean ± std. dev. of 7 runs, 100 loops each)\n",
            "20.4 ms ± 393 µs per loop (mean ± std. dev. of 7 runs, 10 loops each)\n",
            "78.8 ms ± 10.7 ms per loop (mean ± std. dev. of 7 runs, 10 loops each)\n",
            "631 ms ± 137 ms per loop (mean ± std. dev. of 7 runs, 1 loop each)\n",
            "1.97 s ± 888 ms per loop (mean ± std. dev. of 7 runs, 1 loop each)\n"
          ]
        }
      ],
      "source": [
        "# Setup variables\n",
        "cf = 3\n",
        "pf = 2\n",
        "from tqdm import *\n",
        "np.random.seed(0)\n",
        "\n",
        "# Generate random matrices C and P using the dimensions 'm' by 'n' and predefined scaling factors 'cf' and 'pf'.\n",
        "def perf(y, x, cf, pf):\n",
        "    for z in (range(1)):\n",
        "        cost = np.exp(cf * np.random.rand(x, y))\n",
        "        process = np.exp(pf * np.random.rand(x, y))\n",
        "        time = np.sum(process) * np.random.rand()\n",
        "        res, f, *_ = GAP(process, cost, time)\n",
        "\n",
        "# Benchmarking\n",
        "%timeit perf(10, 5, cf, pf)\n",
        "%timeit perf(50, 5, cf, pf)\n",
        "%timeit perf(100, 5, cf, pf)\n",
        "%timeit perf(300, 5, cf, pf)\n",
        "%timeit perf(500, 5, cf, pf)\n",
        "#%timeit perf(1000, 5, cf, pf)\n",
        "#%timeit perf(5000, 20, cf, pf)"
      ]
    },
    {
      "cell_type": "code",
      "execution_count": 32,
      "metadata": {
        "colab": {
          "base_uri": "https://localhost:8080/",
          "height": 487
        },
        "id": "DUgj_DYnLrMU",
        "outputId": "eb01f2b7-7abb-47d3-e200-04304e0c0dd0"
      },
      "outputs": [
        {
          "output_type": "display_data",
          "data": {
            "text/plain": [
              "<Figure size 1000x500 with 1 Axes>"
            ],
            "image/png": "[encoded data removed]"
          },
          "metadata": {}
        }
      ],
      "source": [
        "# Create dataframes\n",
        "# data_frame = pd.DataFrame.from_dict({10:0.00954, 50:0.0567, 100:0.159, 300:1.23, 500:2.05, 1000:6.27},orient='index')\n",
        "\n",
        "# Sort the dataframe\n",
        "# sorted_data_frame = data_frame.sort_index()\n",
        "\n",
        "# Plot the graph\n",
        "# sorted_data_frame.plot()\n",
        "\n",
        "import pandas as pd\n",
        "import matplotlib.pyplot as plt\n",
        "\n",
        "# Create a DataFrame from a dictionary with an appropriate column name\n",
        "data_frames = pd.DataFrame.from_dict({10: 0.00954, 50: 0.0567, 100: 0.159, 300: 1.23, 500: 2.05, 1000: 6.27}, orient='index', columns=['Execution Time'])\n",
        "\n",
        "# Sort the DataFrame by index (problem size)\n",
        "sorted_data_frames = data_frames.sort_index()\n",
        "\n",
        "# Plotting the DataFrame\n",
        "# Adding markers for each data point\n",
        "ax = sorted_data_frames.plot(figsize =(10, 5), linestyle='-', color='r')\n",
        "\n",
        "# Title of the plot\n",
        "ax.set_title('Execution Time vs Mission')\n",
        "\n",
        "# X-axis label\n",
        "ax.set_xlabel('Mission')\n",
        "\n",
        "# Y-axis label\n",
        "ax.set_ylabel('Execution Time (seconds)')\n",
        "\n",
        "# Adding a grid for better readability\n",
        "plt.grid(True)\n",
        "\n",
        "# Display the plot\n",
        "plt.show()"
      ]
    },
    {
      "cell_type": "code",
      "execution_count": 37,
      "metadata": {
        "colab": {
          "base_uri": "https://localhost:8080/"
        },
        "id": "4-liwBaELvJL",
        "outputId": "7d65dc0f-8eef-4a20-a537-7635778c1cc2"
      },
      "outputs": [
        {
          "output_type": "stream",
          "name": "stdout",
          "text": [
            "546 ms ± 236 ms per loop (mean ± std. dev. of 7 runs, 1 loop each)\n",
            "1.72 s ± 307 ms per loop (mean ± std. dev. of 7 runs, 1 loop each)\n",
            "6.14 s ± 513 ms per loop (mean ± std. dev. of 7 runs, 1 loop each)\n",
            "23.1 s ± 1.77 s per loop (mean ± std. dev. of 7 runs, 1 loop each)\n",
            "49.2 s ± 371 ms per loop (mean ± std. dev. of 7 runs, 1 loop each)\n"
          ]
        }
      ],
      "source": [
        "# Initialize the variables\n",
        "cf = 3\n",
        "pf = 2\n",
        "from tqdm import *\n",
        "np.random.seed(0)\n",
        "\n",
        "# Take the number of missions (n), number of drones (m), and two factors (cf and pf) that influence the range of values in the matrices C and P.\n",
        "def perf(y, x, cf, pf):\n",
        "    for i in (range(1)):\n",
        "        cost = np.exp(cf * np.random.rand(x, y))\n",
        "        process = np.exp(pf * np.random.rand(x, y))\n",
        "        time = np.sum(process) * np.random.rand()\n",
        "        final, z0, *_ = GAP(process, cost, time)\n",
        "\n",
        "# Benchmarking\n",
        "%timeit perf(500, 2, cf, pf)\n",
        "%timeit perf(500, 5, cf, pf)\n",
        "%timeit perf(500, 10, cf, pf)\n",
        "%timeit perf(500, 20, cf, pf)\n",
        "%timeit perf(500, 30, cf, pf)\n",
        "#%timeit perf(500, 50, cf, pf)\n",
        "#%timeit perf(500, 100, cf, pf)\n",
        "#%timeit perf(500, 500, cf, pf)"
      ]
    },
    {
      "cell_type": "code",
      "execution_count": 34,
      "metadata": {
        "colab": {
          "base_uri": "https://localhost:8080/",
          "height": 487
        },
        "id": "j-hCTokEMO1z",
        "outputId": "cf790ca1-b2ea-4cec-c7c5-e3998b988dc5"
      },
      "outputs": [
        {
          "output_type": "display_data",
          "data": {
            "text/plain": [
              "<Figure size 1000x500 with 1 Axes>"
            ],
            "image/png": "[encoded data removed]"
          },
          "metadata": {}
        }
      ],
      "source": [
        "import pandas as pd\n",
        "import matplotlib.pyplot as plt\n",
        "\n",
        "# Dictionary of data\n",
        "dic = {2: 1.57, 5: 2.11, 10: 3.17, 20: 5.55, 30: 8.24, 50: 15, 100: 34.2}\n",
        "\n",
        "# Create DataFrame from dictionary\n",
        "data_frames = pd.DataFrame.from_dict(dic, orient='index')\n",
        "\n",
        "# Sort DataFrame by index (number of machines)\n",
        "sorted_data_frame = data_frames.sort_index()\n",
        "\n",
        "# Add markers, line, and set color\n",
        "ax = sorted_data_frame.plot(linestyle='-', color='r', figsize=(10, 5))\n",
        "# Title of the plot\n",
        "ax.set_title('Execution Time v Missions')\n",
        "# X-axis label\n",
        "ax.set_xlabel('Missions')\n",
        "# Y-axis label\n",
        "ax.set_ylabel('Execution Time (seconds)')\n",
        "# Add grid for better readability\n",
        "plt.grid(True)\n",
        "# Display the plot\n",
        "plt.show()"
      ]
    }
  ],
  "metadata": {
    "colab": {
      "provenance": []
    },
    "kernelspec": {
      "display_name": "Python 3",
      "name": "python3"
    },
    "language_info": {
      "name": "python"
    }
  },
  "nbformat": 4,
  "nbformat_minor": 0
}