{
  "cells": [
    {
      "cell_type": "markdown",
      "metadata": {
        "id": "view-in-github",
        "colab_type": "text"
      },
      "source": [
        "<a href=\"https://colab.research.google.com/github/Amalesh-A/GAP/blob/main/Drone_Resource_Allocation.ipynb\" target=\"_parent\"><img src=\"https://colab.research.google.com/assets/colab-badge.svg\" alt=\"Open In Colab\"/></a>"
      ]
    },
    {
      "cell_type": "markdown",
      "metadata": {
        "id": "iQIU0G7MBjlW"
      },
      "source": [
        "\n",
        "\n",
        "---\n",
        "\n",
        "\n",
        "Install necessary packages\n",
        "\n",
        "---\n",
        "\n"
      ]
    },
    {
      "cell_type": "code",
      "execution_count": 3,
      "metadata": {
        "colab": {
          "base_uri": "https://localhost:8080/"
        },
        "id": "cJJaldV1_hrs",
        "outputId": "1c997cc0-9a4a-4874-df0c-2179a11db914"
      },
      "outputs": [
        {
          "output_type": "stream",
          "name": "stdout",
          "text": [
            "Requirement already satisfied: matplotlib in /usr/local/lib/python3.10/dist-packages (3.7.1)\n",
            "Requirement already satisfied: contourpy>=1.0.1 in /usr/local/lib/python3.10/dist-packages (from matplotlib) (1.2.1)\n",
            "Requirement already satisfied: cycler>=0.10 in /usr/local/lib/python3.10/dist-packages (from matplotlib) (0.12.1)\n",
            "Requirement already satisfied: fonttools>=4.22.0 in /usr/local/lib/python3.10/dist-packages (from matplotlib) (4.51.0)\n",
            "Requirement already satisfied: kiwisolver>=1.0.1 in /usr/local/lib/python3.10/dist-packages (from matplotlib) (1.4.5)\n",
            "Requirement already satisfied: numpy>=1.20 in /usr/local/lib/python3.10/dist-packages (from matplotlib) (1.25.2)\n",
            "Requirement already satisfied: packaging>=20.0 in /usr/local/lib/python3.10/dist-packages (from matplotlib) (24.0)\n",
            "Requirement already satisfied: pillow>=6.2.0 in /usr/local/lib/python3.10/dist-packages (from matplotlib) (9.4.0)\n",
            "Requirement already satisfied: pyparsing>=2.3.1 in /usr/local/lib/python3.10/dist-packages (from matplotlib) (3.1.2)\n",
            "Requirement already satisfied: python-dateutil>=2.7 in /usr/local/lib/python3.10/dist-packages (from matplotlib) (2.8.2)\n",
            "Requirement already satisfied: six>=1.5 in /usr/local/lib/python3.10/dist-packages (from python-dateutil>=2.7->matplotlib) (1.16.0)\n"
          ]
        }
      ],
      "source": [
        "pip install matplotlib"
      ]
    },
    {
      "cell_type": "code",
      "execution_count": 4,
      "metadata": {
        "colab": {
          "base_uri": "https://localhost:8080/"
        },
        "id": "lZT08kYF_hmW",
        "outputId": "10208430-e2c6-4ef3-ab1c-2ab7dc25dd14"
      },
      "outputs": [
        {
          "output_type": "stream",
          "name": "stdout",
          "text": [
            "Requirement already satisfied: pandas in /usr/local/lib/python3.10/dist-packages (2.0.3)\n",
            "Requirement already satisfied: python-dateutil>=2.8.2 in /usr/local/lib/python3.10/dist-packages (from pandas) (2.8.2)\n",
            "Requirement already satisfied: pytz>=2020.1 in /usr/local/lib/python3.10/dist-packages (from pandas) (2023.4)\n",
            "Requirement already satisfied: tzdata>=2022.1 in /usr/local/lib/python3.10/dist-packages (from pandas) (2024.1)\n",
            "Requirement already satisfied: numpy>=1.21.0 in /usr/local/lib/python3.10/dist-packages (from pandas) (1.25.2)\n",
            "Requirement already satisfied: six>=1.5 in /usr/local/lib/python3.10/dist-packages (from python-dateutil>=2.8.2->pandas) (1.16.0)\n"
          ]
        }
      ],
      "source": [
        "pip install pandas"
      ]
    },
    {
      "cell_type": "code",
      "execution_count": 5,
      "metadata": {
        "colab": {
          "base_uri": "https://localhost:8080/"
        },
        "id": "FSRh2ATy_hgz",
        "outputId": "31b999ec-4c7e-4e5a-c45b-81932a601b15"
      },
      "outputs": [
        {
          "output_type": "stream",
          "name": "stdout",
          "text": [
            "Requirement already satisfied: cvxopt in /usr/local/lib/python3.10/dist-packages (1.3.2)\n"
          ]
        }
      ],
      "source": [
        "pip install cvxopt"
      ]
    },
    {
      "cell_type": "code",
      "execution_count": 6,
      "metadata": {
        "colab": {
          "base_uri": "https://localhost:8080/"
        },
        "id": "Zl8mEg9t_ha_",
        "outputId": "4f96c152-98ca-458d-b6d1-6861c8208538"
      },
      "outputs": [
        {
          "output_type": "stream",
          "name": "stdout",
          "text": [
            "Requirement already satisfied: networkx in /usr/local/lib/python3.10/dist-packages (3.3)\n"
          ]
        }
      ],
      "source": [
        "pip install networkx"
      ]
    },
    {
      "cell_type": "code",
      "execution_count": 7,
      "metadata": {
        "colab": {
          "base_uri": "https://localhost:8080/"
        },
        "id": "mxqrpQpa_hPq",
        "outputId": "e94cc64f-cf7b-4dd1-d0e3-35eac75bfa5d"
      },
      "outputs": [
        {
          "output_type": "stream",
          "name": "stdout",
          "text": [
            "Requirement already satisfied: cv in /usr/local/lib/python3.10/dist-packages (1.0.0)\n"
          ]
        }
      ],
      "source": [
        "pip install cv"
      ]
    },
    {
      "cell_type": "code",
      "execution_count": 8,
      "metadata": {
        "id": "FM3kUB_q_w-T"
      },
      "outputs": [],
      "source": [
        "%matplotlib inline"
      ]
    },
    {
      "cell_type": "markdown",
      "metadata": {
        "id": "DJEHty0_Bn4T"
      },
      "source": [
        "\n",
        "\n",
        "---\n",
        "\n",
        "\n",
        "Import libraries and set up an environment for numerical and network analysis,\n",
        "as well as optimization problems. Specifically, import **matplotlib.pyplot** for plotting graphs, **numpy** for numerical operations, and **pandas** for\n",
        "data manipulation. Also, import **cvxopt** for solving convex optimization problems, with options set to suppress progress messages during computation. The **networkx** library and its bipartite module are included for creating and manipulating complex networks and graphs. Additional standard libraries like **itertools**, **json**, and **csv** are loaded for more general programming tasks such as iterating in complex ways, handling JSON data, and reading/writing CSV files.\n",
        "\n",
        "---\n",
        "\n"
      ]
    },
    {
      "cell_type": "code",
      "execution_count": 9,
      "metadata": {
        "id": "Fm-TOtfu_w3i"
      },
      "outputs": [],
      "source": [
        "import matplotlib.pyplot as plt"
      ]
    },
    {
      "cell_type": "code",
      "execution_count": 10,
      "metadata": {
        "id": "uI8JrXKP_wwj"
      },
      "outputs": [],
      "source": [
        "import numpy as np"
      ]
    },
    {
      "cell_type": "code",
      "execution_count": 11,
      "metadata": {
        "id": "3CRSSk_3_wpT"
      },
      "outputs": [],
      "source": [
        "import pandas as pd"
      ]
    },
    {
      "cell_type": "code",
      "execution_count": 12,
      "metadata": {
        "id": "Z0OBWRWJ_whD"
      },
      "outputs": [],
      "source": [
        "from cvxopt import matrix, spmatrix, solvers"
      ]
    },
    {
      "cell_type": "code",
      "execution_count": 13,
      "metadata": {
        "id": "FxBuOCNA_6tv"
      },
      "outputs": [],
      "source": [
        "import networkx as nx"
      ]
    },
    {
      "cell_type": "code",
      "execution_count": 14,
      "metadata": {
        "id": "_6mCo2qt_6mK"
      },
      "outputs": [],
      "source": [
        "from networkx.algorithms import bipartite"
      ]
    },
    {
      "cell_type": "code",
      "execution_count": 15,
      "metadata": {
        "id": "ZLhvJElP_6cm"
      },
      "outputs": [],
      "source": [
        "import itertools"
      ]
    },
    {
      "cell_type": "code",
      "execution_count": 16,
      "metadata": {
        "id": "chG1-oDW__Rk"
      },
      "outputs": [],
      "source": [
        "import json"
      ]
    },
    {
      "cell_type": "code",
      "execution_count": 17,
      "metadata": {
        "id": "HzzSy7So__I7"
      },
      "outputs": [],
      "source": [
        "import csv"
      ]
    },
    {
      "cell_type": "code",
      "execution_count": 18,
      "metadata": {
        "id": "QsxcC5g8ACGN"
      },
      "outputs": [],
      "source": [
        "import time as tm"
      ]
    },
    {
      "cell_type": "code",
      "execution_count": 19,
      "metadata": {
        "id": "reOWeTtcq_Qh"
      },
      "outputs": [],
      "source": [
        "eps = 1e-10\n",
        "solvers.options['show_progress'] = False"
      ]
    },
    {
      "cell_type": "markdown",
      "metadata": {
        "id": "21YZCiFUPP6B"
      },
      "source": [
        "\n",
        "\n",
        "---\n",
        "\n",
        "\n",
        "In the generalized assignment problem, we are given a collection of 'n' jobs  \n",
        "to be assigned to 'm' machines. Each job is to be assigned to exactly one machine; if it is assigned to a machine, then it requires\n",
        "time units of processing, and incurs a cost of c_ij. Furthermore, we are given a time bound that limits the total processing of each machine . The aim is to find a feasible assignment of minimum total cost.\n",
        "\n",
        "This can be adopted for our problem,\n",
        "*   Set of missions:\n",
        "\n",
        "Each mission is represented as a tuple containing several attributes: M = (O, DP, U, R)\n",
        "where 'O' represents the objective of the mission, 'DP' representes the data products anticipated from the mission, 'U' representst the urgency associated with the mission, while 'R' represents the risk associated.\n",
        "\n",
        "\n",
        "*   Set of resources:\n",
        "\n",
        "Each resource is represented as a tuple containing several attributes: R = (PT, PL, PSW, HRI, FL, MAN, SSW)\n",
        "where 'PT' represents the platform, 'PL' represents the required payload, 'PSW' represents the post-processing software, 'HRI' represents the human-robot interaction support, 'FL' represents the  flight autonomy, 'MAN' represents the necessary manual skills, and 'SSW' represents the required special software for the mission."
      ]
    },
    {
      "cell_type": "markdown",
      "metadata": {
        "id": "lvVg9YT1DLpM"
      },
      "source": [
        "\n",
        "---\n",
        "\n",
        "Calculate an initial solution using linear programming, \\\\\n",
        "Construct a graph based on this solution, and then \\\\\n",
        "Apply a deterministic rounding technique to refine the solution.\n",
        "\n",
        "---\n",
        "\n"
      ]
    },
    {
      "cell_type": "code",
      "execution_count": 20,
      "metadata": {
        "id": "W1MMtBsbrEIs"
      },
      "outputs": [],
      "source": [
        "def GAP(p,c,T, show=False):\n",
        "  # Capture the current time and calculate initial linear programming solution\n",
        "    time0 = tm.perf_counter()\n",
        "    solution, objective_value, status = LinearPrgSoln(p, c, T)\n",
        "\n",
        "    # Capture the time immediately after the linear programming solution to calculate the duration of this phase.\n",
        "    time1 = tm.perf_counter()\n",
        "\n",
        "    # Check if a valid solution exists\n",
        "    if solution is None:\n",
        "      return None, objective_value, status, time1 - time0, np.nan\n",
        "\n",
        "    # Capture the time before starting the graph building\n",
        "    time2 = tm.perf_counter()\n",
        "\n",
        "    # Construct a graph using the solution\n",
        "    consGraph = graphbuilder(solution, p)\n",
        "    final = deterministicRounding(consGraph, c, show)\n",
        "\n",
        "    # Capture the time after completing the deterministic rounding process\n",
        "    time3 = tm.perf_counter()\n",
        "    return final, objective_value, status, time1 - time0, time3 - time2"
      ]
    },
    {
      "cell_type": "markdown",
      "metadata": {
        "id": "rWfAWuP-E3Lq"
      },
      "source": [
        "\n",
        "\n",
        "---\n",
        "\n",
        "Solve the linear programming problem based on the provided processtime matrix, costmatrix, and timebound\n",
        "\n",
        "---\n",
        "\n"
      ]
    },
    {
      "cell_type": "code",
      "execution_count": 21,
      "metadata": {
        "id": "Iri0QIwUrEQj"
      },
      "outputs": [],
      "source": [
        "def LinearPrgSoln(processtime, costmatrix, timebound):\n",
        "\n",
        "        # Getting LP dimensions: Extract the dimensions of the processtime matrix.\n",
        "    x, y = processtime.shape\n",
        "\n",
        "    # Create an empty array\n",
        "    arr = np.empty(x*y)\n",
        "\n",
        "    # Initialize a list to construct a sparse matrix for upper bound constraints.\n",
        "    UpperboundA = []\n",
        "\n",
        "    # Construct the upper bound constraint vector by repeating timebound for each constraint\n",
        "    UpperboundB = np.concatenate((np.full(x, timebound), np.zeros(2*x*y)))\n",
        "\n",
        "    # Initialize Equality Constraint Matrix\n",
        "    ECA = np.ones(x*y)\n",
        "\n",
        "    # Initialize Equality Constraint Vector\n",
        "    ECB = np.ones(y)\n",
        "\n",
        "    # Indices for sparse data types\n",
        "    UpperboundAi = []\n",
        "    UpperboundAj = []\n",
        "    ECAi = []\n",
        "    ECAj = []\n",
        "\n",
        "    # Construct Coefficients and Constraints\n",
        "    for i in range(x):\n",
        "      for j in range(y):\n",
        "\n",
        "            # construct coefficient vector\n",
        "            arr[i * y + j] = costmatrix[i, j]\n",
        "\n",
        "            # construct equality constraint matrix\n",
        "            ECAi.append(j)\n",
        "            ECAj.append(i * y + j)\n",
        "\n",
        "            # construct entries to upper bound matrix\n",
        "            UpperboundA.append(processtime[i, j])\n",
        "            UpperboundAi.append(i)\n",
        "            UpperboundAj.append(i*y+j)\n",
        "            UpperboundA.append(-1)\n",
        "            UpperboundAi.append(x + i * y + j)\n",
        "            UpperboundAj.append(i * y + j)\n",
        "\n",
        "            # If timebound is a scalar, convert it to an array with the same value for each element\n",
        "            if isinstance(timebound, (int, float)):\n",
        "              timebound = np.full(x, timebound)\n",
        "\n",
        "            if processtime[i, j] > timebound[i]:\n",
        "              UpperboundA.append(1)\n",
        "              UpperboundAi.append(x + x * y + i * y + j)\n",
        "              UpperboundAj.append(i * y + j)\n",
        "\n",
        "    costVector = matrix(arr)\n",
        "\n",
        "    constraintMatrix = spmatrix(UpperboundA, UpperboundAi, UpperboundAj, size=(x + 2 * x * y, x * y))\n",
        "\n",
        "    upperbound = matrix(UpperboundB)\n",
        "\n",
        "    eqConstraint = spmatrix(ECA, ECAi, ECAj, size=(y, x * y))\n",
        "\n",
        "    eqTargetValue = matrix(ECB)\n",
        "\n",
        "    # get LP solution\n",
        "    solution = solvers.lp(costVector, constraintMatrix, upperbound, eqConstraint, eqTargetValue, solver='glpk')\n",
        "\n",
        "    if solution['status'] == 'primal infeasible':\n",
        "      return None, np.nan, solution['status']\n",
        "\n",
        "    return np.reshape(np.array(solution['x']), (x, y)), solution['primal objective'], solution['status']"
      ]
    },
    {
      "cell_type": "markdown",
      "metadata": {
        "id": "Y1pxe52oE5gp"
      },
      "source": [
        "\n",
        "\n",
        "---\n",
        "\n",
        "Convert the LP solution to a bipartite graph with fractional edge weights where one side represents jobs and the other side represents slots.\n",
        "\n",
        "---\n",
        "\n"
      ]
    },
    {
      "cell_type": "code",
      "execution_count": 22,
      "metadata": {
        "id": "bEjKSocxrEZD"
      },
      "outputs": [],
      "source": [
        "def graphbuilder(matx, processtime,):\n",
        "\n",
        "    # Matrix dimensions\n",
        "    x = matx.shape[0]\n",
        "    y = matx.shape[1]\n",
        "\n",
        "    # Initialize the graph array\n",
        "    grapharr = np.zeros((y, x, y))\n",
        "\n",
        "    # Loop over drones\n",
        "    for i in range(x):\n",
        "\n",
        "        # Current slot in drones i\n",
        "        s = 0\n",
        "\n",
        "        # Space left in current slot\n",
        "        left = 1\n",
        "\n",
        "        # Sort missions by process time\n",
        "        xin = np.argsort(-processtime[i])\n",
        "\n",
        "        # Loop over sorted missions\n",
        "        for j in xin:\n",
        "\n",
        "            # Assignment Logic\n",
        "            yin = matx[i, j]\n",
        "            if yin <= left:\n",
        "\n",
        "                # Fit mission in the current slot\n",
        "                grapharr[j, i, s] = yin\n",
        "                left -= yin\n",
        "\n",
        "            else:\n",
        "                grapharr[j, i, s] = left\n",
        "                s += 1\n",
        "                grapharr[j, i, s] = yin - left\n",
        "                left = 1 - (yin - left)\n",
        "\n",
        "    return grapharr"
      ]
    },
    {
      "cell_type": "markdown",
      "metadata": {
        "id": "NgzGCRJ4FL1x"
      },
      "source": [
        "\n",
        "\n",
        "---\n",
        "\n",
        "\n",
        "Deterministicly round the input fractional min-cost perfect matching to a integral one and output it.\n",
        "\n",
        "\n",
        "---\n",
        "\n"
      ]
    },
    {
      "cell_type": "code",
      "execution_count": 23,
      "metadata": {
        "id": "nmSoxQ9M6Bh4"
      },
      "outputs": [],
      "source": [
        "def deterministicRounding(arr, costmatrix, show=False):\n",
        "\n",
        "    # Extract dimensions from the Array 'arr'\n",
        "    x, y, z = arr.shape\n",
        "\n",
        "    # Initialize an array of size n and fill it with -1\n",
        "    t_arr = np.ones(x, dtype='int')*(-1)\n",
        "\n",
        "    # Reshape t_arr\n",
        "    new_arr = np.reshape(arr, (arr.shape[0], y * z))\n",
        "\n",
        "    # Preprocessing - Eliminate the edge with weight 1\n",
        "    for i in range(x):\n",
        "        for j in range(y * z):\n",
        "            if(new_arr[i,j] > 1-eps):\n",
        "                t_arr[i] = j//z\n",
        "                new_arr[i,j] = 0\n",
        "\n",
        "    # Assign all the missions\n",
        "    while(list(t_arr).count(-1) != 0):\n",
        "\n",
        "        # Find a cycle\n",
        "        cycle = bipartite(new_arr)\n",
        "\n",
        "        # Call round_cycle to process the cycle found by bipartite()\n",
        "        f0 = round_cycle(new_arr, cycle, z, costmatrix)\n",
        "        # Update the result and the matrix\n",
        "        if(f0.shape[0] != 0):\n",
        "            for j in range(f0.shape[0]):\n",
        "                t_arr[f0[j,0]]= f0[j,1] //z\n",
        "                new_arr[f0[j,0]][f0[j,1]]=0\n",
        "\n",
        "    return t_arr"
      ]
    },
    {
      "cell_type": "markdown",
      "metadata": {
        "id": "4pGw6HB5FUwE"
      },
      "source": [
        "\n",
        "---\n",
        "\n",
        "Find a cycle or an augmenting path in a bipartite graph.\n",
        "\n",
        "\n",
        "---\n",
        "\n"
      ]
    },
    {
      "cell_type": "code",
      "execution_count": 24,
      "metadata": {
        "id": "7cwv91f26PJH"
      },
      "outputs": [],
      "source": [
        "def bipartite(matx):\n",
        "\n",
        "    # Initialize lists for tracking\n",
        "    left = []\n",
        "    right = []\n",
        "\n",
        "    # Find non-zero columns\n",
        "    temp = np.where(np.sum(matx, axis = 0)> eps)[0]\n",
        "\n",
        "    # Copy of the graph\n",
        "    dup = np.copy(matx)\n",
        "    result = rdfs(dup, left, right, temp)\n",
        "    if(result is None):\n",
        "        print(dup)\n",
        "    return result\n",
        "\n",
        "def ldfs(matx, left, right, l):\n",
        "\n",
        "    # Initialize the left path\n",
        "    left.append(-1)\n",
        "\n",
        "    # Loop over starting nodes\n",
        "    for i in range(len(l)):\n",
        "\n",
        "        # Set current node\n",
        "        left[-1]=l[i]\n",
        "\n",
        "        # Current node connections\n",
        "        s = left[-1]\n",
        "        t = right[-1]\n",
        "\n",
        "        # Remove edge temporarily\n",
        "        matx[s,t]=0\n",
        "\n",
        "        # Find connections\n",
        "        llist = np.where(matx[left[-1],:] > eps)[0]\n",
        "\n",
        "        # Checks if the first node in the right list is in the newly found connections,\n",
        "        # which would indicate a cycle has been completed.\n",
        "        if(right[0] in llist):\n",
        "\n",
        "            # If a cycle is detected, appends the start node of right to right to complete the cycle,\n",
        "            # construct a cycle list with left and right, and return it.\n",
        "            right.append(right[0])\n",
        "            cyc = [left, right]\n",
        "            return cyc\n",
        "\n",
        "        # Recursive DFS call\n",
        "        cyc = rdfs(matx, left, right, llist)\n",
        "\n",
        "        # Cycle found in subsequent calls\n",
        "        if(cyc != None):\n",
        "            return cyc\n",
        "\n",
        "        # Restore edge if no cycle is found\n",
        "        if(len(right)!= 0):\n",
        "            matx[s,t]=1\n",
        "\n",
        "    # Backtrack\n",
        "    left.pop()\n",
        "    return None\n",
        "\n",
        "def rdfs(matx, left, right, l):\n",
        "\n",
        "    # Initialize the left path\n",
        "    right.append(-1)\n",
        "\n",
        "    # Loop over starting nodes\n",
        "    for i in range(len(l)):\n",
        "\n",
        "        # Set current node\n",
        "        right[-1]=l[i]\n",
        "\n",
        "        # Current node connections\n",
        "        s = -1\n",
        "        t = right[-1]\n",
        "\n",
        "        # Handle existing left path\n",
        "        if(len(left)>0):\n",
        "            s = left[-1]\n",
        "            matx[s,t]=0\n",
        "\n",
        "        # Find connections\n",
        "        rlist = np.where(matx[:,t] >eps)[0]\n",
        "\n",
        "        # Cycle completion check\n",
        "        if(rlist.shape[0] == 0):\n",
        "            if(np.where(matx[:,right[0]]>eps)[0].shape[0] == 0):\n",
        "                cycle = [left, right]\n",
        "                return cycle\n",
        "\n",
        "        # Recursive DFS call\n",
        "        cycle = ldfs(matx, left, right, rlist)\n",
        "\n",
        "        # Cycle found in subsequent calls\n",
        "        if(cycle != None):\n",
        "            return cycle\n",
        "\n",
        "        # Restore edge if no cycle is found\n",
        "        if(len(left)>0):\n",
        "            matx[s,t]=1\n",
        "\n",
        "    # Backtrack\n",
        "    right.pop()\n",
        "    return None"
      ]
    },
    {
      "cell_type": "markdown",
      "metadata": {
        "id": "WELRspgUF_qR"
      },
      "source": [
        "\n",
        "---\n",
        "Adjust the matrix representing a solution to adhere more closely to integer\n",
        "constraints by rounding values within a specified cycle. It determines the optimal rounding direction based on the costs and adjusts the matrix elements accordingly, ensuring that no element exceeds 1 or falls below 0 while trying to minimize the cost.\n",
        "\n",
        "---\n",
        "\n",
        "\n"
      ]
    },
    {
      "cell_type": "code",
      "execution_count": 25,
      "metadata": {
        "id": "W-xQzm_L6iK-"
      },
      "outputs": [],
      "source": [
        "def round_cycle(arr, cycle, k, costmatrix):\n",
        "\n",
        "    # Initialize variables\n",
        "    dir = 0\n",
        "    length = len(cycle[0])\n",
        "    for i in range(length):\n",
        "        dir += costmatrix[cycle[1][i]// k][cycle[0][i]]-costmatrix[cycle[1][i+1]// k][cycle[0][i]]\n",
        "\n",
        "    if(dir > eps):\n",
        "        cycle[0] = cycle[0][::-1]\n",
        "        cycle[1] = cycle[1][::-1]\n",
        "\n",
        "    x_1 = np.amin([1-arr[cycle[0][i], cycle[1][i]] for i in range(length)])\n",
        "    x_2 = np.amin([arr[cycle[0][i], cycle[1][i+1]] for i in range(length)])\n",
        "    mini_mum = min([x_1, x_2])\n",
        "    f0 = []\n",
        "    current = cycle[1][0]\n",
        "    for i in range(length):\n",
        "\n",
        "        m = cycle[0][i]\n",
        "        arr[m][current] +=  mini_mum\n",
        "        if(arr[m][current] > 1-eps):\n",
        "            f0.append([m, current])\n",
        "\n",
        "        current = cycle[1][i+1]\n",
        "        arr[m][current] -=  mini_mum\n",
        "        if(arr[m][current] < eps):\n",
        "            arr[m][current] = 0\n",
        "\n",
        "    return np.array(f0)"
      ]
    },
    {
      "cell_type": "markdown",
      "metadata": {
        "id": "1AHMn0B2G_0Q"
      },
      "source": [
        "\n",
        "\n",
        "---\n",
        "\n",
        "\n",
        "Calculate the total cost of a solution represented by the 'final' array, where each element in final specifies a chosen option for each index, and the costmatrix provides the associated costs for these choices. It sums up the costs for all valid (non-negative) choices in the solution.\n",
        "\n",
        "---\n",
        "\n"
      ]
    },
    {
      "cell_type": "code",
      "execution_count": 26,
      "metadata": {
        "id": "_q4HEKBG6tdf"
      },
      "outputs": [],
      "source": [
        "def costfactor(final, costmatrix):\n",
        "    x = 0\n",
        "    for z in range(len(final)):\n",
        "        if(final[z]>= 0):\n",
        "            x += costmatrix[final[z], z]\n",
        "    return x"
      ]
    },
    {
      "cell_type": "markdown",
      "metadata": {
        "id": "LL1DMR1lHMTp"
      },
      "source": [
        "\n",
        "---\n",
        "\n",
        "Compute the total processing time for each option in a given scenario. It does this by iterating through the final array, where each element indicates the chosen option for an index, and adds the corresponding processing times from the processtime matrix to the appropriate option in a cumulative sum array x.\n",
        "\n",
        "---\n"
      ]
    },
    {
      "cell_type": "code",
      "execution_count": 27,
      "metadata": {
        "id": "_oo4WKBIGMg2"
      },
      "outputs": [],
      "source": [
        "def timefactor(final, processtime):\n",
        "    x = np.zeros((processtime.shape[0]))\n",
        "    for z in range(len(final)):\n",
        "        x[final[z]]+= processtime[final[z], z]\n",
        "    return x"
      ]
    },
    {
      "cell_type": "markdown",
      "metadata": {
        "id": "vZZqqbRWHn57"
      },
      "source": [
        "\n",
        "\n",
        "---\n",
        "Calculate the total cost of a configuration described by the matrix arr, which contains allocation information across multiple options. It multiplies each element of arr by the corresponding cost in costmatrix and sums up these values to compute the overall cost for the entire configuration, considering all possible combinations of options and allocations.\n",
        "\n",
        "---\n",
        "\n"
      ]
    },
    {
      "cell_type": "code",
      "execution_count": 28,
      "metadata": {
        "id": "1qCQ7jtmGMV9"
      },
      "outputs": [],
      "source": [
        "def cost_arr(arr, costmatrix, n, m):\n",
        "    x = 0\n",
        "    for i in range(n):\n",
        "        for j in range(m):\n",
        "            for k in range(n):\n",
        "                x += costmatrix[j,i] * arr[i,j*n+k]\n",
        "    return x"
      ]
    },
    {
      "cell_type": "code",
      "execution_count": 29,
      "metadata": {
        "colab": {
          "base_uri": "https://localhost:8080/"
        },
        "id": "7qOwej5w6w9e",
        "outputId": "dcde0ef5-c999-475b-9115-5f407734a2b3"
      },
      "outputs": [
        {
          "output_type": "stream",
          "name": "stdout",
          "text": [
            "Problem appears to be infeasible.\n",
            "Problem appears to be infeasible.\n",
            "[3 3 0 2 1 2 0 4 1 4 2 1 3 4 0 0 1 0 2 4] 34.12015705153035 33.84623349259874 15.621306373964408 16.491465657304182\n",
            "[0 3 4 1 2 0 4 1 3 2 3 1 0 4 1 1 0 0 0 3] 27.83238836342375 27.745152086548657 14.150339750233783 16.250196574281325\n",
            "[1 2 3 3 3 1 3 0 2 0 0 1 4 4 1 2 3 2 4 3] 38.32130927949427 38.040220856136166 14.184193505904794 16.54072067998484\n",
            "Problem appears to be infeasible.\n",
            "[4 4 3 4 3 3 1 2 2 0 0 3 2 1 1 1 3 0 0 4] 43.55274324921271 40.15516717029217 8.294769564866998 11.991589732642609\n",
            "[0 1 4 3 4 3 0 2 0 1 4 0 2 4 1 3 2 2 2 1] 83.43735905909108 67.7957857796355 7.2094048935593085 10.034109706579427\n",
            "[4 2 0 1 0 3 4 1 4 2 4 3 2 2 0 0 0 3 1 4] 49.57906386560696 46.49639930117689 10.901493619417957 13.140249555098377\n",
            "[4 4 3 1 0 3 0 2 1 1 1 0 4 0 3 2 2 3 4 1] 34.992538377857954 34.76487058683857 14.235023371795911 16.910900642390107\n",
            "[3 4 2 2 3 2 0 1 1 1 4 1 4 1 0 3 0 3 2 4] 38.48175385311726 37.68231628658865 12.096797039051719 15.970530148117476\n",
            "Problem appears to be infeasible.\n",
            "[1 0 2 1 2 4 2 4 3 1 4 0 3 3 4 1 1 4 3 0] 44.35382559056817 42.2860504235286 7.655780680703174 9.571949543899198\n",
            "[0 1 1 2 3 2 1 4 4 2 4 1 0 4 2 4 1 3 0 0] 36.016203062443175 35.07555890293194 14.16660303432515 16.88283472149234\n",
            "[2 1 0 4 1 4 2 0 3 0 2 0 2 2 1 0 1 4 0 1] 36.29435306787964 35.347891305183985 14.224173188773305 15.999142110851325\n",
            "[2 2 1 3 1 0 0 4 4 2 4 4 4 2 0 1 1 0 3 3] 38.05046938286211 37.72358015290966 11.849997168733545 15.89702975396131\n",
            "Problem appears to be infeasible.\n",
            "[3 2 1 0 0 2 0 4 4 1 1 3 3 3 2 2 1 0 4 4] 46.17189688596997 42.90931777708761 7.18487330456813 10.690306749184758\n",
            "Problem appears to be infeasible.\n",
            "[4 3 0 4 3 1 0 3 4 1 1 2 3 0 2 0 1 2 2 3] 40.142539771386836 38.376383942988696 9.857066822272067 13.794435693140933\n",
            "[4 3 3 3 2 2 2 2 4 3 1 1 1 4 4 0 0 0 0 1] 41.20354228624009 41.02938560077977 13.81144255496223 19.258882656695604\n",
            "[4 0 2 4 1 1 0 3 0 0 2 3 2 4 3 4 0 1 0 1] 34.078622550802486 33.241741614535684 13.127166613688514 17.249569394090585\n",
            "[0 2 0 3 0 0 3 4 3 4 3 3 1 2 4 4 1 3 3 2] 47.75764127065764 47.24491526303549 14.008656146102139 16.260754605234887\n",
            "[3 4 1 1 0 0 4 2 0 4 0 2 3 3 0 1 3 2 1 4] 62.833369666858765 59.801941228955904 7.05088789975452 9.691144269404324\n",
            "Problem appears to be infeasible.\n",
            "Problem appears to be infeasible.\n",
            "Problem appears to be infeasible.\n",
            "[0 4 4 1 3 3 1 0 2 2 2 2 0 0 3 0 1 3 1 2] 31.613924102463812 31.613924102463848 13.994299279408331 13.699208184092557\n",
            "[2 4 2 1 3 3 3 0 1 2 0 1 2 3 0 1 4 4 4 3] 38.630831418575674 36.258891708325855 10.682346916194085 14.81104399209288\n",
            "[4 0 1 3 3 3 0 2 2 1 4 0 4 1 4 4 2 2 3 1] 37.10533512439375 36.39583565102853 11.434556930615953 14.606199171438423\n",
            "[4 0 0 1 3 1 0 4 3 4 1 4 1 4 3 4 2 2 3 1] 66.28459298530404 60.97304141803116 8.222471556961171 9.09346723998778\n",
            "[0 4 2 1 2 0 2 0 1 0 1 3 4 1 4 4 3 3 3 4] 44.8419264758395 44.47028981456721 14.68623168614789 17.72761130818747\n",
            "[0 2 1 3 1 2 1 3 2 4 2 0 3 4 0 4 1 4 2 2] 46.605465536303164 42.01701359220586 9.009959636359277 12.695276620937207\n",
            "[0 1 2 4 2 3 4 4 3 3 4 0 2 0 2 1 1 3 4 0] 63.00045558352767 60.67750307847168 6.928291139445571 8.548476484405754\n",
            "[1 2 3 2 3 0 2 1 2 0 4 1 4 2 2 0 1 4 0 4] 34.492089555007716 34.42668013821624 15.181838127039278 17.17117875367878\n",
            "Problem appears to be infeasible.\n",
            "[0 4 1 3 1 1 0 2 0 2 2 1 3 2 0 2 1 4 2 3] 44.10128623703021 40.516215690951455 9.479160551142028 11.881713223653659\n",
            "Problem appears to be infeasible.\n",
            "Problem appears to be infeasible.\n",
            "[0 3 4 3 2 0 2 4 0 2 4 0 3 4 4 3 1 2 1 2] 42.36976820698063 41.78605798293172 11.849340728850978 15.486058823529833\n",
            "Problem appears to be infeasible.\n",
            "[4 2 4 4 1 3 1 2 0 0 0 3 2 2 1 4 4 1 0 2] 33.80898795067066 33.510921304894005 12.828993662109454 14.612430329135488\n",
            "[3 4 2 1 1 1 0 0 2 3 3 0 4 2 4 1 2 3 0 4] 50.59086078342299 48.02515752562714 8.714937750999132 9.955190657654102\n",
            "Problem appears to be infeasible.\n",
            "[1 2 0 3 4 3 3 1 4 0 0 1 1 4 2 3 2 4 0 4] 67.22233283418191 61.9158619078664 7.638273677809543 9.9579096535436\n",
            "[2 1 3 1 2 3 4 4 2 1 0 0 4 4 1 2 0 3 0 0] 38.32351960937608 37.71313759381105 10.118599400901159 12.93446011700922\n",
            "[4 1 4 0 2 1 0 4 4 1 4 0 2 1 4 0 2 0 0 2] 45.529094459809706 42.5330890879917 13.117326541903575 17.814112407872134\n",
            "[2 3 2 4 3 4 4 1 4 2 1 0 2 1 1 3 2 0 3 0] 43.18657893157308 41.505599110220636 10.063758380764327 13.99967518129609\n",
            "[0 1 1 4 4 3 4 4 2 2 3 1 0 4 1 1 0 2 3 4] 34.14355634987905 33.54312702646731 12.210774837997514 16.40595701899499\n",
            "[0 3 1 4 3 1 1 2 1 4 0 0 2 4 3 1 2 2 2 3] 76.22513939402243 71.98318798612895 8.554635175784345 12.010792217229902\n",
            "[4 2 3 1 4 1 1 4 4 0 3 2 4 3 0 2 1 0 0 2] 52.29895279525095 47.37809201269766 10.440123940409691 13.36459715916276\n",
            "[3 0 1 3 0 1 1 3 1 3 2 4 0 3 4 2 2 0 3 2] 42.12918799667024 41.7271419582959 15.644885725084837 18.034257501542847\n",
            "Problem appears to be infeasible.\n",
            "[3 0 4 3 2 4 4 1 2 2 3 0 3 1 1 3 4 2 4 2] 40.14363783274025 38.51028587068072 11.841747995687811 18.004165983210836\n",
            "[0 1 3 3 0 4 1 0 2 1 1 3 1 4 3 3 4 2 1 0] 39.26925592966628 39.157047464091825 13.398417757492735 16.287016451958706\n",
            "Problem appears to be infeasible.\n",
            "Problem appears to be infeasible.\n",
            "Problem appears to be infeasible.\n",
            "[4 4 3 2 0 4 3 2 1 0 2 4 0 3 1 0 1 3 2 3] 36.36504258255024 35.837087647923155 15.414081938194427 19.520435285038126\n",
            "[3 4 0 3 1 2 4 3 0 2 4 2 3 4 1 3 0 0 1 2] 47.77243659561243 43.20308171890626 9.683757329646829 14.27038920803066\n",
            "[0 1 0 2 2 3 3 2 0 4 4 3 4 4 1 2 0 1 1 1] 42.239993567840486 40.13168293478436 11.951492916470608 18.859925209809106\n",
            "Problem appears to be infeasible.\n",
            "[0 0 0 2 3 0 1 1 4 3 1 0 4 4 2 3 2 4 3 2] 34.055878661351045 33.6346796646151 12.166648921054747 15.67996241719172\n",
            "Problem appears to be infeasible.\n",
            "Problem appears to be infeasible.\n",
            "Problem appears to be infeasible.\n",
            "[0 2 4 4 3 1 0 3 0 3 2 4 4 1 4 2 1 1 0 2] 49.532731621986755 42.58264816241697 8.636707196015736 12.102550788671232\n",
            "Problem appears to be infeasible.\n",
            "Problem appears to be infeasible.\n",
            "Problem appears to be infeasible.\n",
            "Problem appears to be infeasible.\n",
            "Problem appears to be infeasible.\n",
            "[1 1 0 3 3 3 2 1 0 2 2 4 2 1 0 4 1 4 0 4] 119.25729387919199 116.85607679618448 6.705266905472417 8.489693584617752\n",
            "[2 3 2 1 4 1 4 3 4 2 2 4 0 0 0 3 1 3 1 1] 40.309374893337356 38.49716979958591 7.7653230394160335 9.27791629689934\n",
            "[2 4 4 1 1 3 1 2 1 3 1 1 2 3 0 0 3 0 1 0] 42.85172889157163 41.83669520661123 13.77597165517181 17.560661454423652\n",
            "Problem appears to be infeasible.\n",
            "[2 0 2 1 4 0 2 4 0 3 1 0 4 4 2 1 0 3 3 4] 35.10181028530745 35.03991844805471 9.765556447268102 13.048432269198525\n",
            "Problem appears to be infeasible.\n",
            "Problem appears to be infeasible.\n",
            "[2 0 2 0 4 4 1 3 0 3 0 4 0 1 4 3 0 2 4 2] 46.30121190564756 43.98885460624056 9.577737180380986 12.360876265545595\n",
            "[1 0 0 2 4 3 0 1 0 3 1 3 4 3 2 2 4 2 0 4] 41.40854205142643 41.00793777620797 10.871056042359346 15.661997501271602\n",
            "Problem appears to be infeasible.\n",
            "[2 0 4 0 3 3 0 0 4 4 2 2 2 1 1 2 4 0 3 1] 37.68941286784571 36.489136470181094 11.789273008797029 15.97995979660679\n",
            "Problem appears to be infeasible.\n",
            "Problem appears to be infeasible.\n",
            "[2 1 3 0 4 2 2 3 0 1 0 3 0 1 2 4 1 2 3 4] 41.48525464547292 36.98304420920972 9.30109348054833 12.05646850911567\n",
            "[3 0 4 0 4 3 2 1 4 0 3 4 2 1 4 0 1 4 1 1] 32.9056713056933 32.82188425304716 11.502531073842917 13.65695275171325\n",
            "[4 2 2 4 3 4 0 1 2 0 2 1 0 0 1 1 3 3 3 4] 37.24662268220297 33.8395265239904 8.843246327278441 10.641154095566721\n",
            "[3 1 1 4 2 3 3 0 4 4 0 3 3 4 4 2 0 1 0 1] 30.375166961600186 29.595589545321587 11.461683862015567 15.812920526364428\n",
            "[4 1 1 1 2 3 0 2 1 4 4 2 0 3 3 0 3 4 0 2] 46.9959003055341 43.59401821894922 8.044952224823138 11.073588109062424\n",
            "Problem appears to be infeasible.\n",
            "[0 4 4 3 1 4 1 2 0 2 3 2 0 2 0 3 1 0 0 3] 39.572418882257956 38.71258541279722 11.979536648199053 16.737254071418477\n",
            "Problem appears to be infeasible.\n",
            "Problem appears to be infeasible.\n",
            "Problem appears to be infeasible.\n",
            "Problem appears to be infeasible.\n",
            "[0 1 4 0 4 0 0 2 0 0 3 1 3 1 1 4 1 2 2 3] 94.11719825255958 91.77301816139702 6.977484746418966 10.225498538412955\n",
            "[1 1 4 3 3 3 2 4 0 1 3 2 0 1 0 1 4 2 1 4] 46.81133585270562 44.38467042923995 9.351128323865218 13.910855020217861\n",
            "Problem appears to be infeasible.\n",
            "Problem appears to be infeasible.\n"
          ]
        }
      ],
      "source": [
        "cf = 3\n",
        "pf = 2\n",
        "y = 20\n",
        "x = 5\n",
        "for i in range(100):\n",
        "    costmatrix = np.exp(cf * np.random.rand(x, y))\n",
        "    processtime = np.exp(pf * np.random.rand(x, y))\n",
        "    timebound = np.sum(processtime) * np.random.rand() * 0.05 * np.ones(x)\n",
        "    final, z0, msg, t_LP, t_Round = GAP(processtime, costmatrix, timebound)\n",
        "    if(final is None):\n",
        "        if msg == 'primal infeasible':\n",
        "            print(\"Problem appears to be infeasible.\")\n",
        "        if msg == 'unknown':\n",
        "            print(\"Status unknown.\")\n",
        "    else:\n",
        "        if msg == 'unknown':\n",
        "            print(\"Terminated early.\")\n",
        "        print(final, z0, costfactor(final, costmatrix), timebound[0], np.amax(timefactor(final, processtime)))"
      ]
    },
    {
      "cell_type": "code",
      "execution_count": 30,
      "metadata": {
        "id": "9WmNjpLJ62hG"
      },
      "outputs": [],
      "source": [
        "def read_file(filejson):\n",
        "    x1 = json.load(filejson)\n",
        "    processtime = np.array(x1['req'], dtype='float')\n",
        "    cost = np.array(x1['cost'], dtype='float')\n",
        "    time = np.array(x1['cap'], dtype='float')\n",
        "    return processtime, cost, time\n",
        "\n",
        "# get data table of ids, LP vals, and opt vals and/or UB\n",
        "data_items = {}\n",
        "ids_list = []\n",
        "with open('data.csv') as csvfile:\n",
        "    reader = csv.reader(csvfile)\n",
        "    for row in reader:\n",
        "        idee = row[0]\n",
        "        ids_list.append(idee)\n",
        "        data_items[idee] = {'n': row[1], 'm': row[2], 'LP': row[3], 'opt': row[4], 'UB': row[5]}"
      ]
    },
    {
      "cell_type": "markdown",
      "source": [
        "Check how often the algorithm finds feasible solutions versus declaring problems infeasible. : By comparing algcost to opt and algLP to LP, you can gauge how close the algorithm comes to theoretical optimums or baseline linear programming solutions. Look at the time factors (algT) versus the constraints (T). The printed ratios (algT[i]/T[i]) will show you how well the algorithm manages to stay within or optimize around the given time constraints. The timings timeLP and timeRound give insights into the computational efficiency of the linear programming phase and the rounding phase, respectively."
      ],
      "metadata": {
        "id": "3XgiosfywBu7"
      }
    },
    {
      "cell_type": "code",
      "execution_count": null,
      "metadata": {
        "colab": {
          "base_uri": "https://localhost:8080/"
        },
        "id": "1PNNS11g7HHV",
        "outputId": "018456e0-8522-4ed9-86ab-40ebcb893f70"
      },
      "outputs": [
        {
          "output_type": "stream",
          "name": "stdout",
          "text": [
            "gapa_0\n",
            "\t algcost: opt: algLP: LP:\n",
            "\t 1696.0 1698 1697.7272727272725 1697.73\n",
            "\t algT:\n",
            "\t [267. 301. 282. 318. 361.]\n",
            "\t T:\n",
            "\t [342. 342. 342. 342. 342.]\n",
            "\t algT/T:\n",
            "\t ['0.78', '0.88', '0.82', '0.93', '1.06'] \n",
            "\n",
            "gapa_1\n",
            "\t algcost: opt: algLP: LP:\n",
            "\t 3234.0 3235 3234.739130434782 3234.74\n",
            "\t algT:\n",
            "\t [688. 612. 523. 534. 623.]\n",
            "\t T:\n",
            "\t [671. 671. 671. 671. 671.]\n",
            "\t algT/T:\n",
            "\t ['1.03', '0.91', '0.78', '0.80', '0.93'] \n",
            "\n",
            "gapa_2\n",
            "\t algcost: opt: algLP: LP:\n",
            "\t 1358.0 1360 1358.556923076923 1358.56\n",
            "\t algT:\n",
            "\t [192. 146. 202. 131.  95. 195. 112. 192. 184.  66.]\n",
            "\t T:\n",
            "\t [192. 192. 192. 192. 192. 192. 192. 192. 192. 192.]\n",
            "\t algT/T:\n",
            "\t ['1.00', '0.76', '1.05', '0.68', '0.49', '1.02', '0.58', '1.00', '0.96', '0.34'] \n",
            "\n",
            "gapa_3\n",
            "\t algcost: opt: algLP: LP:\n",
            "\t 2623.0 2623 2623.0 2623\n",
            "\t algT:\n",
            "\t [245. 387. 351. 326. 239. 283. 365. 279. 266. 274.]\n",
            "\t T:\n",
            "\t [365. 365. 365. 365. 365. 365. 365. 365. 365. 365.]\n",
            "\t algT/T:\n",
            "\t ['0.67', '1.06', '0.96', '0.89', '0.65', '0.78', '1.00', '0.76', '0.73', '0.75'] \n",
            "\n",
            "gapa_4\n",
            "\t algcost: opt: algLP: LP:\n",
            "\t 1157.0 1158 1157.08 1157.08\n",
            "\t algT:\n",
            "\t [ 20. 104. 109.  91.  78.  62.  87.  31. 102.  98.  47.  42.  95.  84.\n",
            "   0. 103.  89.  99.  90.  57.]\n",
            "\t T:\n",
            "\t [100. 100. 100. 100. 100. 100. 100. 100. 100. 100. 100. 100. 100. 100.\n",
            " 100. 100. 100. 100. 100. 100.]\n",
            "\t algT/T:\n",
            "\t ['0.20', '1.04', '1.09', '0.91', '0.78', '0.62', '0.87', '0.31', '1.02', '0.98', '0.47', '0.42', '0.95', '0.84', '0.00', '1.03', '0.89', '0.99', '0.90', '0.57'] \n",
            "\n",
            "gapa_5\n",
            "\t algcost: opt: algLP: LP:\n",
            "\t 2337.0 2339 2337.3273333333336 2337.33\n",
            "\t algT:\n",
            "\t [128. 206. 206. 129. 216. 188. 137. 160. 186. 151. 143. 120. 122. 193.\n",
            " 144. 155.  83.  92. 204. 145.]\n",
            "\t T:\n",
            "\t [199. 199. 199. 199. 199. 199. 199. 199. 199. 199. 199. 199. 199. 199.\n",
            " 199. 199. 199. 199. 199. 199.]\n",
            "\t algT/T:\n",
            "\t ['0.64', '1.04', '1.04', '0.65', '1.09', '0.94', '0.69', '0.80', '0.93', '0.76', '0.72', '0.60', '0.61', '0.97', '0.72', '0.78', '0.42', '0.46', '1.03', '0.73'] \n",
            "\n",
            "gapb_0\n",
            "\t algcost: opt: algLP: LP:\n",
            "\t 1819.0 1843 1831.3294504181601 1831.33\n",
            "\t algT:\n",
            "\t [208. 215. 215. 204. 209.]\n",
            "\t T:\n",
            "\t [209. 209. 209. 209. 209.]\n",
            "\t algT/T:\n",
            "\t ['1.00', '1.03', '1.03', '0.98', '1.00'] \n",
            "\n",
            "gapb_1\n",
            "\t algcost: opt: algLP: LP:\n",
            "\t 3537.0 3552 3547.411575237463 3547.41\n",
            "\t algT:\n",
            "\t [479. 509. 484. 509. 494.]\n",
            "\t T:\n",
            "\t [493. 493. 493. 493. 493.]\n",
            "\t algT/T:\n",
            "\t ['0.97', '1.03', '0.98', '1.03', '1.00'] \n",
            "\n",
            "gapb_2\n",
            "\t algcost: opt: algLP: LP:\n",
            "\t 1396.0 1407 1400.6719575609286 1400.67\n",
            "\t algT:\n",
            "\t [133. 152. 104. 136. 131. 136. 136. 144. 130. 122.]\n",
            "\t T:\n",
            "\t [131. 131. 131. 131. 131. 131. 131. 131. 131. 131.]\n",
            "\t algT/T:\n",
            "\t ['1.02', '1.16', '0.79', '1.04', '1.00', '1.04', '1.04', '1.10', '0.99', '0.93'] \n",
            "\n",
            "gapb_3\n",
            "\t algcost: opt: algLP: LP:\n",
            "\t 2801.0 2827 2815.0506728107584 2815.05\n",
            "\t algT:\n",
            "\t [243. 232. 254. 251. 250. 251. 251. 238. 244. 248.]\n",
            "\t T:\n",
            "\t [243. 243. 243. 243. 243. 243. 243. 243. 243. 243.]\n",
            "\t algT/T:\n",
            "\t ['1.00', '0.95', '1.05', '1.03', '1.03', '1.03', '1.03', '0.98', '1.00', '1.02'] \n",
            "\n",
            "gapb_4\n",
            "\t algcost: opt: algLP: LP:\n",
            "\t 1148.0 1166 1155.1814331117193 1155.18\n",
            "\t algT:\n",
            "\t [84. 81. 68. 59. 80. 63. 69. 75. 75. 62. 71. 58. 64. 51. 84. 38. 78. 56.\n",
            " 72. 66.]\n",
            "\t T:\n",
            "\t [68. 68. 68. 68. 68. 68. 68. 68. 68. 68. 68. 68. 68. 68. 68. 68. 68. 68.\n",
            " 68. 68.]\n",
            "\t algT/T:\n",
            "\t ['1.24', '1.19', '1.00', '0.87', '1.18', '0.93', '1.01', '1.10', '1.10', '0.91', '1.04', '0.85', '0.94', '0.75', '1.24', '0.56', '1.15', '0.82', '1.06', '0.97'] \n",
            "\n",
            "gapb_5\n",
            "\t algcost: opt: algLP: LP:\n",
            "\t 2324.0 2339 2331.1379844826533 2331.14\n",
            "\t algT:\n",
            "\t [136. 131. 150. 134.  99. 148. 132. 106. 144. 145. 126.  70. 140. 118.\n",
            " 123. 138. 148. 127. 128. 127.]\n",
            "\t T:\n",
            "\t [131. 131. 131. 131. 131. 131. 131. 131. 131. 131. 131. 131. 131. 131.\n",
            " 131. 131. 131. 131. 131. 131.]\n",
            "\t algT/T:\n",
            "\t ['1.04', '1.00', '1.15', '1.02', '0.76', '1.13', '1.01', '0.81', '1.10', '1.11', '0.96', '0.53', '1.07', '0.90', '0.94', '1.05', '1.13', '0.97', '0.98', '0.97'] \n",
            "\n",
            "gapc_0\n",
            "\t algcost: opt: algLP: LP:\n",
            "\t 1904.0 1931 1923.975026288118 1923.98\n",
            "\t algT:\n",
            "\t [222. 224. 258. 237. 246.]\n",
            "\t T:\n",
            "\t [221. 224. 254. 235. 232.]\n",
            "\t algT/T:\n",
            "\t ['1.00', '1.00', '1.02', '1.01', '1.06'] \n",
            "\n",
            "gapc_1\n",
            "\t algcost: opt: algLP: LP:\n",
            "\t 3443.0 3456 3450.765286081076 3450.77\n",
            "\t algT:\n",
            "\t [458. 492. 495. 503. 513.]\n",
            "\t T:\n",
            "\t [464. 485. 505. 495. 503.]\n",
            "\t algT/T:\n",
            "\t ['0.99', '1.01', '0.98', '1.02', '1.02'] \n",
            "\n",
            "gapc_2\n",
            "\t algcost: opt: algLP: LP:\n",
            "\t 1375.0 1402 1387.0097106207759 1387.01\n",
            "\t algT:\n",
            "\t [105. 113. 116. 133. 125. 132. 115. 105. 135. 115.]\n",
            "\t T:\n",
            "\t [115. 111. 121. 121. 120. 114. 112. 112. 126. 118.]\n",
            "\t algT/T:\n",
            "\t ['0.91', '1.02', '0.96', '1.10', '1.04', '1.16', '1.03', '0.94', '1.07', '0.97'] \n",
            "\n",
            "gapc_3\n",
            "\t algcost: opt: algLP: LP:\n",
            "\t 2780.0 2806 2795.407915753374 2795.41\n",
            "\t algT:\n",
            "\t [237. 256. 244. 234. 231. 257. 241. 247. 241. 235.]\n",
            "\t T:\n",
            "\t [236. 248. 241. 240. 238. 243. 238. 239. 229. 233.]\n",
            "\t algT/T:\n",
            "\t ['1.00', '1.03', '1.01', '0.97', '0.97', '1.06', '1.01', '1.03', '1.05', '1.01'] \n",
            "\n",
            "gapc_4\n",
            "\t algcost: opt: algLP: LP:\n",
            "\t 1200.0 1243 1218.9872593930672 1218.99\n",
            "\t algT:\n",
            "\t [60. 56. 63. 62. 55. 78. 72. 69. 61. 63. 76. 66. 60. 71. 55. 47. 53. 66.\n",
            " 51. 58.]\n",
            "\t T:\n",
            "\t [57. 59. 61. 56. 59. 59. 63. 57. 58. 56. 60. 62. 62. 57. 59. 58. 60. 59.\n",
            " 62. 57.]\n",
            "\t algT/T:\n",
            "\t ['1.05', '0.95', '1.03', '1.11', '0.93', '1.32', '1.14', '1.21', '1.05', '1.12', '1.27', '1.06', '0.97', '1.25', '0.93', '0.81', '0.88', '1.12', '0.82', '1.02'] \n",
            "\n",
            "gapc_5\n",
            "\t algcost: opt: algLP: LP:\n",
            "\t 2367.0 2391 2376.9054863725023 2376.91\n",
            "\t algT:\n",
            "\t [117. 135. 120. 103. 127. 119. 134. 131. 106. 118. 120. 107. 125. 116.\n",
            " 116. 132. 111. 129. 121. 116.]\n",
            "\t T:\n",
            "\t [118. 120. 115. 116. 118. 119. 119. 123. 106. 121. 120. 112. 123. 122.\n",
            " 118. 119. 120. 124. 114. 119.]\n",
            "\t algT/T:\n",
            "\t ['0.99', '1.12', '1.04', '0.89', '1.08', '1.00', '1.13', '1.07', '1.00', '0.98', '1.00', '0.96', '1.02', '0.95', '0.98', '1.11', '0.93', '1.04', '1.06', '0.97'] \n",
            "\n",
            "gapd_0\n",
            "\t algcost: opt: algLP: LP:\n",
            "\t 6230.0 6353 6345.412611885934 6345.41\n",
            "\t algT:\n",
            "\t [773. 800. 837. 888. 869.]\n",
            "\t T:\n",
            "\t [798. 760. 810. 824. 868.]\n",
            "\t algT/T:\n",
            "\t ['0.97', '1.05', '1.03', '1.08', '1.00'] \n",
            "\n",
            "gapd_1\n",
            "\t algcost: opt: algLP: LP:\n",
            "\t 12663.0  12736.196081965436 12736.2\n",
            "\t algT:\n",
            "\t [1563. 1694. 1635. 1644. 1677.]\n",
            "\t T:\n",
            "\t [1547. 1699. 1589. 1614. 1694.]\n",
            "\t algT/T:\n",
            "\t ['1.01', '1.00', '1.03', '1.02', '0.99'] \n",
            "\n",
            "gapd_2\n",
            "\t algcost: opt: algLP: LP:\n",
            "\t 6187.0  6323.45604344531 6323.46\n",
            "\t algT:\n",
            "\t [465. 385. 361. 347. 468. 436. 418. 410. 397. 368.]\n",
            "\t T:\n",
            "\t [416. 379. 385. 374. 398. 385. 388. 411. 398. 388.]\n",
            "\t algT/T:\n",
            "\t ['1.12', '1.02', '0.94', '0.93', '1.18', '1.13', '1.08', '1.00', '1.00', '0.95'] \n",
            "\n",
            "gapd_3\n",
            "\t algcost: opt: algLP: LP:\n",
            "\t 12306.0  12418.362103134965 12418.4\n",
            "\t algT:\n",
            "\t [794. 819. 774. 815. 776. 794. 867. 829. 793. 917.]\n",
            "\t T:\n",
            "\t [794. 816. 758. 776. 791. 791. 805. 805. 836. 897.]\n",
            "\t algT/T:\n",
            "\t ['1.00', '1.00', '1.02', '1.05', '0.98', '1.00', '1.08', '1.03', '0.95', '1.02'] \n",
            "\n",
            "gapd_4\n",
            "\t algcost: opt: algLP: LP:\n",
            "\t 5908.0  6142.530216504641 6142.53\n",
            "\t algT:\n",
            "\t [299. 204. 164. 218. 234. 187. 260. 187. 262. 166. 222. 102. 228. 195.\n",
            " 201. 242. 235. 216. 187. 260.]\n",
            "\t T:\n",
            "\t [207. 204. 196. 191. 189. 200. 219. 203. 219. 209. 196. 195. 207. 182.\n",
            " 217. 194. 211. 187. 201. 211.]\n",
            "\t algT/T:\n",
            "\t ['1.44', '1.00', '0.84', '1.14', '1.24', '0.94', '1.19', '0.92', '1.20', '0.79', '1.13', '0.52', '1.10', '1.07', '0.93', '1.25', '1.11', '1.16', '0.93', '1.23'] \n",
            "\n",
            "gapd_5\n",
            "\t algcost: opt: algLP: LP:\n",
            "\t 11918.0  12217.693424301258 12217.7\n",
            "\t algT:\n",
            "\t [417. 502. 460. 494. 418. 428. 357. 350. 460. 476. 395. 404. 474. 402.\n",
            " 422. 375. 424. 408. 363. 387.]\n",
            "\t T:\n",
            "\t [407. 417. 416. 418. 401. 410. 402. 379. 384. 415. 402. 404. 427. 403.\n",
            " 393. 386. 421. 406. 400. 428.]\n",
            "\t algT/T:\n",
            "\t ['1.02', '1.20', '1.11', '1.18', '1.04', '1.04', '0.89', '0.92', '1.20', '1.15', '0.98', '1.00', '1.11', '1.00', '1.07', '0.97', '1.01', '1.00', '0.91', '0.90'] \n",
            "\n",
            "e05100\n",
            "\t algcost: opt: algLP: LP:\n",
            "\t 12449.0 12681 12641.419125080416 12641.4\n",
            "\t algT:\n",
            "\t [158. 175. 223. 171. 167.]\n",
            "\t T:\n",
            "\t [156. 162. 219. 169. 174.]\n",
            "\t algT/T:\n",
            "\t ['1.01', '1.08', '1.02', '1.01', '0.96'] \n",
            "\n",
            "e05200\n",
            "\t algcost: opt: algLP: LP:\n",
            "\t 24792.0 24931 24922.0 24922\n",
            "\t algT:\n",
            "\t [321. 388. 322. 329. 375.]\n",
            "\t T:\n",
            "\t [319. 388. 327. 328. 365.]\n",
            "\t algT/T:\n",
            "\t ['1.01', '1.00', '0.98', '1.00', '1.03'] \n",
            "\n",
            "e10100\n",
            "\t algcost: opt: algLP: LP:\n",
            "\t 11477.0 11577 11543.054254892704 11543.1\n",
            "\t algT:\n",
            "\t [ 82.  89. 116.  75.  87.  78.  88.  69.  90.  91.]\n",
            "\t T:\n",
            "\t [ 78.  81. 109.  84.  87.  76.  94.  69.  95.  87.]\n",
            "\t algT/T:\n",
            "\t ['1.05', '1.10', '1.06', '0.89', '1.00', '1.03', '0.94', '1.00', '0.95', '1.05'] \n",
            "\n",
            "e10200\n",
            "\t algcost: opt: algLP: LP:\n",
            "\t 23238.0 23307 23293.856148538962 23293.9\n",
            "\t algT:\n",
            "\t [160. 198. 157. 165. 184. 182. 159. 158. 157. 168.]\n",
            "\t T:\n",
            "\t [159. 194. 163. 164. 182. 180. 158. 164. 156. 164.]\n",
            "\t algT/T:\n",
            "\t ['1.01', '1.02', '0.96', '1.01', '1.01', '1.01', '1.01', '0.96', '1.01', '1.02'] \n",
            "\n",
            "e10400\n"
          ]
        }
      ],
      "source": [
        "# Run benchmark tests\n",
        "for idee in ids_list:\n",
        "    #print(idee)\n",
        "    d = data_items[idee]\n",
        "    try:\n",
        "        #print(idee)\n",
        "        # Attempt to open and read the file\n",
        "        with open(idee + '.json', 'r') as file:\n",
        "            print(idee)\n",
        "            process, cost, time = read_file(file)\n",
        "    except Exception as e:\n",
        "        #print(f\"Failed to read {idee}.json: {e}\")\n",
        "        continue  # Skip to the next file\n",
        "    #process, cost, time = read_file(open(idee + '.json'))\n",
        "    #res, f, s, t_LP, t_Round = GAP(process, cost, time)\n",
        "    #final, z0, msg, t_LP, t_Round = GAP(processtime, costmatrix, timebound)\n",
        "    final, z0, msg, t_LP, t_Round = GAP(process, cost, time)\n",
        "    d['timeLP'] = t_LP\n",
        "    d['timeRound'] = t_Round\n",
        "    d['status'] = msg\n",
        "    if(final is None):\n",
        "        d['algLP'] = np.nan\n",
        "        d['algcost'] = np.nan\n",
        "        d['algT'] = [np.nan]\n",
        "        d['T'] = [np.nan]\n",
        "        if msg == 'primal infeasible':\n",
        "            print(\"Problem appears to be infeasible.\")\n",
        "        if msg == 'unknown':\n",
        "            print(\"Status unknown.\")\n",
        "    else:\n",
        "        if msg == 'unknown':\n",
        "            print(\"Terminated early.\")\n",
        "        d['algLP'] = z0\n",
        "        d['algcost'] = costfactor(final, cost)\n",
        "        d['algT'] = timefactor(final, process)\n",
        "        d['T'] = time\n",
        "        # Calculate the necessary metrics, including cost and time metrics,\n",
        "        # as well as ratios of calculated processing times to given time constraints\n",
        "        # Printing algorithmic cost and optimal value\n",
        "        print('\\t', \"algcost:\", \"opt:\", \"algLP:\", \"LP:\")\n",
        "        print('\\t', d['algcost'], d['opt'], d['algLP'], d['LP'])\n",
        "        print('\\t', \"algT:\")\n",
        "        print('\\t', d['algT'])\n",
        "        print('\\t', \"T:\")\n",
        "        print('\\t', d['T'])\n",
        "        # print list of ratios of times\n",
        "        print('\\t', \"algT/T:\")\n",
        "        print('\\t', [format(d['algT'][i]/d['T'][i], '.2f') for i in range(len(d['algT']))], \"\\n\")"
      ]
    },
    {
      "cell_type": "code",
      "execution_count": null,
      "metadata": {
        "id": "J8SfMv_jKhwU"
      },
      "outputs": [],
      "source": [
        "# write data\n",
        "with open('benchmark_data_glpk3.csv', 'w') as csvfile:\n",
        "    writer = csv.writer(csvfile)\n",
        "    writer.writerow(['id', 'n', 'm', 'status', 'LP', 'algLP', 'opt', 'UB', 'algcost', 'algmaxTratio', 'timeLP', 'timeRound'])\n",
        "    for idee in ids_list:\n",
        "        d = data_items[idee]\n",
        "        status = d.get('status', 'N/A')\n",
        "        algLP = d.get('algLP', 'N/A')\n",
        "        algcost = d.get('algcost', 'N/A')\n",
        "        timeLP = d.get('timeLP', 'N/A')\n",
        "        timeRound = d.get('timeRound', 'N/A')\n",
        "        if 'algT' in d:\n",
        "            algT_ratio = max([d['algT'][i] / d['T'][i] for i in range(len(d['algT']))])\n",
        "        else:\n",
        "            algT_ratio = 'N/A'\n",
        "\n",
        "        writer.writerow([idee, d['n'], d['m'], status, d['LP'], algLP, d['opt'], d['UB'], algcost, algT_ratio , timeLP, timeRound])"
      ]
    },
    {
      "cell_type": "code",
      "execution_count": null,
      "metadata": {
        "id": "HRSdvZlwKox7"
      },
      "outputs": [],
      "source": [
        "def draw(x, cycle, show=False):\n",
        "    # Early Return\n",
        "    if (show==False):\n",
        "        return\n",
        "\n",
        "    # Setup cycle edges\n",
        "    cycle_edges = []\n",
        "    for idx, j in enumerate(cycle[-1]):\n",
        "        # Add edges in addition\n",
        "        if idx != 0:\n",
        "            cycle_edges.append((\"i{}\".format(cycle[0][idx-1]), \"j{}\".format(j)))\n",
        "        if idx != len(cycle[-1])-1:\n",
        "            cycle_edges.append((\"j{}\".format(j),\"i{}\".format(cycle[0][idx])))\n",
        "\n",
        "    # Initialize the Graph\n",
        "    B = nx.Graph()\n",
        "    B.add_nodes_from(['i{}'.format(i) for i in range(x.shape[0])], bipartite=0)\n",
        "    B.add_nodes_from(['j{}'.format(i) for i in range(x.shape[1])], bipartite=1)\n",
        "\n",
        "    # Add edges from the matrix\n",
        "    B.add_edges_from([('i{}'.format(i),'j{}'.format(j))\n",
        "                      for i,j in itertools.product(range(x.shape[0]), range(x.shape[1]))\n",
        "                      if x[i,j]])\n",
        "\n",
        "    # Setup edge colors\n",
        "    edge_color = []\n",
        "    for edge in B.edges():\n",
        "        if edge not in cycle_edges and (edge[-1],edge[0]) not in cycle_edges:\n",
        "            edge_color.append(-100)\n",
        "        else:\n",
        "            try:\n",
        "                idx = cycle_edges.index(edge)\n",
        "            except:\n",
        "                idx = cycle_edges.index((edge[-1],edge[0]))\n",
        "            edge_color.append(idx%2)\n",
        "\n",
        "    # Calculate positions\n",
        "    X = set(n for n,d in B.nodes(data=True) if d['bipartite']==0)\n",
        "    Y = set(B) - X\n",
        "    pos = dict()\n",
        "    pos.update( (n, (1, int(n[1:])*60)) for i, n in enumerate(X) )\n",
        "    pos.update( (n, (2, int(n[1:])*30)) for i, n in enumerate(Y) )\n",
        "\n",
        "    # Draw graphs\n",
        "    nx.draw_networkx(B, pos=pos, with_labels=1, node_size=400,edge_color=edge_color,\n",
        "                     edge_cmap=plt.get_cmap('Paired'), edge_vmin=-1, edge_vmax=1, width=4)\n",
        "\n",
        "    plt.show()"
      ]
    },
    {
      "cell_type": "code",
      "execution_count": null,
      "metadata": {
        "id": "pGXkz2OMKsbz"
      },
      "outputs": [],
      "source": [
        "# Initialize variables\n",
        "cf = 3\n",
        "pf = 2\n",
        "n = 5\n",
        "m = 2\n",
        "from tqdm import *\n",
        "\n",
        "# Setup simulation\n",
        "for i in tqdm([78]):\n",
        "\n",
        "    # Generate the matrix\n",
        "    np.random.seed(i)\n",
        "    cost = np.exp(cf*np.random.rand(m,n))\n",
        "    process = np.exp(pf*np.random.rand(m,n))\n",
        "\n",
        "    # total time constraint\n",
        "    time = np.sum(process)*np.random.rand()\n",
        "\n",
        "    # Call the GAP function with the matrices P and C, and the time constraint T.\n",
        "    final, z0, *_ = GAP(process, cost, time, show=True)\n",
        "    if(final is None):\n",
        "        print(\"There is no feasible solution!\")\n",
        "    else:\n",
        "        print(final, z0, costfactor(final, cost), time, timefactor(final, process))"
      ]
    },
    {
      "cell_type": "code",
      "execution_count": null,
      "metadata": {
        "id": "n6V_DKLMLRc7"
      },
      "outputs": [],
      "source": [
        "# Setup variables\n",
        "cf = 3\n",
        "pf = 2\n",
        "from tqdm import *\n",
        "np.random.seed(0)\n",
        "\n",
        "# Generate random matrices C and P using the dimensions 'm' by 'n' and predefined scaling factors 'cf' and 'pf'.\n",
        "def perf(y, x, cf, pf):\n",
        "    for z in (range(1)):\n",
        "        cost = np.exp(cf * np.random.rand(x, y))\n",
        "        process = np.exp(pf * np.random.rand(x, y))\n",
        "        time = np.sum(process) * np.random.rand()\n",
        "        res, f, *_ = GAP(process, cost, time)\n",
        "\n",
        "# Benchmarking\n",
        "%timeit perf(10, 5, cf, pf)\n",
        "%timeit perf(50, 5, cf, pf)\n",
        "%timeit perf(100, 5, cf, pf)\n",
        "%timeit perf(300, 5, cf, pf)\n",
        "%timeit perf(500, 5, cf, pf)\n",
        "#%timeit perf(1000, 5, cf, pf)\n",
        "#%timeit perf(5000, 20, cf, pf)"
      ]
    },
    {
      "cell_type": "code",
      "execution_count": null,
      "metadata": {
        "id": "DUgj_DYnLrMU"
      },
      "outputs": [],
      "source": [
        "# Create dataframes\n",
        "# data_frame = pd.DataFrame.from_dict({10:0.00954, 50:0.0567, 100:0.159, 300:1.23, 500:2.05, 1000:6.27},orient='index')\n",
        "\n",
        "# Sort the dataframe\n",
        "# sorted_data_frame = data_frame.sort_index()\n",
        "\n",
        "# Plot the graph\n",
        "# sorted_data_frame.plot()\n",
        "\n",
        "import pandas as pd\n",
        "import matplotlib.pyplot as plt\n",
        "\n",
        "# Create a DataFrame from a dictionary with an appropriate column name\n",
        "data_frames = pd.DataFrame.from_dict({10: 0.00954, 50: 0.0567, 100: 0.159, 300: 1.23, 500: 2.05, 1000: 6.27}, orient='index', columns=['Execution Time'])\n",
        "\n",
        "# Sort the DataFrame by index (problem size)\n",
        "sorted_data_frames = data_frames.sort_index()\n",
        "\n",
        "# Plotting the DataFrame\n",
        "# Adding markers for each data point\n",
        "ax = sorted_data_frames.plot(figsize =(10, 5), linestyle='-', color='r')\n",
        "\n",
        "# Title of the plot\n",
        "ax.set_title('Execution Time vs Mission')\n",
        "\n",
        "# X-axis label\n",
        "ax.set_xlabel('Mission')\n",
        "\n",
        "# Y-axis label\n",
        "ax.set_ylabel('Execution Time (seconds)')\n",
        "\n",
        "# Adding a grid for better readability\n",
        "plt.grid(True)\n",
        "\n",
        "# Display the plot\n",
        "plt.show()"
      ]
    },
    {
      "cell_type": "code",
      "execution_count": null,
      "metadata": {
        "id": "4-liwBaELvJL"
      },
      "outputs": [],
      "source": [
        "# Initialize the variables\n",
        "cf = 3\n",
        "pf = 2\n",
        "from tqdm import *\n",
        "np.random.seed(0)\n",
        "\n",
        "# Take the number of missions (n), number of drones (m), and two factors (cf and pf) that influence the range of values in the matrices C and P.\n",
        "def perf(y, x, cf, pf):\n",
        "    for i in (range(1)):\n",
        "        cost = np.exp(cf * np.random.rand(x, y))\n",
        "        process = np.exp(pf * np.random.rand(x, y))\n",
        "        time = np.sum(process) * np.random.rand()\n",
        "        final, z0, *_ = GAP(process, cost, time)\n",
        "\n",
        "# Benchmarking\n",
        "%timeit perf(500, 2, cf, pf)\n",
        "%timeit perf(500, 5, cf, pf)\n",
        "%timeit perf(500, 10, cf, pf)\n",
        "%timeit perf(500, 20, cf, pf)\n",
        "%timeit perf(500, 30, cf, pf)\n",
        "#%timeit perf(500, 50, cf, pf)\n",
        "#%timeit perf(500, 100, cf, pf)\n",
        "#%timeit perf(500, 500, cf, pf)"
      ]
    },
    {
      "cell_type": "code",
      "execution_count": null,
      "metadata": {
        "id": "j-hCTokEMO1z"
      },
      "outputs": [],
      "source": [
        "import pandas as pd\n",
        "import matplotlib.pyplot as plt\n",
        "\n",
        "# Dictionary of data\n",
        "dic = {2: 1.57, 5: 2.11, 10: 3.17, 20: 5.55, 30: 8.24, 50: 15, 100: 34.2}\n",
        "\n",
        "# Create DataFrame from dictionary\n",
        "data_frames = pd.DataFrame.from_dict(dic, orient='index')\n",
        "\n",
        "# Sort DataFrame by index (number of machines)\n",
        "sorted_data_frame = data_frames.sort_index()\n",
        "\n",
        "# Add markers, line, and set color\n",
        "ax = sorted_data_frame.plot(linestyle='-', color='r', figsize=(10, 5))\n",
        "# Title of the plot\n",
        "ax.set_title('Execution Time v Missions')\n",
        "# X-axis label\n",
        "ax.set_xlabel('Missions')\n",
        "# Y-axis label\n",
        "ax.set_ylabel('Execution Time (seconds)')\n",
        "# Add grid for better readability\n",
        "plt.grid(True)\n",
        "# Display the plot\n",
        "plt.show()"
      ]
    }
  ],
  "metadata": {
    "colab": {
      "provenance": [],
      "authorship_tag": "ABX9TyNIQjussQqCM/77mV5LJ/m2",
      "include_colab_link": true
    },
    "kernelspec": {
      "display_name": "Python 3",
      "name": "python3"
    },
    "language_info": {
      "name": "python"
    }
  },
  "nbformat": 4,
  "nbformat_minor": 0
}